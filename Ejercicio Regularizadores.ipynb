{
  "nbformat": 4,
  "nbformat_minor": 0,
  "metadata": {
    "kernelspec": {
      "display_name": "Python 3",
      "language": "python",
      "name": "python3"
    },
    "language_info": {
      "codemirror_mode": {
        "name": "ipython",
        "version": 3
      },
      "file_extension": ".py",
      "mimetype": "text/x-python",
      "name": "python",
      "nbconvert_exporter": "python",
      "pygments_lexer": "ipython3",
      "version": "3.8.5"
    },
    "colab": {
      "name": "2_1_Un_primer_vistazo_a_una_Red_Neuronal.ipynb",
      "provenance": [],
      "include_colab_link": true
    },
    "accelerator": "TPU"
  },
  "cells": [
    {
      "cell_type": "markdown",
      "metadata": {
        "id": "view-in-github",
        "colab_type": "text"
      },
      "source": [
        "<a href=\"https://colab.research.google.com/github/carlosrabazo/deeplearning/blob/main/Ejercicio%20Regularizadores.ipynb\" target=\"_parent\"><img src=\"https://colab.research.google.com/assets/colab-badge.svg\" alt=\"Open In Colab\"/></a>"
      ]
    },
    {
      "cell_type": "markdown",
      "metadata": {
        "id": "Ejg7Msp7rbkk"
      },
      "source": [
        "# Ejercicio con regularizadores"
      ]
    },
    {
      "cell_type": "code",
      "source": [
        "%tensorflow_version 2.x\n",
        "import tensorflow as tf\n",
        "from tensorflow import keras\n",
        "print(tf.keras.__version__)\n",
        "print(\"GPU Available:\", tf.config.list_physical_devices('GPU'))\n",
        "print(tf.__version__)\n",
        "from keras.datasets import mnist\n",
        "from keras import models\n",
        "from keras import layers\n",
        "import numpy as np\n",
        "\n",
        "(train_images, train_labels), (test_images, test_labels) = mnist.load_data()\n",
        "\n",
        "train_images = train_images.reshape((60000, 28 * 28))\n",
        "train_images = train_images.astype('float32') / 255\n",
        "test_images = test_images.reshape((10000, 28 * 28))\n",
        "test_images = test_images.astype('float32') / 255\n",
        "\n",
        "network = models.Sequential()\n",
        "network.add(layers.Dense(512, name='Capa_Entrada_Relu', activation='relu', input_shape=(28*28,)))\n",
        "network.add(layers.Dense(10, name='Capa_Salida_Softmax', activation='softmax'))\n",
        "network.summary()\n",
        "print(\"=======================================================================\")\n",
        "network.compile(optimizer='rmsprop', \n",
        "                loss='sparse_categorical_crossentropy',\n",
        "                metrics=['accuracy'])\n",
        "\n",
        "network.fit(train_images, train_labels, epochs=5, batch_size=128)\n",
        "print(\"=======================================================================\")\n",
        "test_loss, test_acc = network.evaluate(test_images, test_labels)\n",
        "print('test_loss:', test_loss)\n",
        "print('test_acc:', test_acc)\n",
        "print(\"=======================================================================\")\n",
        "Y_pred = network.predict(test_images)\n",
        "print('Predicción para la primera imagen de test:', Y_pred[0])\n",
        "print(\"=======================================================================\")\n",
        "Y_pred_classes = np.argmax(Y_pred, axis = 1) \n",
        "print(\"Valor real para la primera imagen de test:\", Y_pred_classes[0])"
      ],
      "metadata": {
        "id": "BSivef1i532C",
        "outputId": "afc450dd-3fc7-46ef-e07a-b951e0d8940c",
        "colab": {
          "base_uri": "https://localhost:8080/"
        }
      },
      "execution_count": 14,
      "outputs": [
        {
          "output_type": "stream",
          "name": "stdout",
          "text": [
            "Colab only includes TensorFlow 2.x; %tensorflow_version has no effect.\n",
            "2.9.0\n",
            "GPU Available: []\n",
            "2.9.2\n",
            "Model: \"sequential_2\"\n",
            "_________________________________________________________________\n",
            " Layer (type)                Output Shape              Param #   \n",
            "=================================================================\n",
            " Capa_Entrada_Relu (Dense)   (None, 512)               401920    \n",
            "                                                                 \n",
            " Capa_Salida_Softmax (Dense)  (None, 10)               5130      \n",
            "                                                                 \n",
            "=================================================================\n",
            "Total params: 407,050\n",
            "Trainable params: 407,050\n",
            "Non-trainable params: 0\n",
            "_________________________________________________________________\n",
            "=======================================================================\n",
            "Epoch 1/5\n",
            "469/469 [==============================] - 5s 10ms/step - loss: 0.2561 - accuracy: 0.9259\n",
            "Epoch 2/5\n",
            "469/469 [==============================] - 5s 10ms/step - loss: 0.1026 - accuracy: 0.9699\n",
            "Epoch 3/5\n",
            "469/469 [==============================] - 5s 10ms/step - loss: 0.0669 - accuracy: 0.9796\n",
            "Epoch 4/5\n",
            "469/469 [==============================] - 5s 10ms/step - loss: 0.0489 - accuracy: 0.9854\n",
            "Epoch 5/5\n",
            "469/469 [==============================] - 5s 10ms/step - loss: 0.0369 - accuracy: 0.9885\n",
            "=======================================================================\n",
            "313/313 [==============================] - 1s 3ms/step - loss: 0.0692 - accuracy: 0.9791\n",
            "test_loss: 0.06922625005245209\n",
            "test_acc: 0.9790999889373779\n",
            "=======================================================================\n",
            "313/313 [==============================] - 1s 3ms/step\n",
            "Predicción para la primera imagen de test: [2.21326202e-09 1.01031475e-11 5.68067442e-08 2.02839037e-05\n",
            " 4.49145235e-12 5.53522348e-08 3.19179734e-14 9.99979198e-01\n",
            " 4.82101576e-08 3.89361929e-07]\n",
            "=======================================================================\n",
            "Valor real para la primera imagen de test: 7\n"
          ]
        }
      ]
    }
  ]
}