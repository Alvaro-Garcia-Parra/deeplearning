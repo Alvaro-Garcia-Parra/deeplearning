{
  "nbformat": 4,
  "nbformat_minor": 0,
  "metadata": {
    "kernelspec": {
      "display_name": "Python 3",
      "language": "python",
      "name": "python3"
    },
    "language_info": {
      "codemirror_mode": {
        "name": "ipython",
        "version": 3
      },
      "file_extension": ".py",
      "mimetype": "text/x-python",
      "name": "python",
      "nbconvert_exporter": "python",
      "pygments_lexer": "ipython3",
      "version": "3.5.2"
    },
    "colab": {
      "name": "3_3_Regresion_Prediccion_Precio_Casas.ipynb",
      "provenance": [],
      "include_colab_link": true
    },
    "accelerator": "GPU",
    "gpuClass": "standard"
  },
  "cells": [
    {
      "cell_type": "markdown",
      "metadata": {
        "id": "view-in-github",
        "colab_type": "text"
      },
      "source": [
        "<a href=\"https://colab.research.google.com/github/carlosrabazo/deeplearning/blob/main/3_3_Regresion_Prediccion_Precio_Casas.ipynb\" target=\"_parent\"><img src=\"https://colab.research.google.com/assets/colab-badge.svg\" alt=\"Open In Colab\"/></a>"
      ]
    },
    {
      "cell_type": "code",
      "metadata": {
        "colab": {
          "base_uri": "https://localhost:8080/",
          "height": 35
        },
        "id": "iRBADFZigJx2",
        "outputId": "b6476a10-b33d-4e68-c3be-22a2795b6ae6"
      },
      "source": [
        "import keras\n",
        "keras.__version__"
      ],
      "execution_count": 1,
      "outputs": [
        {
          "output_type": "execute_result",
          "data": {
            "text/plain": [
              "'2.9.0'"
            ],
            "application/vnd.google.colaboratory.intrinsic+json": {
              "type": "string"
            }
          },
          "metadata": {},
          "execution_count": 1
        }
      ]
    },
    {
      "cell_type": "markdown",
      "metadata": {
        "id": "nqCdPN_7gJx7"
      },
      "source": [
        "# Prediciendo precios de casas: Un ejemplo de regresion\n",
        "----\n",
        "La **\"regresión\"**, consiste en **predecir** un **valor continuo** de una etiqueta discreta. Por ejemplo, predecir la temperatura de mañana, dados los datos meteorológicos, o predecir el tiempo en que un proyecto de software tardará en completarse, dadas sus especificaciones.\n",
        "\n",
        "**No confundir \"regresión\" con el algoritmo \"regresión logística\"**: confusamente, \"regresión logística\" no es un algoritmo de regresión, es un **algoritmo de clasificación**."
      ]
    },
    {
      "cell_type": "markdown",
      "metadata": {
        "id": "BFyJo1BPgJx-"
      },
      "source": [
        "## El conjunto de datos de Precios de Casas de Boston\n",
        "\n",
        "Vamos a **predecir** el **precio medio** de las **viviendas** en un suburbio determinado de **Boston** a mediados de la década de 1970, dados algunos puntos de datos sobre el suburbio en ese momento, como la **tasa de criminalidad**, la **tasa de impuesto a la propiedad local**, etc.\n",
        "\n",
        "El conjunto de datos que usaremos tiene otra diferencia interesante con nuestros dos ejemplos anteriores: **tiene muy pocos puntos de datos**, solo 506 en total, dividido entre 404 muestras de entrenamiento y 102 muestras de prueba, y **cada \"característica\"** en los datos de entrada (por ejemplo, la tasa de criminalidad) es una característica que tiene una **escala diferente**. Por ejemplo, algunos valores son proporciones, que toman valores entre 0 y 1, otros toman valores entre 1 y 12, otros entre 0 y 100 ... "
      ]
    },
    {
      "cell_type": "code",
      "metadata": {
        "collapsed": true,
        "id": "bYYKrL1wgJyA",
        "colab": {
          "base_uri": "https://localhost:8080/"
        },
        "outputId": "9dc6eb4e-d156-4f8c-94b7-a246137b7c16"
      },
      "source": [
        "from keras.datasets import boston_housing\n",
        "\n",
        "(train_data, train_targets), (test_data, test_targets) =  boston_housing.load_data()"
      ],
      "execution_count": 2,
      "outputs": [
        {
          "output_type": "stream",
          "name": "stdout",
          "text": [
            "Downloading data from https://storage.googleapis.com/tensorflow/tf-keras-datasets/boston_housing.npz\n",
            "57026/57026 [==============================] - 0s 0us/step\n"
          ]
        }
      ]
    },
    {
      "cell_type": "code",
      "metadata": {
        "colab": {
          "base_uri": "https://localhost:8080/"
        },
        "id": "1sUM-bABgJyA",
        "outputId": "11a4f05f-edad-4a36-dd52-d824e4fba114"
      },
      "source": [
        "train_data.shape"
      ],
      "execution_count": 3,
      "outputs": [
        {
          "output_type": "execute_result",
          "data": {
            "text/plain": [
              "(404, 13)"
            ]
          },
          "metadata": {},
          "execution_count": 3
        }
      ]
    },
    {
      "cell_type": "code",
      "metadata": {
        "colab": {
          "base_uri": "https://localhost:8080/"
        },
        "id": "Q26TD3PMgJyC",
        "outputId": "81857be4-cc4b-45d8-8d6a-2e15cd0c58ad"
      },
      "source": [
        "test_data.shape"
      ],
      "execution_count": 4,
      "outputs": [
        {
          "output_type": "execute_result",
          "data": {
            "text/plain": [
              "(102, 13)"
            ]
          },
          "metadata": {},
          "execution_count": 4
        }
      ]
    },
    {
      "cell_type": "code",
      "metadata": {
        "colab": {
          "base_uri": "https://localhost:8080/"
        },
        "id": "COLhetqKoFS_",
        "outputId": "fbc8bc18-0171-483a-d6a7-d25d366b8300"
      },
      "source": [
        "# Las 13 características de la primera casa en el set de entrenamiento\n",
        "train_data[0]"
      ],
      "execution_count": 5,
      "outputs": [
        {
          "output_type": "execute_result",
          "data": {
            "text/plain": [
              "array([  1.23247,   0.     ,   8.14   ,   0.     ,   0.538  ,   6.142  ,\n",
              "        91.7    ,   3.9769 ,   4.     , 307.     ,  21.     , 396.9    ,\n",
              "        18.72   ])"
            ]
          },
          "metadata": {},
          "execution_count": 5
        }
      ]
    },
    {
      "cell_type": "markdown",
      "metadata": {
        "id": "eAOFEhZ5gJyC"
      },
      "source": [
        "Tenemos 404 muestras de entrenamiento y 102 muestras de prueba. Los datos comprenden 13 características:\n",
        "\n",
        "1. **Tasa de delincuencia** per cápita.\n",
        "2. **Proporción de terreno residencial** dividido en zonas para lotes de más de 25k pies cuadrados.\n",
        "3. **Proporción de acres comerciales no minoristas** por municipio.\n",
        "4. **Variable ficticia de Charles River** (= 1 si el tramo limita con el río; 0 en caso contrario).\n",
        "5. Concentración de **óxidos nítricos** (partes por 10 millones).\n",
        "6. **Número medio de habitaciones por vivienda**.\n",
        "7. **Proporción de casas/pisos ocupados por sus propietarios** construidas antes de 1940.\n",
        "8. **Distancias ponderadas a cinco centros de empleo** de Boston.\n",
        "9. **Índice de accesibilidad a carreteras** radiales.\n",
        "10. **Tasa de impuesto a la propiedad** de valor total por 10K dólares.\n",
        "11. P**roporción alumnos por profesor** por municipio.\n",
        "12. **1000*(Bk-0,63)^2** donde **Bk** es la **proporción** de **personas de color** por municipio.\n",
        "13. **% bajo estatus** de la población.\n",
        "\n",
        "Los objetivos (**etiquetas**) son los **valores medios de las viviendas** ocupadas por sus propietarios, en miles de dólares:"
      ]
    },
    {
      "cell_type": "code",
      "metadata": {
        "colab": {
          "base_uri": "https://localhost:8080/"
        },
        "id": "eARjgYSKgJyE",
        "outputId": "f8192a85-cd01-44e5-c39d-cd3152954fcd"
      },
      "source": [
        "# Los 102 precios medios de los datos de test en miles de $\n",
        "test_targets"
      ],
      "execution_count": 6,
      "outputs": [
        {
          "output_type": "execute_result",
          "data": {
            "text/plain": [
              "array([ 7.2, 18.8, 19. , 27. , 22.2, 24.5, 31.2, 22.9, 20.5, 23.2, 18.6,\n",
              "       14.5, 17.8, 50. , 20.8, 24.3, 24.2, 19.8, 19.1, 22.7, 12. , 10.2,\n",
              "       20. , 18.5, 20.9, 23. , 27.5, 30.1,  9.5, 22. , 21.2, 14.1, 33.1,\n",
              "       23.4, 20.1,  7.4, 15.4, 23.8, 20.1, 24.5, 33. , 28.4, 14.1, 46.7,\n",
              "       32.5, 29.6, 28.4, 19.8, 20.2, 25. , 35.4, 20.3,  9.7, 14.5, 34.9,\n",
              "       26.6,  7.2, 50. , 32.4, 21.6, 29.8, 13.1, 27.5, 21.2, 23.1, 21.9,\n",
              "       13. , 23.2,  8.1,  5.6, 21.7, 29.6, 19.6,  7. , 26.4, 18.9, 20.9,\n",
              "       28.1, 35.4, 10.2, 24.3, 43.1, 17.6, 15.4, 16.2, 27.1, 21.4, 21.5,\n",
              "       22.4, 25. , 16.6, 18.6, 22. , 42.8, 35.1, 21.5, 36. , 21.9, 24.1,\n",
              "       50. , 26.7, 25. ])"
            ]
          },
          "metadata": {},
          "execution_count": 6
        }
      ]
    },
    {
      "cell_type": "markdown",
      "metadata": {
        "id": "buI_GVRHgJyF"
      },
      "source": [
        "Los precios suelen oscilar entre 10K dólares y 50K dólares. Recordar que esto fue a mediados de la década de 1970, y estos precios no se han ajustado por la inflación."
      ]
    },
    {
      "cell_type": "markdown",
      "metadata": {
        "id": "4aM4y9j8gJyG"
      },
      "source": [
        "## Preparando los datos\n",
        "\n",
        "* **Problemático alimentar a una red neuronal con valores que toman rangos tremendamente diferentes** (la **red podría adaptarse automáticamente a datos tan heterogéneos, pero dificultaría el aprendizaje**)\n",
        "* Cuando pase esto debemos hacer una **normalización en relación a las características**: para cada característica en los datos de entrada (una columna en la matriz de datos de entrada), **restamos la media de la característica** y la **dividiremos por la desviación estándar**, de modo que **la característica se centrará alrededor de 0** y tendrá una **desviación estándar unitaria**. Esto se hace fácilmente en Numpy:"
      ]
    },
    {
      "cell_type": "code",
      "metadata": {
        "collapsed": true,
        "id": "4xZWwPRKgJyG",
        "colab": {
          "base_uri": "https://localhost:8080/"
        },
        "outputId": "7881bf93-cbcb-4ef8-f486-c6ff3eae8630"
      },
      "source": [
        "# Normalizamos basándonos en la característica\n",
        "##############################################\n",
        "# Calculamos la media del primer eje de los datos de entrenamiento\n",
        "mean = train_data.mean(axis=0)\n",
        "print(\"##### Media de las 13 características de los datos de entrenamiento ##### \")\n",
        "print(mean)\n",
        "# A los datos de entrenamiento le restamos la media\n",
        "train_data -= mean\n",
        "\n",
        "# Calculamos la desviación estandar del primer eje de los datos de entrenamiento\n",
        "std = train_data.std(axis=0)\n",
        "print(\"##### Desviación estandar de las 13 características de los datos de entrenamiento ##### \")\n",
        "print(std)\n",
        "# A los datos de entrenamiento los dividimos por la desviación estándar\n",
        "train_data /= std\n",
        "print(\"##### Datos de entrenamiento normalizados para la primera casa ##### \")\n",
        "print(train_data[0])\n",
        "\n",
        "# ¡¡IMPORTANTE!!: USAMOS LA MEDIA Y LA DESVIACIÓN ESTANDAR DE LOS DATOS DE \n",
        "# ENTRENAMIENTO PARA NORMALIZAR EL SET DE DATOS DE LOS DATOS DE TEST \n",
        "test_data -= mean\n",
        "test_data /= std\n",
        "print(\"##### Datos de test normalizados (de la primera casa) con la media y la desviación estándar de los datos de test ##### \")\n",
        "print(test_data[0])"
      ],
      "execution_count": 7,
      "outputs": [
        {
          "output_type": "stream",
          "name": "stdout",
          "text": [
            "##### Media de las 13 características de los datos de entrenamiento ##### \n",
            "[3.74511057e+00 1.14801980e+01 1.11044307e+01 6.18811881e-02\n",
            " 5.57355941e-01 6.26708168e+00 6.90106436e+01 3.74027079e+00\n",
            " 9.44059406e+00 4.05898515e+02 1.84759901e+01 3.54783168e+02\n",
            " 1.27408168e+01]\n",
            "##### Desviación estandar de las 13 características de los datos de entrenamiento ##### \n",
            "[9.22929073e+00 2.37382770e+01 6.80287253e+00 2.40939633e-01\n",
            " 1.17147847e-01 7.08908627e-01 2.79060634e+01 2.02770050e+00\n",
            " 8.68758849e+00 1.66168506e+02 2.19765689e+00 9.39946015e+01\n",
            " 7.24556085e+00]\n",
            "##### Datos de entrenamiento normalizados para la primera casa ##### \n",
            "[-0.27224633 -0.48361547 -0.43576161 -0.25683275 -0.1652266  -0.1764426\n",
            "  0.81306188  0.1166983  -0.62624905 -0.59517003  1.14850044  0.44807713\n",
            "  0.8252202 ]\n",
            "##### Datos de test normalizados (de la primera casa) con la media y la desviación estándar de los datos de test ##### \n",
            "[ 1.55369355 -0.48361547  1.0283258  -0.25683275  1.03838067  0.23545815\n",
            "  1.11048828 -0.93976936  1.67588577  1.5652875   0.78447637 -3.48459553\n",
            "  2.25092074]\n"
          ]
        }
      ]
    },
    {
      "cell_type": "code",
      "metadata": {
        "colab": {
          "base_uri": "https://localhost:8080/"
        },
        "id": "ikt0j62UybmE",
        "outputId": "7df50e6d-725f-4412-cde7-e679c91c832a"
      },
      "source": [
        "train_data.shape[1]"
      ],
      "execution_count": 8,
      "outputs": [
        {
          "output_type": "execute_result",
          "data": {
            "text/plain": [
              "13"
            ]
          },
          "metadata": {},
          "execution_count": 8
        }
      ]
    },
    {
      "cell_type": "markdown",
      "metadata": {
        "id": "A1N_hCVugJyG"
      },
      "source": [
        "* Tener en cuenta que las **cantidades** que utilizamos **para normalizar los datos de prueba** se han calculado **utilizando los datos de entrenamiento**. \n",
        "* **Nunca debemos usar** en nuestro flujo de trabajo cualquier **cantidad calculada en los datos de prueba**, **incluso para** algo tan simple como **la normalización de datos**."
      ]
    },
    {
      "cell_type": "markdown",
      "metadata": {
        "id": "BANLBsksgJyH"
      },
      "source": [
        "## Construyendo la red\n",
        "\n",
        "Debido a que hay tan **pocas muestras disponibles**, usaremos una **red muy pequeña** con **dos capas ocultas**, cada una con 64 unidades. En general, **cuantos menos datos de entrenamiento tengamos, peor será el sobreajuste y el uso una red pequeña es una forma de reducir el sobreajuste**."
      ]
    },
    {
      "cell_type": "code",
      "metadata": {
        "collapsed": true,
        "id": "zPJqhzhhgJyH"
      },
      "source": [
        "import tensorflow as tf\n",
        "from keras import models\n",
        "from keras import layers\n",
        "\n",
        "def build_model():\n",
        "    # Porque necesitaremos instanciar el mismo modelo \n",
        "    # múltiples veces, usamos una función para construirlo\n",
        "    model = models.Sequential()\n",
        "    model.add(layers.Dense(64, activation='relu',\n",
        "                           input_shape=(train_data.shape[1],)))\n",
        "    model.add(layers.Dense(64, activation='relu'))\n",
        "    model.add(layers.Dense(1))\n",
        "    # MSE: Mean Squared Error\n",
        "    # MAE: Mean Absolute Error\n",
        "    model.compile(optimizer='rmsprop', loss='mse', \n",
        "                  metrics=[tf.keras.metrics.MeanAbsoluteError()]) # metrics = ['mae']\n",
        "    return model"
      ],
      "execution_count": 9,
      "outputs": []
    },
    {
      "cell_type": "markdown",
      "metadata": {
        "id": "anOKKXcxgJyH"
      },
      "source": [
        "* Nuestra red **termina** con **una sola unidad** y **sin activación** (es decir, **será una capa lineal**).\n",
        "* **Configuración típica para la regresión escalar** (es decir, **regresión en la que intentamos predecir un único valor continuo**).\n",
        "  - La aplicación de una **función de activación** **limitaría el rango que puede tomar la salida**; por ejemplo si aplicamos una función de activación \"sigmoide\" a nuestra última capa, la red solo aprendería a predecir valores entre 0 y 1. \n",
        "  - Aquí, porque la última capa es puramente lineal, **la red es libre de aprender a predecir valores en cualquier rango**.\n",
        "* Compilamos la red con la función de pérdida `mse` (**error cuadrático medio**, el cuadrado de la diferencia entre predicciones y los objetivos, una **función de pérdida ampliamente utilizada para problemas de regresión**)\n",
        "* Estamos **monitorizando una nueva métrica durante el entrenamiento**: `mae` **error absoluto medio** (valor absoluto de la diferencia entre las predicciones y los objetivos). Por ejemplo, **un MAE de 0.5 en este problema significaría que nuestras predicciones están equivocadas por 500 dólares en promedio**."
      ]
    },
    {
      "cell_type": "markdown",
      "source": [
        "## Ejercício: Con estos datos, computar el problema con las primeras 3/4 partes de los datos de entrenamiento para entrenar y el último 1/4 de los datos para validación"
      ],
      "metadata": {
        "id": "yu9f82gl1RrB"
      }
    },
    {
      "cell_type": "code",
      "source": [
        "# 1. Hacer aquí las particiones de los datos de entrenamiento\n"
      ],
      "metadata": {
        "id": "qWOjG1eK1y2F"
      },
      "execution_count": null,
      "outputs": []
    },
    {
      "cell_type": "code",
      "source": [
        "# 2. Entrenar el modelo con 100 épocas y un batch_size=1\n"
      ],
      "metadata": {
        "id": "mGNuQ3Cv2Hyz"
      },
      "execution_count": null,
      "outputs": []
    },
    {
      "cell_type": "code",
      "source": [
        "# 3. Confrontar en una gráfica de épocas en el eje de abcisas contra pérdida (MSE) en\n",
        "# el eje de ordenadas\n"
      ],
      "metadata": {
        "id": "OifyWZUE2NZT"
      },
      "execution_count": null,
      "outputs": []
    },
    {
      "cell_type": "code",
      "source": [
        "# 4. Confrontar en una gráfica de épocas en el eje de abcisas contra la métrica de \n",
        "# error absoluto medio (MAE) \n"
      ],
      "metadata": {
        "id": "NxQwRwJe2osY"
      },
      "execution_count": null,
      "outputs": []
    },
    {
      "cell_type": "code",
      "source": [
        "# 5. Entrenar de nuevo el modelo el número de épocas adecuado para evitar overfitting\n"
      ],
      "metadata": {
        "id": "6cvRubZi3CbQ"
      },
      "execution_count": null,
      "outputs": []
    },
    {
      "cell_type": "markdown",
      "metadata": {
        "id": "VowcLAwegJyI"
      },
      "source": [
        "## Validando nuestro enfoque usando la **validación K-fold o K-iteraciones**\n",
        "\n",
        "* Para evaluar nuestra red mientras seguimos ajustando sus parámetros en pleno entrenamiento(número de épocas o iteraciones), **podríamos dividir** los datos en un conjunto de **entrenamiento** y un conjunto de **validación**.\n",
        "* Como tenemos tan **pocos datos**, conjunto de validación sería muy pequeño\n",
        "  - Consecuencia: nuestras **puntuaciones de validación** pueden **cambiar mucho dependiendo de los puntos de datos que elijamos** usar para la validación y cuales elijamos para el  entrenamiento (**las puntuaciones de validación podrían tener alta varianza con respecto a la división de validación**). Esto **impide una evaluación fiable del modelo**.\n",
        "* En estos casos utilizamos la **validación cruzada de K-fold (k-iteraciones)**:\n",
        "  - Consiste en **dividir los datos disponibles en K particiones** (típicamente **K = 4** o **5**)\n",
        "  - Luego utilizando **instancias de K modelos idénticos** y entrenando cada uno en K-1 particiones mientras se evalúa la partición restante. \n",
        "* La puntuación de la validación para el modelo utilizado sería entonces el **promedio de las puntuaciones de las K validaciones obtenidas**."
      ]
    },
    {
      "cell_type": "markdown",
      "metadata": {
        "id": "tS_FBrFu-Ea5"
      },
      "source": [
        "![k_fold.JPG](data:image/jpeg;base64,/9j/4AAQSkZJRgABAQEAYABgAAD/4RD0RXhpZgAATU0AKgAAAAgABAE7AAIAAAAOAAAISodpAAQAAAABAAAIWJydAAEAAAAcAAAQ0OocAAcAAAgMAAAAPgAAAAAc6gAAAAgAAAAAAAAAAAAAAAAAAAAAAAAAAAAAAAAAAAAAAAAAAAAAAAAAAAAAAAAAAAAAAAAAAAAAAAAAAAAAAAAAAAAAAAAAAAAAAAAAAAAAAAAAAAAAAAAAAAAAAAAAAAAAAAAAAAAAAAAAAAAAAAAAAAAAAAAAAAAAAAAAAAAAAAAAAAAAAAAAAAAAAAAAAAAAAAAAAAAAAAAAAAAAAAAAAAAAAAAAAAAAAAAAAAAAAAAAAAAAAAAAAAAAAAAAAAAAAAAAAAAAAAAAAAAAAAAAAAAAAAAAAAAAAAAAAAAAAAAAAAAAAAAAAAAAAAAAAAAAAAAAAAAAAAAAAAAAAAAAAAAAAAAAAAAAAAAAAAAAAAAAAAAAAAAAAAAAAAAAAAAAAAAAAAAAAAAAAAAAAAAAAAAAAAAAAAAAAAAAAAAAAAAAAAAAAAAAAAAAAAAAAAAAAAAAAAAAAAAAAAAAAAAAAAAAAAAAAAAAAAAAAAAAAAAAAAAAAAAAAAAAAAAAAAAAAAAAAAAAAAAAAAAAAAAAAAAAAAAAAAAAAAAAAAAAAAAAAAAAAAAAAAAAAAAAAAAAAAAAAAAAAAAAAAAAAAAAAAAAAAAAAAAAAAAAAAAAAAAAAAAAAAAAAAAAAAAAAAAAAAAAAAAAAAAAAAAAAAAAAAAAAAAAAAAAAAAAAAAAAAAAAAAAAAAAAAAAAAAAAAAAAAAAAAAAAAAAAAAAAAAAAAAAAAAAAAAAAAAAAAAAAAAAAAAAAAAAAAAAAAAAAAAAAAAAAAAAAAAAAAAAAAAAAAAAAAAAAAAAAAAAAAAAAAAAAAAAAAAAAAAAAAAAAAAAAAAAAAAAAAAAAAAAAAAAAAAAAAAAAAAAAAAAAAAAAAAAAAAAAAAAAAAAAAAAAAAAAAAAAAAAAAAAAAAAAAAAAAAAAAAAAAAAAAAAAAAAAAAAAAAAAAAAAAAAAAAAAAAAAAAAAAAAAAAAAAAAAAAAAAAAAAAAAAAAAAAAAAAAAAAAAAAAAAAAAAAAAAAAAAAAAAAAAAAAAAAAAAAAAAAAAAAAAAAAAAAAAAAAAAAAAAAAAAAAAAAAAAAAAAAAAAAAAAAAAAAAAAAAAAAAAAAAAAAAAAAAAAAAAAAAAAAAAAAAAAAAAAAAAAAAAAAAAAAAAAAAAAAAAAAAAAAAAAAAAAAAAAAAAAAAAAAAAAAAAAAAAAAAAAAAAAAAAAAAAAAAAAAAAAAAAAAAAAAAAAAAAAAAAAAAAAAAAAAAAAAAAAAAAAAAAAAAAAAAAAAAAAAAAAAAAAAAAAAAAAAAAAAAAAAAAAAAAAAAAAAAAAAAAAAAAAAAAAAAAAAAAAAAAAAAAAAAAAAAAAAAAAAAAAAAAAAAAAAAAAAAAAAAAAAAAAAAAAAAAAAAAAAAAAAAAAAAAAAAAAAAAAAAAAAAAAAAAAAAAAAAAAAAAAAAAAAAAAAAAAAAAAAAAAAAAAAAAAAAAAAAAAAAAAAAAAAAAAAAAAAAAAAAAAAAAAAAAAAAAAAAAAAAAAAAAAAAAAAAAAAAAAAAAAAAAAAAAAAAAAAAAAAAAAAAAAAAAAAAAAAAAAAAAAAAAAAAAAAAAAAAAAAAAAAAAAAAAAAAAAAAAAAAAAAAAAAAAAAAAAAAAAAAAAAAAAAAAAAAAAAAAAAAAAAAAAAAAAAAAAAAAAAAAAAAAAAAAAAAAAAAAAAAAAAAAAAAAAAAAAAAAAAAAAAAAAAAAAAAAAAAAAAAAAAAAAAAAAAAAAAAAAAAAAAAAAAAAAAAAAAAAAAAAAAAAAAAAAAAAAAAAAAAAAAAAAAAAAAAAAAAAAAAAAAAAAAAAAAAAAAAAAAAAAAAAAAAAAAAAAAAAAAAAAAAAAAAAAAAAAAAAAAAAAAAAAAAAAAAAAAAAAAAAAAAAAAAAAAAAAAAAAAAAAAAAAAAAAAAAAAAAAAAAAAAAAAAAAAAAAAAAAAAAAAAAAAAAAAAAAAAAAAAAAAAAAAAAAAAAAAAAAAAAAAAAAAAAAAAAAAAAAAAAAAAAAAAAAAAAAAAAAAAAAAAAAAAAAAAAAAAAAAAAAAAAAAAAAAAAAAAAAAAAAAAAAAAAAAAAAAAAAAAAAAAAAAAAAAAAAAAAAAAAAAAAAAAAAAAAAAAAAAAAAAAAAAAAAAAAAAAAAAAAAAAAAAAAAAAAAAAAAAAAAAAAAAAAAAAAAAAAAAAAAAAAAAAAAAAAAAAAAAAAAAAAAAAAAAAAAAAAAAAAAAAAAAAAAAAAAAAAAAAAAAAAAAAAAAAAAAAAAAAAAAAAAAAAAAAAAAAAAAAAAAAAAAAAAAAAAAAAAAAAAAAAAAAAAAAAAAAAAAAAAAAAAAAAAAAAAAAAAAAAAAAAAAAAAAAAAAAAAAAAAAAAAAAAAAAAAAAAAAAAAAAAAAAAAAAAAAAAAAAAAAAAAAAAAAAAAAAAAAAAAAAAAAAAAAAAAAAAAAAAAAAAAAAAAAAAAAAAAAAAAAAAAAAAAAAAAAAAAAAAAAAAAAAAAAAAAAAAAAAAAAAAAAAAAAAAAAAAAAAAAAAAAAAAAAAAAAAAAAAAAAAAAAAAAAAAAAAAAAAAAAAAAAAAAAAAAAAAAAAAAAAAAAAAAAAAAAAAAAAAAAAAAAAAAAAAAAAAAAAAAAAAAAAAAAAAAAAAAAAAAAAAAAAAAAAAAAAAAAAAAAAAAAAAAAAAAAAAAAAAAAAAAAAAAAAAAAAAAAAAAAAAAAAAAAAAAAAAAAAAENhcmxvcyBSYWJhem8AAAWQAwACAAAAFAAAEKaQBAACAAAAFAAAELqSkQACAAAAAzQyAACSkgACAAAAAzQyAADqHAAHAAAIDAAACJoAAAAAHOoAAAAIAAAAAAAAAAAAAAAAAAAAAAAAAAAAAAAAAAAAAAAAAAAAAAAAAAAAAAAAAAAAAAAAAAAAAAAAAAAAAAAAAAAAAAAAAAAAAAAAAAAAAAAAAAAAAAAAAAAAAAAAAAAAAAAAAAAAAAAAAAAAAAAAAAAAAAAAAAAAAAAAAAAAAAAAAAAAAAAAAAAAAAAAAAAAAAAAAAAAAAAAAAAAAAAAAAAAAAAAAAAAAAAAAAAAAAAAAAAAAAAAAAAAAAAAAAAAAAAAAAAAAAAAAAAAAAAAAAAAAAAAAAAAAAAAAAAAAAAAAAAAAAAAAAAAAAAAAAAAAAAAAAAAAAAAAAAAAAAAAAAAAAAAAAAAAAAAAAAAAAAAAAAAAAAAAAAAAAAAAAAAAAAAAAAAAAAAAAAAAAAAAAAAAAAAAAAAAAAAAAAAAAAAAAAAAAAAAAAAAAAAAAAAAAAAAAAAAAAAAAAAAAAAAAAAAAAAAAAAAAAAAAAAAAAAAAAAAAAAAAAAAAAAAAAAAAAAAAAAAAAAAAAAAAAAAAAAAAAAAAAAAAAAAAAAAAAAAAAAAAAAAAAAAAAAAAAAAAAAAAAAAAAAAAAAAAAAAAAAAAAAAAAAAAAAAAAAAAAAAAAAAAAAAAAAAAAAAAAAAAAAAAAAAAAAAAAAAAAAAAAAAAAAAAAAAAAAAAAAAAAAAAAAAAAAAAAAAAAAAAAAAAAAAAAAAAAAAAAAAAAAAAAAAAAAAAAAAAAAAAAAAAAAAAAAAAAAAAAAAAAAAAAAAAAAAAAAAAAAAAAAAAAAAAAAAAAAAAAAAAAAAAAAAAAAAAAAAAAAAAAAAAAAAAAAAAAAAAAAAAAAAAAAAAAAAAAAAAAAAAAAAAAAAAAAAAAAAAAAAAAAAAAAAAAAAAAAAAAAAAAAAAAAAAAAAAAAAAAAAAAAAAAAAAAAAAAAAAAAAAAAAAAAAAAAAAAAAAAAAAAAAAAAAAAAAAAAAAAAAAAAAAAAAAAAAAAAAAAAAAAAAAAAAAAAAAAAAAAAAAAAAAAAAAAAAAAAAAAAAAAAAAAAAAAAAAAAAAAAAAAAAAAAAAAAAAAAAAAAAAAAAAAAAAAAAAAAAAAAAAAAAAAAAAAAAAAAAAAAAAAAAAAAAAAAAAAAAAAAAAAAAAAAAAAAAAAAAAAAAAAAAAAAAAAAAAAAAAAAAAAAAAAAAAAAAAAAAAAAAAAAAAAAAAAAAAAAAAAAAAAAAAAAAAAAAAAAAAAAAAAAAAAAAAAAAAAAAAAAAAAAAAAAAAAAAAAAAAAAAAAAAAAAAAAAAAAAAAAAAAAAAAAAAAAAAAAAAAAAAAAAAAAAAAAAAAAAAAAAAAAAAAAAAAAAAAAAAAAAAAAAAAAAAAAAAAAAAAAAAAAAAAAAAAAAAAAAAAAAAAAAAAAAAAAAAAAAAAAAAAAAAAAAAAAAAAAAAAAAAAAAAAAAAAAAAAAAAAAAAAAAAAAAAAAAAAAAAAAAAAAAAAAAAAAAAAAAAAAAAAAAAAAAAAAAAAAAAAAAAAAAAAAAAAAAAAAAAAAAAAAAAAAAAAAAAAAAAAAAAAAAAAAAAAAAAAAAAAAAAAAAAAAAAAAAAAAAAAAAAAAAAAAAAAAAAAAAAAAAAAAAAAAAAAAAAAAAAAAAAAAAAAAAAAAAAAAAAAAAAAAAAAAAAAAAAAAAAAAAAAAAAAAAAAAAAAAAAAAAAAAAAAAAAAAAAAAAAAAAAAAAAAAAAAAAAAAAAAAAAAAAAAAAAAAAAAAAAAAAAAAAAAAAAAAAAAAAAAAAAAAAAAAAAAAAAAAAAAAAAAAAAAAAAAAAAAAAAAAAAAAAAAAAAAAAAAAAAAAAAAAAAAAAAAAAAAAAAAAAAAAAAAAAAAAAAAAAAAAAAAAAAAAAAAAAAAAAAAAAAAAAAAAAAAAAAAAAAAAAAAAAAAAAAAAAAAAAAAAAAAAAAAAAAAAAAAAAAAAAAAAAAAAAAAAAAAAAAAAAAAAAAAAAAAAAAAAAAAAAAAAAAAAAAAAAAAAAAAAAAAAAAAAAAAAAAAAAAAAAAAAAAAAAAAAAAAAAAAAAAAAAAAAAAAAAAAAAAAAAAAAAAAAAAAAAAAAAAAAAAAAAAAAAAAAAAAAAAAAAAAAAAAAAAAAAAAAAAAAAAAAAAAAAAAAAAAAAAAAAAAAAAAAAAAAAAAAAAAAAAAAAAAAAAAAAAAAAAAAAAAAAAAAAAAAAAAAAAAAAAAAAAAAAAAAAAAAAAAAAAAAAAAAAAAAAAAAAAAAAAAAAAAAAAAAAAAAAAAAAAAAAAAAAAAAAAAAAAAAAAAAAAAAAAAAAAAAAAAAAAAAAAAAAAAAAAAAAAAAAAAAAAAAAAAAAAAAAAAAAAAAAAAAAAAAAAAAAAAAAAAAAAAAAAAAAAAAAAAAAAAAAAAAAAAAAAAAAAAAAAAAAAAAAAAAAAAAAAAAAAAAAAAAAAAAAAAAAAAAAAAAAAAAAAAAAAAAAAAAAAAAAAAAAAAAAAAAAAAAAAAAAAAAAAAAAAAAAAAAAAAAAAAAAAAAAAAAAAAAAAAAAAAAAAAAAAAAAAAAAAAAAAAAAAAAAAAAAAAAAAAAAAAAAAAAAAAAAAAAAAAAAAAAAAAAAAAAAAAAAAAAAAAAAAAAAAAAAAAAAAAAAAAAAAAAAAAAAAAAAAAAAAAAAAAAAAAAAAAAAAAAAAAAAAAAAAAAAAAAAAAAAAAAAAAAAAAAAAAAAAAAAAAAAAAAAAAAAAAAAAAAyMDIxOjEwOjE4IDEyOjM0OjM4ADIwMjE6MTA6MTggMTI6MzQ6MzgAAABDAGEAcgBsAG8AcwAgAFIAYQBiAGEAegBvAAAA/+ELIGh0dHA6Ly9ucy5hZG9iZS5jb20veGFwLzEuMC8APD94cGFja2V0IGJlZ2luPSfvu78nIGlkPSdXNU0wTXBDZWhpSHpyZVN6TlRjemtjOWQnPz4NCjx4OnhtcG1ldGEgeG1sbnM6eD0iYWRvYmU6bnM6bWV0YS8iPjxyZGY6UkRGIHhtbG5zOnJkZj0iaHR0cDovL3d3dy53My5vcmcvMTk5OS8wMi8yMi1yZGYtc3ludGF4LW5zIyI+PHJkZjpEZXNjcmlwdGlvbiByZGY6YWJvdXQ9InV1aWQ6ZmFmNWJkZDUtYmEzZC0xMWRhLWFkMzEtZDMzZDc1MTgyZjFiIiB4bWxuczpkYz0iaHR0cDovL3B1cmwub3JnL2RjL2VsZW1lbnRzLzEuMS8iLz48cmRmOkRlc2NyaXB0aW9uIHJkZjphYm91dD0idXVpZDpmYWY1YmRkNS1iYTNkLTExZGEtYWQzMS1kMzNkNzUxODJmMWIiIHhtbG5zOnhtcD0iaHR0cDovL25zLmFkb2JlLmNvbS94YXAvMS4wLyI+PHhtcDpDcmVhdGVEYXRlPjIwMjEtMTAtMThUMTI6MzQ6MzguNDE4PC94bXA6Q3JlYXRlRGF0ZT48L3JkZjpEZXNjcmlwdGlvbj48cmRmOkRlc2NyaXB0aW9uIHJkZjphYm91dD0idXVpZDpmYWY1YmRkNS1iYTNkLTExZGEtYWQzMS1kMzNkNzUxODJmMWIiIHhtbG5zOmRjPSJodHRwOi8vcHVybC5vcmcvZGMvZWxlbWVudHMvMS4xLyI+PGRjOmNyZWF0b3I+PHJkZjpTZXEgeG1sbnM6cmRmPSJodHRwOi8vd3d3LnczLm9yZy8xOTk5LzAyLzIyLXJkZi1zeW50YXgtbnMjIj48cmRmOmxpPkNhcmxvcyBSYWJhem88L3JkZjpsaT48L3JkZjpTZXE+DQoJCQk8L2RjOmNyZWF0b3I+PC9yZGY6RGVzY3JpcHRpb24+PC9yZGY6UkRGPjwveDp4bXBtZXRhPg0KICAgICAgICAgICAgICAgICAgICAgICAgICAgICAgICAgICAgICAgICAgICAgICAgICAgICAgICAgICAgICAgICAgICAgICAgICAgICAgICAgICAgICAgICAgICAgICAgICAgIAogICAgICAgICAgICAgICAgICAgICAgICAgICAgICAgICAgICAgICAgICAgICAgICAgICAgICAgICAgICAgICAgICAgICAgICAgICAgICAgICAgICAgICAgICAgICAgICAgICAgCiAgICAgICAgICAgICAgICAgICAgICAgICAgICAgICAgICAgICAgICAgICAgICAgICAgICAgICAgICAgICAgICAgICAgICAgICAgICAgICAgICAgICAgICAgICAgICAgICAgICAKICAgICAgICAgICAgICAgICAgICAgICAgICAgICAgICAgICAgICAgICAgICAgICAgICAgICAgICAgICAgICAgICAgICAgICAgICAgICAgICAgICAgICAgICAgICAgICAgICAgIAogICAgICAgICAgICAgICAgICAgICAgICAgICAgICAgICAgICAgICAgICAgICAgICAgICAgICAgICAgICAgICAgICAgICAgICAgICAgICAgICAgICAgICAgICAgICAgICAgICAgCiAgICAgICAgICAgICAgICAgICAgICAgICAgICAgICAgICAgICAgICAgICAgICAgICAgICAgICAgICAgICAgICAgICAgICAgICAgICAgICAgICAgICAgICAgICAgICAgICAgICAKICAgICAgICAgICAgICAgICAgICAgICAgICAgICAgICAgICAgICAgICAgICAgICAgICAgICAgICAgICAgICAgICAgICAgICAgICAgICAgICAgICAgICAgICAgICAgICAgICAgIAogICAgICAgICAgICAgICAgICAgICAgICAgICAgICAgICAgICAgICAgICAgICAgICAgICAgICAgICAgICAgICAgICAgICAgICAgICAgICAgICAgICAgICAgICAgICAgICAgICAgCiAgICAgICAgICAgICAgICAgICAgICAgICAgICAgICAgICAgICAgICAgICAgICAgICAgICAgICAgICAgICAgICAgICAgICAgICAgICAgICAgICAgICAgICAgICAgICAgICAgICAKICAgICAgICAgICAgICAgICAgICAgICAgICAgICAgICAgICAgICAgICAgICAgICAgICAgICAgICAgICAgICAgICAgICAgICAgICAgICAgICAgICAgICAgICAgICAgICAgICAgIAogICAgICAgICAgICAgICAgICAgICAgICAgICAgICAgICAgICAgICAgICAgICAgICAgICAgICAgICAgICAgICAgICAgICAgICAgICAgICAgICAgICAgICAgICAgICAgICAgICAgCiAgICAgICAgICAgICAgICAgICAgICAgICAgICAgICAgICAgICAgICAgICAgICAgICAgICAgICAgICAgICAgICAgICAgICAgICAgICAgICAgICAgICAgICAgICAgICAgICAgICAKICAgICAgICAgICAgICAgICAgICAgICAgICAgICAgICAgICAgICAgICAgICAgICAgICAgICAgICAgICAgICAgICAgICAgICAgICAgICAgICAgICAgICAgICAgICAgICAgICAgIAogICAgICAgICAgICAgICAgICAgICAgICAgICAgICAgICAgICAgICAgICAgICAgICAgICAgICAgICAgICAgICAgICAgICAgICAgICAgICAgICAgICAgICAgICAgICAgICAgICAgCiAgICAgICAgICAgICAgICAgICAgICAgICAgICAgICAgICAgICAgICAgICAgICAgICAgICAgICAgICAgICAgICAgICAgICAgICAgICAgICAgICAgICAgICAgICAgICAgICAgICAKICAgICAgICAgICAgICAgICAgICAgICAgICAgICAgICAgICAgICAgICAgICAgICAgICAgICAgICAgICAgICAgICAgICAgICAgICAgICAgICAgICAgICAgICAgICAgICAgICAgIAogICAgICAgICAgICAgICAgICAgICAgICAgICAgICAgICAgICAgICAgICAgICAgICAgICAgICAgICAgICAgICAgICAgICAgICAgICAgICAgICAgICAgICAgICAgICAgICAgICAgCiAgICAgICAgICAgICAgICAgICAgICAgICAgICAgICAgICAgICAgICAgICAgICAgICAgICAgICAgICAgICAgICAgICAgICAgICAgICAgICAgICAgICAgICAgICAgICAgICAgICAKICAgICAgICAgICAgICAgICAgICAgICAgICAgICAgICAgICAgICAgICAgICAgICAgICAgICAgICAgICAgICAgICAgICAgICAgICAgICAgICAgICAgICAgICAgICAgICAgICAgIAogICAgICAgICAgICAgICAgICAgICAgICAgICAgICAgICAgICAgICAgICAgICAgICAgICAgICAgICAgICAgICAgICAgICAgICAgICAgICAgICAgICAgICAgICAgICAgICAgICAgCiAgICAgICAgICAgICAgICAgICAgICAgICAgICA8P3hwYWNrZXQgZW5kPSd3Jz8+/9sAQwAHBQUGBQQHBgUGCAcHCAoRCwoJCQoVDxAMERgVGhkYFRgXGx4nIRsdJR0XGCIuIiUoKSssKxogLzMvKjInKisq/9sAQwEHCAgKCQoUCwsUKhwYHCoqKioqKioqKioqKioqKioqKioqKioqKioqKioqKioqKioqKioqKioqKioqKioqKioq/8AAEQgA3gH3AwEiAAIRAQMRAf/EAB8AAAEFAQEBAQEBAAAAAAAAAAABAgMEBQYHCAkKC//EALUQAAIBAwMCBAMFBQQEAAABfQECAwAEEQUSITFBBhNRYQcicRQygZGhCCNCscEVUtHwJDNicoIJChYXGBkaJSYnKCkqNDU2Nzg5OkNERUZHSElKU1RVVldYWVpjZGVmZ2hpanN0dXZ3eHl6g4SFhoeIiYqSk5SVlpeYmZqio6Slpqeoqaqys7S1tre4ubrCw8TFxsfIycrS09TV1tfY2drh4uPk5ebn6Onq8fLz9PX29/j5+v/EAB8BAAMBAQEBAQEBAQEAAAAAAAABAgMEBQYHCAkKC//EALURAAIBAgQEAwQHBQQEAAECdwABAgMRBAUhMQYSQVEHYXETIjKBCBRCkaGxwQkjM1LwFWJy0QoWJDThJfEXGBkaJicoKSo1Njc4OTpDREVGR0hJSlNUVVZXWFlaY2RlZmdoaWpzdHV2d3h5eoKDhIWGh4iJipKTlJWWl5iZmqKjpKWmp6ipqrKztLW2t7i5usLDxMXGx8jJytLT1NXW19jZ2uLj5OXm5+jp6vLz9PX29/j5+v/aAAwDAQACEQMRAD8A+kaKKKACiiigAooooAKKKKACiiigAooooAKKKKACiikagBaK4+/8TavDrOrRWOn29xaaVGjylpisj5TdhRtI/M1fPjTRkEAeaUNOiFMQOwy67lG4DGSD0pAdDRXLWvjvSZNHstQuzNbLdRebsMDtsXOMsQvAz3OK1dU8Qado3kfbpmU3G7ylSNnZtoyThQTgA9aYGpRXNS+N9GKzLbXDPKm5QGidUZwu7ZuIxnHbNVNM8cQXl7YWkkJ82+2YEaswiLRCTDHbjv8AlQB2FFYN/wCKtO0jUTbajPtLMqRJHG7uzFWbGFU9kJ49DVH/AIWDozamIN8n2drRLpLjy3w25yoXGM7sjGOueMZoA6yis+x1i11OxluNPLTeUSjRlCjhh/CVbBB+vrWZoPiG41HU7qwvrWO3nt40kYRy+Zs3Z+Rjj7wx2yKAOjorAHjPQzI6fa2UqXGWhcBypwwU4wxHoM02TxtocdsJmnm5mMIT7NIX3hdxGzbu6c9KAOhoriX+IdpHptrfmCXyrjgQ+XJ5g/eBM429Oa0ovGWlx2qSXlx87tJtWGJ3IVHKliAuQAepPGe9AHSUVz6eNdBe+NoL794HePcYnCFlXcw3kbSQoJ69Ku6Pr+n67E0mmyvIqgNlomTgjII3AZB9aANOigUUAFFFFABRRRQAUUUUAFFFFABRRRQAUUUUAFFFFABRRRQAUUUUAFFFFABRRRQAUUUUAFFFFABRRRQAUUUUAFFFFABRRRQAUUUUAFFFFABRRRkUAFFJkeooyPUUALRSZHqKMj1FAC0hGaMj1FGR6igDlNQ8I6hc6vqVxZ62tra6mqJcQi1DPhV2/K5bjI9jiqk3w7Emt294moKILWSF4YXg3tEIwBtVi2FBxzgZyevau2yPUUZHqKAOBu/hpLeafa2cusB4be2+zhZLbcBhiwdRvwGwQCSD04xW14n8KnxBZWsC3MULW5JDyQeYQSMblIYFWHYg/XNdJkeo/OjK+ooA880vwJqEtrcWWq6i32JL154UaMNJI23asjPnkdSRjOe9a2m+Bm0y8tbiDUctBJGzBofvqsIiK9eCcA57e9db8vt+dGR6/rQBzl94RF74otNZN2UNtMJfK8vO7EUkeM5/6aZ/CsqT4dHzIZIdVMbxRqATBuyySmVD97oCcEdx3FdwWHrWDr9/JcWsulaPMrahcKUypz5Knq5x0wOnvigCTSNCk0+C+NzeGe7v5DJNPGnljO0KNq5OMADuar6V4ZnstYbVNR1H7bcC3+zIVhEQKZzl8E7myOvHfAGa0NK1aO9iEUrLHeRgCaBjhkbvx6ehrSO09x+dAHny+A9Q1bTY49R1RrX7NPPLZpDFhoWdmGSwb5gVY8cfePNaWkeAxpl5DcG9jYxXDTlIbby1JaPYR94/XJya68bfUfnRkeooA4yTwFNJbxL/AGsBJbq6wP8AZ+FzKsi5G7nG3B6Z9qVPAlxbAPYauIbho5oZZHt94ZJJDIQBuGCCTg8/SuyyPUUZHqPzoA5CLwDFALURXzhba/kvFzGCTuiaPbye27OfbpVnwl4QbwxJcsb1ZVnVVWCCHyYY9ufmWPcQpOecYHA4rpsj1H50ZHqPzoAWikyPUUZHqKAFopMj1FGR6igBaKTI9RRkeooAWijOaKACiiigAooooAKKKKACiiigAooooAKKKKACiiigAooooAKKKKACiiigAooooAKKKKACiiigAooooAKKKKACiijNAAelc7Z6bHr8T3msp9oikc+TavzGiA4BK9CT159a6Dd2oUYoAyB4Q8Pf9APT/wDwGX/Cj/hEPDv/AEBNP/8AAZf8K2c0ZoAxv+EQ8O/9ATT/APwGX/Cj/hEPDv8A0BNP/wDAZf8ACtnNGaAMb/hEPDv/AEBNP/8AAZf8KP8AhEPDv/QE0/8A8Bl/wrZzRmgDG/4RDw7/ANATT/8AwGX/AAo/4RDw7/0BNP8A/AZf8K2c0ZoAxv8AhEPDv/QE0/8A8Bl/wo/4RDw7/wBATT//AAGX/CtjdQDmgDH/AOEQ8O/9ATT/APwGX/Cj/hEPDv8A0BNP/wDAZf8ACtmigDG/4RDw9/0BNP8A/Adf8K0LTT7WwhEVlbRQRjokahQPwFWaKAKd5pVjqKhdQsoLlR0EsYb+dUv+EQ8O/wDQE0//AMBl/wAK2aKAMb/hEPDv/QE0/wD8Bl/wo/4RDw7/ANATT/8AwGX/AArZooAxv+EQ8O/9ATT/APwGX/Cj/hEPDv8A0BNP/wDAZf8ACtgnFG6gDH/4RDw7/wBATT//AAGX/Cj/AIRDw7/0BNP/APAZf8K2c0UAY3/CIeHf+gJp/wD4DL/hR/wiHh3/AKAmn/8AgMv+FbNFAGN/wiHh3/oCaf8A+Ay/4Uf8Ih4d/wCgJp//AIDL/hWzRQBjf8Ih4d/6Amn/APgMv+FB8IeHv+gJp/8A4DL/AIVs0UAYItH0PUrUWO77BcOYpICxIhOMqy+g4xjpyMYxW6OlIwzSr0oAWiiigAooooAKKKKACiiigAooooAKKKKACiiigAooooAKKKKACiiigAooooAKKKKACikNJuU/xD86AHUU3I6UoI9aAFopNwNLQBW1C8TT9Pmu5fuRIWIHU+1UrCxvJXS81S5k88ncIIm2xxj+7x976nv6U3xX83hi7A5JCjH/AAMVrjpQBheLZZYdFiMErxNJe2sTNG207WnRWGR6gkVW/s1M83V7/wCBT/41P4y/5Atv/wBhGz/9KI6l70wKf9mp/wA/V7/4FP8A40f2an/P1e/+BT/41bzRmgCp/Zqf8/V7/wCBT/40f2an/P1e/wDgU/8AjVvNGaAKn9mp/wA/V7/4FP8A40f2an/P1e/+BT/41cooAp/2an/P1e/+BT/40f2an/P1e/8AgU/+NXKKAItLVoNQvYBNNJGLWOQCWQvhi0gJGf8AdH5VX8M6aNR8K6XeXV5etPcWkckjC5cZYqCT1q3Z/wDIYvv+vGH/ANDmp3gv/kRtE/68Yf8A0AUgJ/7Ag/5+r7/wKf8Axo/sCD/n6vv/AAKf/GtSkLKOpH50AZn9gQf8/V9/4FP/AI0f2BB/z9X3/gU/+NaW5T0NLuGcZoAzP7Ag/wCfq+/8Cn/xo/sCD/n6vv8AwKf/ABrT3D1pcj1oAy/7Ag/5+r7/AMCn/wAaP7Ag/wCfq+/8Cn/xrUooAw5rBdP1PTGguboiW5aN1knZwy+TI3Q+6g/hQ1mNQ168jmuLhEhii2LFMyAZ356fQVb1T/kIaP8A9fjf+iJaZaf8jFqX/XKH/wBnoAP7Ag/5+r7/AMCn/wAaP7Ag/wCfq+/8Cn/xrUpCQOpxQBmf2BB/z9X3/gU/+NH9gQf8/V9/4FP/AI1p71PRhQWA6kUAZn9gQf8AP1ff+BT/AONH9gQf8/V9/wCBT/41p7h60ZHrQBmf2BB/z9X3/gU/+NH9gQf8/V9/4FP/AI1qZFFAGRNoUCwSMLq+yFJH+lP/AI0vhW4lu/CGk3Ny5kmms4ndz1ZioJNaVx/x7S/7h/lWT4M/5EbRP+vGH/0AUAbVFFFABRRkUnagBaKwddvLrTNS0u5WYiykn+zXEW0YJfhHz1GGGP8AgVcsPH1zYM1xdKlzDcSGZIjJteKHfsXaoU7s435Yj72AeKAPR6K830/xtqA129tHD3kvmSR20LFY0/17IuSFyMKOvPTpmnR+Pr/T9Jml1GCGS5+2XS+W823akTcKu1SWPocAepFAPQ9Gorzifx7dQXt1d3SeXpcJgkTyyDIUaBpSCCPbsa038a30DJb3GkqL6bymgiW5yrJI20Ett4IPUYPsTQB2lUtQ1OLTdjTxzsjZy8ULOqe7YHA96reH9Wk1e0kkuIBbzwTPBLGr71DKcHBwMj8BWo4yOmaAGW9zFdW6zW8iyxuMqyHINS1iaWv2bxBqdlEMQKkNwqjorPvDAfimfqTW3QAUUUUAFFFFABRRRQAUUUUAFFFFAFPVmZNJumQkMIXII7HFef6ILvQ/DA1s2ri4kto1SWe9eZGLlfmZT0HOeK9KkjWRSrgMpGCD0NQtZ27WptmgjMBXYYio27fTHpS6gea33i/VLTxBK07RXD6bb3GfswZYpjiJgSMnGNxzya6TwzdX9x4l1WPULy3uWjgg2m1BEYzuPQk4P4+lb8Oi6ZbKq29hbRBQVUJEoAB6gYHfAp9jpdhpqsNPs4LUN94QxhM/lTBmH4dF5H4o16G9vpLra0LJuGFjBUnao7Cullfy4WYKX2jO1ep9qasESTPKkarJJje4HLY6ZPepeopActHfP4h1JLS5gksIreQSvb3HEk5U5XGOCoODwT0FdQvSsbxMiw6WL9RiezkSSNh1+8Aw+hBI/Gtlfu0wMDxl/wAgW3/7CNn/AOlEdS96i8Zf8gW3/wCwjZ/+lEdS96YGN4oS5XRzeWDutxZSLcKqniRVPzKfXK7vxxXKXfi69W6utR0qSOSOVX+zxSozBoourj5lVQWY8k5wBgGvQyAykMMgjBB71Tk0fTZYoY5dPtXjgGIkaFSIx/sjHH4UAcBH4tvItUnvQgk82JZUjZ2Kxk26N0z0ycmr3/CQapYXepiS7tLi6e5t4ohFEzJzEzEKm7g8d2A757V2i6ZYJ9yyt1+XbxEo4xjHT04+lQjQtJFuYBpdmISwcx+Qu0sOhxjrQM4SbxXq1zbw30rQrG+nq72yhgDILpY8ghvT3PpzV2XxtqkOnQ3nl2MovbaWaGFFbdblMcSc85zg4xg12R0nTisYNha4jBCDyV+UE5OOOOeaF0nTkkmdLC2Dz/61hCuZP97jn8aBFDQtSv7q+1Cy1T7O01oYyJLdWVWDruxgk8jp1rbpiQxRyPJHGiu+N7KoBbHTPrT6AG2f/IYvv+vGH/0OaneC/wDkRtE/68Yf/QBTbP8A5DF9/wBeMP8A6HNTvBf/ACI2if8AXjD/AOgCkBt1x/jrS4rqKwnaW4jkN7BATDO6Ao8oDDCn0NdhUUsEU4UTRrIFYMAwzgg5B+oNAHCJr2oaTFrsMDWsdho8sVrbeckksju4jILHd8338Y+nI61lz+O9X+yQ3MltbC7guLuHBDBTsRCpKq5H8XPJ6dq9Jl0yxminjltIZEuSGmVowRKRjlvXoOvpUSaHpUcQiTTbVY1JIUQqACRg8Y9APyoA4bWPF2r6ZLcR3kdpNdWDu6vErojj7K8oyu71GOSR34OKtL4n15Lz+z7mTTIp3aJkuDE4iRXjZtpBbk5XGcj6V2kul2FwztPZwSNJw5aMEtxt5/AkfSqGteHLXV7YRYWEhgxYRqwfAIAYEEEDPHpQAvhPVZ9b8L2WoXfledMhLeTnYSGI4z24rZqjo2l2+i6Rb6dZg+TbrtXd1q9QBnap/wAf+j/9fjf+iJaZaf8AIxal/wBcof8A2en6p/x/6P8A9fjf+iJaZaf8jFqX/XKH/wBnoA1Kqalp8Op2L2tyXEb4z5blDwc9RzVukIzQB5l4WN/Y6XYDSpw91qN/cQyS30kkoVI2kIwNwwcLiodT8dalJb3+1Leaz8qXynVGjyyOF679x787QPc16ZHYWsIQRW0SCNmZNqAbS2ckehOT+ZqqPD+kBpGGmWgaTPmHyVy+eueOaAOIuPF+sjRxcXqWTW95FdCFIldHQxEgEtu5yB2wR61dTxZrEd7PLLHaPZR3N3bpFHGwlPkozA7t2OduMYrsG0uweJI2s4DGm7apjGBu+9j696JNNtGjZFhSMsXbeigMrMMFgexOetAGD4a1y/1K+kgv5rGZTaxXCm1Ugpvz8rZY9MdeK6qsHQPC9roM1xNC5klnVVZtirwuccKBzyST3reoAjuP+PaX/cP8qx/B7bfAuikAkiwh4Hf5BWxcf8e0v+4f5VkeDR/xQ+if9eEP/oAoAkOsX+SB4dvz7+bBz/5EpDrGoY/5F2//AO/sH/xytigjNAHl958TvEFp40uNIi8F311BGV2tERuGQDyQSvf+9Xoun3U93YxzXVlJZSMOYJWVmX8VJH61a2gUEcUAVNT0+11fTpbG+j8yCZdrrkj9R0NZl14P0a7/ANZblUMaRsiOyq4X7uQDzis7x62oi1tf7Mlu1+Yl0tlk+fjgF4wWX8iD3rDtrzXZHnlkXWo9VJxBAYybcJ5WRuOAmc9T13cdKQHWP4O0UzTSi02yTcs6uQwO/fkHPB3HPFMHgrRfIEQgkUZk3ETMDJ5hy4Y55ya5Mf21cTNb6dPrQ0+QW/mTXAdZllMh8wKWGQu3GccDtU3h3/hI4/GCxXs94YVnmSRZUkaNogD5Z3EbAfunIJJ5z7MDo5vDfhyG5RLiKNWMcaCJ5Dhgq+Wvyk88HbnvUtp4c0WG62Rr5k8TRuN8pd0CnKDk5AB7Vxms6DrWp/EJ5obW4NulxDskN/JGuxFLnACEAZI79Rjvx1mkaUmn+MtRlhgkWO4gjZpXyfMfc2fmPUgY+gxQDN6zsILHzfsybPOkaV+erHqatUgpaAMez/5HHVf+vS1/9CmrYrHs/wDkcdV/69LX/wBCmrYoAKKKKACiiigAooooAKKKKACiiigAooooAKKKKACiiigDL8SW8t14du4oF3SFNyr64IOP0q7Z3UV5aR3Fu4eORdykdxUxGRVCPRbWC+N1bB4Hdi0ixuQjk9yvTPvQBn+Mv+QLb/8AYRs//SiOpauarpUWr2X2ad3jUSJKrR4DKyMGU8+6iqf/AAjsv/QZvvyj/wDiKACij/hHZf8AoM335R//ABFH/COy/wDQZvvyj/8AiKYBRR/wjsv/AEGb78o//iKP+Edl/wCgzfflH/8AEUAFFH/COy/9Bm+/KP8A+Io/4R2X/oM335R//EUAFFH/AAjsv/QZvvyj/wDiKP8AhHZf+gzfflH/APEUANs/+Qxff9eMP/oc1O8F/wDIjaJ/14w/+gCrFjowspJpHup7mSZFjLzbeFBYgDAH941Vs/DUlhZw2lrrF/HBAgjjQGPCqBgDlaQG7RWR/Yt1/wBBzUP/ACH/APEUf2Ldf9BzUP8AyH/8RQBr0Vkf2Ldf9BzUP/If/wARR/Yt1/0HNQ/8h/8AxFAGvRWR/Yt1/wBBzUP/ACH/APEUf2Ldf9BzUP8AyH/8RQBr0Vkf2Ldf9BzUP/If/wARR/Yt1/0HNQ/8h/8AxFAEuqf8f+j/APX43/oiWm2Z/wCKi1L/AK5Q/wDs9JFojrdwT3GpXdz5Dl0SUpt3FSueFHZjS3WjNPevdQX9zaPIqq4hK4bGcdQfU0AalFZH9i3X/Qc1D/yH/wDEUf2Ldf8AQc1D/wAh/wDxFAGvRWR/Yt1/0HNQ/wDIf/xFH9i3X/Qc1D/yH/8AEUAa9FZH9i3X/Qc1D/yH/wDEUf2Ldf8AQc1D/wAh/wDxFAGvRWR/Yt1/0HNQ/wDIf/xFH9i3X/Qc1D/yH/8AEUAadx/x7S/7h/lWT4M/5EbRP+vGH/0AU59DuXUqdb1AgjBH7v8A+Jq/p1jFpmm29jbAiG3jWKME5IUDAoAs0UUUAFFFFABiiiigAwPSjFFFABgelFFFABRRRQBj2f8AyOOq/wDXpa/+hTVsVj2f/I46r/16Wv8A6FNWxQAUUUUAFFFFABRRRQAUUUUAFFFFABRRRQAUUUUAFFFFABRQTjrWeNZtZNQNpbmSeRTtdokLJGfRmHAPt1oA0KKpajqMOl2guLreUMiRgIu4lnYKoA9yRUH9uL/0D9Q/8B//AK9AGpRWX/bi/wDQP1D/AMB//r0f24v/AED9Q/8AAf8A+vQBqUVl/wBuL/0D9Q/8B/8A69H9uL/0D9Q/8B//AK9AGpRWX/bi/wDQP1D/AMB//r0f24v/AED9Q/8AAf8A+vQBqUVl/wBuL/0D9Q/8B/8A69H9uL/0D9Q/8B//AK9AGpRWfaarFdyTRiKeJ4UDss0ZU7TnB/8AHTVG28WWd1bRXEFrfSQzIHjcW5wykZBoA3qKxv8AhJbf/nyv/wDwHNH/AAktv/z5X/8A4DmgDZorG/4SW3/58r//AMBzR/wktv8A8+V//wCA5oA2aKxv+Elt/wDnyv8A/wABzR/wktv/AM+V/wD+A5oA2aKxv+Elt/8Anyv/APwHNH/CS2//AD5X/wD4DmgDZorJg8QW9xdQ24t7uJ5mKIZYSqkhS2M/RT+VSXOsRW949sILmaRFVm8mLcFBzjP5GgDSorLGuL/0D9Q/8B//AK9H9uL/ANA/UP8AwH/+vQBqUVl/24v/AED9Q/8AAf8A+vR/bi/9A/UP/Af/AOvQBqUVl/24v/QP1D/wH/8Ar0f24v8A0D9Q/wDAf/69AGpRWX/bi/8AQP1D/wAB/wD69H9uL/0D9Q/8B/8A69AGpRWU2uqFJ+wagAOv+j//AF6u2F5DqGn295bMWhuI1kjYjGVIyKALFFFFABRRRQAUUUUAFFFFABRRRQAUUUUAY9n/AMjjqv8A16Wv/oU1bFY9n/yOOq/9elr/AOhTVsUAFFFFABRRRQAUUUUAFFFFABRRRQAUZqK5nW2tpJn+7GpY49BWLo3ij+2MSHTLuztjF5q3FwUCMOMdGJ6HPIpAb+aM1lHX7H+0bazSVZHuI5JEdCCoCEZyf+BCn22t2d3e3NvbyCQ20ayO6kFcNnoR/ummBpUVh6X4otdUvFt44biBpYzLA0ybROgIBZfzHXB5FbnagDM8R3Elp4du5oDtkCYU+hJAz+tWrKyhsbSO3t1CRxjAFZ3iZ1l0n7CpzPeSJHGo6n5gSfoACfwrZU5FAGH4t/5BNr/2ErL/ANKI63awvFv/ACCbX/sJWf8A6UR1u0AFJmlNcjeeKNZtvFQ0lNFheNkaZZzd4/dKygtjb1+bpQB12aM1zo8c+HzYJeC/3QOWCusEhztALHAXOBkZPSmy+OdEtHdb29jjwSU2KzlkAUluF4A3j8OaAOkzRXOy+NNJtpp1u7qNVSURxmMNIZMoH6KD2OeM8c1LP4y0K2a3Et+mLhUeNlRmUhzhCSBgZPTOM0AbtFIDkUtAGUf+Rgv/APrxh/8AQpawvCn/ACJujf8AXjD/AOgCt0/8jBf/APXjD/6FLWH4U/5E3Rv+vGH/ANAFMDWoqK5n+zWks5RpPLQtsQZLYGcD3ql/blmYLCZH3Jf48rBHA2lix9AAOaANKis2fXbOGeGJH89pldl8lgw+QZIznrzT5tXtILm3t3lUzTvsCBgSpwTyPTAoAv0Vn3WuadZxo813Fh50gG1wfnY4A496kg1K3ljVpHWAs7IqSOAWIJHHPtQBcoqEXdubjyBcRGb/AJ5hxu/KpqAIXP8AxMtJ/wCvw/8Aoiartn/yMWpf9cof/Z6oyf8AIS0n/r8P/oiWr1n/AMjFqX/XKH/2ekBqUUVV1G7ksbJ54rSa7ZcYhgxubntkgfrQBaorntD8XW+t2r3JtJ7GBWKLJdlFDsCVIGGPQg1o3OsWtvDMySLPJCMtFG4LdcdzQBoZoqjJqtqkMrxypM8abzFG4LY+malS/tnnMK3ERlGSU3jcMdeKALNFV4L23uiwt545dpw2xwcVYoAjuP8Aj2l/3D/KsjwZ/wAiNon/AF4w/wDoArXuP+PaX/cP8qyfBn/IjaJ/14w/+gCgDaoopCcUALRUYnQuUDruHVc8ipKAIHvbeO7jtXmVZ5VLJGTywGMkD2yPzohvra4lmjgmSR4H2SqpyUbAOD74INYni6CWG1ttWs4pJrjTpxKUiUs7xnh1AHUkHp7VwuoLr2nRoLSK9jvHVblyiSMJHdyzAbF25UYU7z0AwPUA9Rg1Wxubp7e3uY5JowS8asCVwdpz+IxUsF3Bcq5t5FkCOY2KnOGBwR9RXlVumu2ur34ePUYNOaaSSYwRNuwblslcDJJGOnOOlQs2rWuhvHp6apH5t1eywvJHMGfLfJlVXdk9RuIHrQNnrL6haxTLDJOiyMwUIW5JIyB+QJqbeK8ldPEUd1c3FhHfLqV1FayAvEwRm+ysDnI2g7wMjg9K0If7WuriKHT5tXWyd7dZ5JkdZFkLfvMbhnG3qRxQI9LDA9KWsLwqt3FaXUF40zCG6kSFp87jGD8vJ6j3rdoAx7P/AJHHVP8Ar0tf/Qpq2KxUb7L4zuPM4F7aRCInuY2fcPykX9a2qAEJxWN/wmPh7+0m0/8Atiz+1q5QweaNwYdRj1rYbpXCeHNH1SC31W6e8uIYze3jR2bQKAwLttYEjdz1HNIDuIbmK4gjmgdZI5FDo6nIYEZBFJPdwWsYe4kWNCwXcxwMk4A/OvOdOj8RfZrS9nk1L7QlzYxtCwIBjaKPzSVI/vFsk9CD0wayDLr9/qiK8GoPbPhpI5YpW2SLcR43EqFzt3H5RjHrimB7DvGKN4rh/G82qQX1k2nPdeWEOYYEk+dsjADIDhv98bazL251vzL0Y1hdS+0uVSBMxLa9iDjYW254B3bqAPS94o3ivN4E1i/1BYLOfVU0lrtPKllDpIR5LFwxYBgu/b175xUHh6XxB9qn/tqe+8pbWT7WscMxcSbxt2EjBOM48vIx+FAHqNFNj/1a4z079aKAINRhe5064gixvkjZRn1IxXJJ4HW18Hmys41F68Mayh5WZJCpBK89AcY6d67aikB5nN4E1e+vby5CW+npdQzIsCSbhEWWMDoBnOw5x6966Hw5o97p+oaleyada2IuIo1jt4JAwLKDySABzkfhXVYpRTA5Lw3Ya2mr3F94isYBcyrtWeO68xY0zwiJtGB6nOSevbHVyKXiZQxQkYDL1HvTqKAOWSyl0HWEvL24k1CG5cRefccvb5PygY42k4HAHJGc11C9Kx/Fhx4YuyOo2EH0+cVsL92gDD8W/wDIJtf+wlZ/+lEdbtYXi3/kE2v/AGErP/0ojrdoAKxbzQ2ufES6n520LZSWvl7eu9lO7Ptt6VtUUAcNqPgO6vNE03TYtSRYrO0a3dXjYrISAA+0MORjocjmn2PgKS0vjcNfK+bKW12iLHLrEN3Xt5XT39q7aigDjdN8Dtp1+twb1ZNrZ2+Xj/lgsXr/ALOawL/wzrOnpbaNpgaaJo7OOSUwZV/KcFiG3fJgDoQfavUaMUAMUYFPpMUtAGUf+Rgv/wDrxh/9ClrD8Kf8ibo3/XjD/wCgCtw/8jBf/wDXjD/6FLWH4U/5E3Rv+vGH/wBAFAGr0riJfB1/HBqiQ/Z5kWCSHTYpvmUJI+9wwIx14HXgV3FFMDzmw8EavFdXs0giRbgSFVaUMwLRKgztUDqvYVeTwtqUWpApaWb7bqW5F47/ADEPGVCFcZ4JA64xXcUUAebxeCtXJgmltrbfFJbuY/NXaTHJltu1AFGM4zk9qfJ4J1QWd/AtvaTvfpNGk0knNnuldgyjHPDA8Y5Ar0WigDjIPB9xBrdrfhYPMj1aS7kmz87RGFkAzjrkjiuzoooAgk/5CWk/9fh/9ES1es/+Ri1L/rlD/wCz1Rk/5CWk/wDX4f8A0RLV6z/5GLUv+uUP/s9IDUpGpaKAOK07whOlppMGpQ28yWd9c3Eit8wIcyFMccn5xWBdeA9dvEuw8NrG0iTRgo6qjBnDAhQuRwOdxPNeqUUAeczeAb0aRbQ2sdrHchLxbiQHG/zSSmTjntn0qxJ4NnhFxdbYY5mur2dpo1zJ5csbKuMDJIyOPau9xQRQBwXgMNJqdxKunRWqR2VvCZIlYCVl3cnKrz7ds8131NC46U6gCO4/49pf9w/yrG8Hgt4F0UZIzYQ8j/cFbNx/x7S/7h/lWT4M/wCRG0T/AK8Yf/QBQBKdFkyT/a+pf9/E/wDiaT+xZP8AoMal/wB/E/8Aia1qKAPMb/4R3F/4yuNbPinVLZZduFtn2ScDHLDj9K9C0+zNhZR25ubi58sY824fc7fU45q5QelAGdqms2WkLGb6UoZCQiqhZjjrgDJ4qqPFWjNd/ZhfJ5n97B25278bumdvOM5xUPinw7Pr0MAtp44XhYkF0OeRjIZSGU/Q896y4PBF9Fbz2D6uJLC5YyTboAZnYptI356E/N0z2pAaw8YaL9lkuGvNqRlQwaNgx3HCkLjJBPQjrU1l4k0u/vFtbW53StnaCjKGIHIBIwSO46isUeCry61FdQ1TUIpLmNYIl8mDYpjjcvyMn5iSfpRpngV9O8Rpem9ElrFcS3EUbKxYNJnI5YqMbjyACfzyw6E2q+OrTS/EC6V9mllctEjuEbCl2wB909gT+FW9P8RXNzrSWF7pjWgnieWBjKGYqrBTvUD5c5BHJqnc+B47vxLJqs93OQ8yyiNJnUDam1RwcdST+NTeH/DuraZq1xe6nqNtfNcZ3SC3ZZMZ+VQS5AUDsAPWgDpwKWkFLQBgeIF/tG5h0q3RftDjzvPOf9HA4DAgghs9OR39K0tMtJ7G0WG4vJr1x1lmC7j+QAqlaDPjLVD6Wdr/AOhTVtUANfpWK/ivR0uZIXvNrRhyWKHadn38NjBx3x0raYZFcVb+A7s+IEvtQ1MXUKPcfu3RiXSUEbeWwuAccDmkBvXXibSrOVopboGVQpMcal2wwyDgewzUc3i3RoJPLe8BYxrL8iMw2t93kDv29a5wfDeWGzt/I1Mvd27SASyBgHjYBVB2sDlVRBnPOD61e/4QieDS57ey1DypJIoYw6xlfudRwcgH26UwNU+LNHFmtwbk7Wdo9vltvDKMkFcZGByeKd/wlOkeZAq3at9oRHRlUlcP90k9BntmuQm8Kar4eiE1hI13dTTzMTHb+YEWRFG0hnB6qPmz9RU1p8PLpo7GWa8WNvs1tHdRMrH5ogPugMF56cg460Aegrg07aKRF2rinUAFFFFABRRRQAUUUUAFFFFAFXUrNNQ02e1l4WVCpPp71S07ULtGWz1O0kScceeg3RSe4Pb6HFa9JtHpQBh+LA7aPAUjZ/Lv7WRgiliFWdCxwPQAmrX/AAkFh/em/wDAd/8ACtLA9KNo9BQBm/8ACQWPrN/4Dv8A4Uf8JBY+s3/gO/8AhWltHoKNo9BQBm/8JBY+s3/gO/8AhR/wkFj6zf8AgO/+FaW0ego2j0FAGb/wkFj6zf8AgO/+FH/CQWPrN/4Dv/hWltHoKNo9BQBm/wDCQWPrN/4Dv/hR/wAJBY+s3/gO/wDhWltHoKNo9BQBi2tyt7q99PArmI2kUYZkK5YNISOR7j86wfDt4lp4Y0y2uYriOaG0ijkQ275VgoBHSu42gdBRtUdhQBzH9qW/92f/AMB3/wAKP7Ut/wC7P/4Dv/hXT7R6CjaPQflQBzH9qW/92f8A8B3/AMKP7Ut/7s//AIDv/hXT7R6D8qNo9B+VAHMf2pb/AN2f/wAB3/wo/tS3/uz/APgO/wDhXT7R6D8qNo9B+VAHMf2pb/3Z/wDwHf8Awo/tS3/uz/8AgO/+FdPtHoPyo2j0H5UAcxFdpd6ppqwJMTHcs7loWUKvkyjJJHqQPxq4b2PT9fvXulkVZYotjLEzBsb88ge4rb2j0o2j0oAzf+EgsfWb/wAB3/wo/wCEgsfWb/wHf/CtLaPQUbR6CgDN/wCEgsfWb/wHf/Cj/hILH1m/8B3/AMK0to9BRtHoKAM3/hILH1m/8B3/AMKP+EgsfWb/AMB3/wAK0to9BRtHoKAM3/hILH1m/wDAd/8ACj/hILH1m/8AAd/8K0to9BRtHoKAMqfXrJoHVTMSykD/AEd/T6UnhOCW28HaRBcRtHLHZxI6MOVIUZBrW2j0FKBjpQAUUUUAFFFFABRRRQAUUUUAGKKKKACiiigDHs/+Rx1X/r0tf/Qpq2Kx7P8A5HHVf+vS1/8AQpq2KACiiigAooooAQrmlxiiigAooooAKKKKACiiigAooooAKKKKACkyKiu7iO1tZJ522xxqWY+gFZth/al46XV1KtpA3zLarHuYjtuY9/YDj1oA2M0Vi+J7i6tNJjaxuGtpZby2g8xUViqvMqNgMCM4J6il/sbUv+hkv/8Avxb/APxugDZorG/sbUv+hkv/APvxb/8Axuj+xtS/6GS//wC/Fv8A/G6ANmisb+xtS/6GS/8A+/Fv/wDG6P7G1L/oZL//AL8W/wD8boA2aKxv7G1L/oZL/wD78W//AMbo/sbUv+hkv/8Avxb/APxugDZorG/sbUv+hkv/APvxb/8Axuj+xtS/6GS//wC/Fv8A/G6ANjcKUHNYtit5a6le2tzqMt6qW0cyNLHGpUkyA/cUcfKKz/D1rq2q+G9Pv5/EV4sl1bRyuqQW+AWUE4/d9OaAOqorG/sbUv8AoZL/AP78W/8A8bo/sbUv+hkv/wDvxb//ABugDZorG/sbUv8AoZL/AP78W/8A8bo/sbUv+hkv/wDvxb//ABugDZorG/sbUv8AoZL/AP78W/8A8bo/sbUv+hkv/wDvxb//ABugDZorG/sbUv8AoZL/AP78W/8A8bo/sbUv+hkv/wDvxb//ABugDZpMisJrbUbDUtO8zWrm7inuGikilhhAI8qRuqoD1Ud6hv21CfXLmG21S4s4oYoyEhjiOSxbJJdCewoA6SiuX+zap/0MN9/35t//AI3R9m1T/oYb7/vzb/8AxugDqKK5f7Nqn/Qw33/fm3/+N0fZtU/6GG+/782//wAboA6iiuX+zap/0MN9/wB+bf8A+N0fZtU/6GG+/wC/Nv8A/G6AOoorl/s2qf8AQw33/fm3/wDjdH2bVP8AoYb7/vzb/wDxugDqCcUA56Vyr2+qhCR4hvuBn/U2/wD8brX8NXk2o+FtMvbpg09xaxyyMBjLFQTxQBp0UUUAFFFFABRRRQAUUZ5ooAKKKKACiiigDHs/+Rx1X/r0tf8A0Katisez/wCRx1X/AK9LX/0KatigAooooAKKKKACiiigAooooAKKKKAA0maq6pI8Ol3MsTbXSJ2DehxXn3hvUdS07R21rUJdfume3QJFqE8HkSO7LgrsG4c+vY+tID0vNKK85vvHN5ZeIGS8j2rYW85uIIXysrARFCCRx9/Fbuh6lqd1r+qQan5cIhgiZESTci53ZbOAf/1UwOoJpa4vQL3UoPF0thqF/LdwXFt58MkmwpKwPzGLb91AGUYbnkY712MjiOJnbgKMnAoAyfFv/IrXn0X/ANCFbAArmH1OLxPdCxsCxtIZVe7kcFCdpyEAPPUDJxjGR3rp16UAYfi3/kE2v/YSs/8A0ojrdrC8W/8AIJtf+wlZ/wDpRHW7QAUZorhvESeII/GmmWth4hltbXUTMTELeNvLEaBsAkZOfegDuM0Vxh8bzRacLqTSSiNK8cRlukXzAmQW9RkjgYPXtUNp47lu77y7HT5rt7kxmKJpUjEYMIkOT/nmgDuqK4RPHrSX9sLOxnuWv0i8i3Z0QRsyysct9Izn9Km/4WAZLB7m00ieY29sbm7jMyqYQGZcZ/iOUbp2H4UAdrRUVvIJYVkGRvUNg9qloAyz/wAjBf8A/XjD/wChS1B4L/5EbRP+vGH/ANAFTn/kYL//AK8Yf/Qpag8F/wDIjaJ/14w/+gCgDboorjvHNneSLZXFlrmpaduuobZo7R0CsHkCljuUnODx29qAOxzSZriLfxHeaZDq1sQ11DozR25urucebPI4Q5OFA6P25OMAVQn+IUn2eC8FvJ5kM1zC0SOUSUoikEhl3fxe2PekB6NmiuB1PxpdafJIL22aO4sZHZ44JgUlX7M8oByue3tyM+1W4vF+pSXX2BtPgW+dozH+/wD3YVkZ8k4zkbcYpgdpRWV4b1Vtc8P2uoyQiF51JaMNu2kEjr36Vq0AZ2qf8f8Ao/8A1+N/6IlqhJ/yMV//ANcoP/Z6v6p/x/6P/wBfjf8AoiWqEn/IxX//AFyg/wDZ6AJKWiuU1fXLrRNS1KC4dmjuYEOmk8kzsfLKD2DFD+JpgdXRXm2o+N7630O+sgcXken3LR3UbEkSQr94nbtJJ54Jx3rci8R3bQJbWkfnXciTyl55MAKhAOCB1ywxQOx1tFcNpnjW4dLC3mjSV5BHE77yWLsgbcSBtHJ6Eg98VU0fxnfiNWv0Nxdz29qEjEgWLfLK6A/dyOnPXOBgUCPRKK4u88b3lq15ENNjabT4ZZ7n9/8AKRHg4X5eSQR16d67CGQTW8cqjAkQOAe2RmmA6T/VP/umn+DP+RG0T/rxh/8AQBTJP9U3+6aXwcwXwLopPQWEJ6f7ApMDcorLPiGxBIxd8f8ATnL/APE0h8RWHpd/+Acv/wATSA1aD0rzbUPjRo2meLJtDutO1ImPGJ4bdmzkZ5TG4fka7/T9Qg1OxS6tfM8uTp5kbRt+TAGgClqerT6dq2nRukf2O7doXkOdyyEZTHbBwR+VZFv43QG4mvYWS0ExEM0cZIWMNs3Ofdg3Ttg1t67pK61pMlmZmt5CQ8U6AbonU5VhnjINc1qPw4tb5Y0S7ZIUhSIBow7JtOcqT93J6+vqKSAfZePBJqd5BerGBC7pHFCrNJIRMY19ucVNY+OYpdOmury1nUpc3EYSKIkrHE2CzZ6HHb8qiHw/hi1Ka/t9QmjuXYvG+0ERsZTJ07j5iMelQ3Pw5W7szDcaiZmeSd5WlhDDMpySq9Aw6A80xlhvHsH9pTRlVgs4Hizcyg7XR4jJkY6cDvV7/hNtOWItKlzHISmyFoTvcOcKQO4JrNm+HlpOhhuLyR7aSKKOSLaAW2RGLOe2VP51ag8HZvIrq/1GS5uIDCI22BQEjO4KQO5PU/oKBG9pWqwavame33qFdo3SRdrIwOCCKvVn6Vpa6Z9q2Oz/AGi4ec57Fu1aFAGPZ/8AI46r/wBelr/6FNWxWPZ/8jjqv/Xpa/8AoU1bFABRRRQAUUUUAFFFFABRRRQAUUUUARzwpPC0UgyjqVYeoNVZNIspdJGmSQhrTyxH5Z/ujpz1/Gr1GKAMOLwjosWT9k8xmV1dpXaRnDgBtxYktkKo59KsaZ4e07STMbKJg04AlaSRnLgDAyWJ7VqYoxSAydN8N6XpNw09hb+W5XYuWLCNc52oCcKvsMCtXGRS4opgYfiGFLSFNXhwlxauuWA+/GWAZT68HI9wK216VleKI3l8M3ixLubYGx64IJ/lWnDKk0KyRMGRhlWHcUAYvi3/AJBNr/2ErP8A9KI63awvFv8AyCbX/sJWf/pRHW7QAVSutJtbvUbS+mUmez3+SQem8Yb68CrtFAGDceEdNnjt0/fxG2L+W8UpVhvOWGfejT/B+laZdRXFrHJ5kWNpeQt0TZ/6DW9RigDAtvBmkWlza3EMUiyWmPKJkJxhXUfpI1YeueAXu3EOlTra20sRimPmOr7S5Y5wcOPmOAen0JFd3RgUARQxiKJUU5CqAKlFGKKAMs/8jBf/APXjD/6FLUHgv/kRtE/68Yf/AEAVOf8AkYL/AP68Yf8A0KWoPBf/ACI2if8AXjD/AOgCgDbqtd2FvfIiXSeYsciyqMkYZTlT+BFWaKAMqfw7ptxFexyQcX0iyzkMQWdQoVgQeCNq9PSqo8GaGIfKNnvXe8hLyMSzOAGJJOSTgc1v4oxQBkXnhjSdQlmlu7RZHn/1h3EbvkMfr/dJH41R17wjFqsA+wyx2lxvQtK8ZfIQEKOGUj7x5BH410uKMUAZnh7Ro/D/AIftNLhculsmwMRjPOc4/GtOiigDO1T/AI/9H/6/G/8AREtUJP8AkYr/AP65Qf8As9X9U/4/9H/6/G/9ES1Qk/5GK/8A+uUH/s9AEtVbvTLO+ubWe8gWWW0cyQM38DEYJH4VaopgYZ8HaGxkL2e8SJIhVpWKqsn31UZwoPoKsXHh3TLmFYpLfCqzMCkjI3zfeGQc4PcdK1KKAMWDwlo1tOssNpsKOrqokbaGAwG25xuwAM9cUL4S0VIpo1sl2TBQwLHjaxZdvPy4YkjGMdq2qKAMmPwzpEdvJCLQFZYnikLMxZ1c5bcSckk9zzWoiLHGqIMKoCgegFOooAbJ/qn/AN007waM+B9E/wCvCH/0AU2T/Vt9DT/Bn/Ij6J/14w/+gCgDaxSYz3paKQFZdPtEunuUtoVnk+/IEG5vqe9T7cU6igDlvGOs3+kx2o06WKIyli5YKz4Az8qsVB9+awbfxvqE8M9+t5ZmOOTyo9PMJEkv7nfuBzkE9cYxt7969AurK2vIwl3bxTqDkLKgYD86YNOsxceeLSATY2+Z5Y3Y9M0AcDL4r1tLj7Bb6hZ3cksdtIl7HBlIzK5UoVDc8DI5qbQfFms3niSKzvGgeGS4nt2TYqMPLB+YfMWJO3JGON3tz28WmWMClYLOCNS28hIgBu9frTk0+0S6a5S2hWdhgyiMBj+PWgDzTXr7Wbn4gGC1urkQQzwRqkdqCuBmR+d49F7dK1tBmjj8bp9iupLi1u7WRtxuGkZ3V1yzofuY5UYruBawiYyiJBITkvtGc4x1+lNhsLS3meaC2hjlk++6RgFvqe9AE4paKp6hqMenqu9JZHbO1IoyzN+VAFKzP/FY6p/16Wv/AKFNWzWTo9tc+bc6hfRiK4uyv7rIJjRR8qkjjPJJxkZJwSK1qACiiigAooooAKKKKACiiigAooooAKKKKACiiigAooooAR13KQRkHrWZa6MbCZfsd3NHbA5+zHDIPYZGQPxrUooAztY0r+17FbczNAUminWRACQ0bhx191FR/wBnan/0GJP+/Kf4Vq0UAZX9nan/ANBiT/vyn+FH9nan/wBBiT/vyn+FatFAGV/Z2p/9BiT/AL8p/hR/Z2p/9BiT/vyn+FatFAGV/Z2p/wDQYk/78p/hR/Z2p/8AQYk/78p/hWrRQBlf2dqf/QYk/wC/Kf4Uf2dqf/QYk/78p/hWrRQBmWmlywXFxPc3b3Ek0axZZQu1VLEdP981T03w/e6XptvY22ry+TbRLFHuiQnaowO1b9FAGV/Z2p/9BiT/AL8p/hR/Z2p/9BiT/vyn+FatFAGV/Z2p/wDQYk/78p/hR/Z2p/8AQYk/78p/hWrRQBlf2dqf/QYk/wC/Kf4Uf2dqf/QYk/78p/hWrRQBlf2dqf8A0GJP+/Kf4Uf2dqf/AEGJP+/Kf4Vq0UAZK6TdteWs91qMk620hkWPy1UElGTnA9GNMvNEln1CS7t76S3MqKrqEVh8ucHkf7VbNFAGF/YN7/0F5P8Av0n+FH9g3v8A0F5P+/Kf4Vu0UAYX9g3v/QXk/wC/Kf4Uf2De/wDQXk/78p/hW7RTAwv7Bvf+gvJ/35T/AAo/sG9/6C8n/flP8K3aKAML+wb3/oLyf9+U/wAKP7Bvf+gvJ/35T/Ct2igDBbQL0qR/a8vI/wCeSf4Vp6Tp6aVo9pp8TM6WsKxKzdSFGAT+VW6KQBRRRQAUUUUAFFFFABRRRQAUUUUAFGKKKACiiigAooooAKKKKACiiigAooooAKKKKAP/2Q==)"
      ]
    },
    {
      "cell_type": "markdown",
      "metadata": {
        "id": "LloA2_DpgJyI"
      },
      "source": [
        "En términos de código, esto es sencillo:"
      ]
    },
    {
      "cell_type": "code",
      "metadata": {
        "colab": {
          "base_uri": "https://localhost:8080/"
        },
        "id": "29z-NUJbgJyI",
        "outputId": "2f32b676-6848-41a0-f2f1-ed942eefe66d"
      },
      "source": [
        "import numpy as np\n",
        "\n",
        "# k= 4 particiones\n",
        "k = 4\n",
        "num_val_samples = len(train_data) // k # 404//4=101\n",
        "print(\"num_val_samples\", num_val_samples)\n",
        "num_epochs = 100\n",
        "all_scores = []\n",
        "for i in range(k):\n",
        "    print('processing fold #', i)\n",
        "    # Preparamos la validación de los datos: datos de la partición #k\n",
        "    print(\"Uso para validar el siguiente rango de datos de entrenamiento -> [\",(i * num_val_samples),\":\",((i + 1) * num_val_samples),\"]\")\n",
        "    val_data = train_data[i * num_val_samples: (i + 1) * num_val_samples]\n",
        "    val_targets = train_targets[i * num_val_samples: (i + 1) * num_val_samples]\n",
        "\n",
        "    # Preparamos los datos de entrenamiento: Datos de las demás particiones\n",
        "    print(\"Uso para entrenar el siguiente rango de datos de entrenamiento -> [0:\",(i * num_val_samples),\"]U[\",(i + 1) * num_val_samples,\":\",len(train_data),\"]\")\n",
        "    partial_train_data = np.concatenate(\n",
        "        [train_data[:i * num_val_samples],\n",
        "         train_data[(i + 1) * num_val_samples:]],\n",
        "        axis=0)\n",
        "    partial_train_targets = np.concatenate(\n",
        "        [train_targets[:i * num_val_samples],\n",
        "         train_targets[(i + 1) * num_val_samples:]],\n",
        "        axis=0)\n",
        "\n",
        "    # Construcción del modelo Keras (ya compilado)\n",
        "    model = build_model()\n",
        "    # Entrenando el modelo (en modo silencioso, verbose=0)\n",
        "    model.fit(partial_train_data, partial_train_targets,\n",
        "              epochs=num_epochs, batch_size=1, verbose=0)\n",
        "    # Evalua el modelo sobre los datos de validación\n",
        "    val_mse, val_mae = model.evaluate(val_data, val_targets, verbose=0)\n",
        "    all_scores.append(val_mae)"
      ],
      "execution_count": 10,
      "outputs": [
        {
          "output_type": "stream",
          "name": "stdout",
          "text": [
            "num_val_samples 101\n",
            "processing fold # 0\n",
            "Uso para validar el siguiente rango de datos de entrenamiento -> [ 0 : 101 ]\n",
            "Uso para entrenar el siguiente rango de datos de entrenamiento -> [0: 0 ]U[ 101 : 404 ]\n",
            "processing fold # 1\n",
            "Uso para validar el siguiente rango de datos de entrenamiento -> [ 101 : 202 ]\n",
            "Uso para entrenar el siguiente rango de datos de entrenamiento -> [0: 101 ]U[ 202 : 404 ]\n",
            "processing fold # 2\n",
            "Uso para validar el siguiente rango de datos de entrenamiento -> [ 202 : 303 ]\n",
            "Uso para entrenar el siguiente rango de datos de entrenamiento -> [0: 202 ]U[ 303 : 404 ]\n",
            "processing fold # 3\n",
            "Uso para validar el siguiente rango de datos de entrenamiento -> [ 303 : 404 ]\n",
            "Uso para entrenar el siguiente rango de datos de entrenamiento -> [0: 303 ]U[ 404 : 404 ]\n"
          ]
        }
      ]
    },
    {
      "cell_type": "code",
      "metadata": {
        "colab": {
          "base_uri": "https://localhost:8080/"
        },
        "id": "uhNx8gaNgJyJ",
        "outputId": "beac08b0-ea5a-42a7-b57d-766b543b7b7a"
      },
      "source": [
        "all_scores"
      ],
      "execution_count": 11,
      "outputs": [
        {
          "output_type": "execute_result",
          "data": {
            "text/plain": [
              "[2.2560534477233887, 2.3454527854919434, 2.8378496170043945, 2.409552812576294]"
            ]
          },
          "metadata": {},
          "execution_count": 11
        }
      ]
    },
    {
      "cell_type": "code",
      "metadata": {
        "colab": {
          "base_uri": "https://localhost:8080/"
        },
        "id": "dwr0Axa0gJyJ",
        "outputId": "d9a50108-fd02-4498-f044-7262bf8ca54c"
      },
      "source": [
        "np.mean(all_scores)"
      ],
      "execution_count": 12,
      "outputs": [
        {
          "output_type": "execute_result",
          "data": {
            "text/plain": [
              "2.462227165699005"
            ]
          },
          "metadata": {},
          "execution_count": 12
        }
      ]
    },
    {
      "cell_type": "markdown",
      "metadata": {
        "id": "X-OkyvMRgJyK"
      },
      "source": [
        "* Se puede ver que diferentes ejecuciones muestran puntuajes de validación bastante diferentes, de 1.9 a 2.9 \n",
        "* El **promedio** (2.49) **es una métrica mucho más confiable que cualquier puntuación individual**; **esa es la clave de la validación cruzada de K-iteraciones**.\n",
        "* En este caso, **nos desviamos una media de 2.500 dólares, significativo** considerando que los precios oscilan entre 10K dólares (25%) y 50K dólares (5%).\n",
        "\n",
        "Vamos a entrenar la red un poco más de tiempo: **500 repeticiones**. Para mantener un registro de cómo de bien funciona el modelo en cada repetición, **modificaremos nuestro ciclo de entrenamiento para guardar el registro de puntuación de validación por repetición**:"
      ]
    },
    {
      "cell_type": "code",
      "metadata": {
        "collapsed": true,
        "id": "KH2zQ6jngJyK"
      },
      "source": [
        "from keras import backend as K\n",
        "\n",
        "# Some memory clean-up\n",
        "K.clear_session()"
      ],
      "execution_count": 13,
      "outputs": []
    },
    {
      "cell_type": "code",
      "metadata": {
        "colab": {
          "base_uri": "https://localhost:8080/"
        },
        "id": "Um-Dn-2kgJyK",
        "outputId": "36003b11-bcef-438a-95ef-00d249ee0e2a"
      },
      "source": [
        "num_epochs = 500\n",
        "all_mae_histories = []\n",
        "for i in range(k):\n",
        "    print('processing fold #', i)\n",
        "    # Preparamos la validación de los datos: datos de la partición # k\n",
        "    print(\"Uso para validar el siguiente rango de datos de entrenamiento -> [\",(i * num_val_samples),\":\",((i + 1) * num_val_samples),\"]\")\n",
        "    val_data = train_data[i * num_val_samples: (i + 1) * num_val_samples]\n",
        "    val_targets = train_targets[i * num_val_samples: (i + 1) * num_val_samples]\n",
        "\n",
        "    # Preparamos los datos de entrenamiento: Datos de todas la demás particiones\n",
        "    print(\"Uso para entrenar el siguiente rango de datos de entrenamiento -> [0:\",(i * num_val_samples),\"]U[\",(i + 1) * num_val_samples,\":\",len(train_data),\"]\")\n",
        "    partial_train_data = np.concatenate(\n",
        "        [train_data[:i * num_val_samples],\n",
        "         train_data[(i + 1) * num_val_samples:]],\n",
        "        axis=0)\n",
        "    partial_train_targets = np.concatenate(\n",
        "        [train_targets[:i * num_val_samples],\n",
        "         train_targets[(i + 1) * num_val_samples:]],\n",
        "        axis=0)\n",
        "\n",
        "    # Construcción del modelo Keras (ya compilado)\n",
        "    model = build_model()\n",
        "    # Entrenando el modelo (en modo silencioso, verbose=0)\n",
        "    history = model.fit(partial_train_data, partial_train_targets,\n",
        "                        validation_data=(val_data, val_targets),\n",
        "                        epochs=num_epochs, batch_size=1, verbose=0)\n",
        "    mae_history = history.history['val_mean_absolute_error']\n",
        "    all_mae_histories.append(mae_history)"
      ],
      "execution_count": 14,
      "outputs": [
        {
          "output_type": "stream",
          "name": "stdout",
          "text": [
            "processing fold # 0\n",
            "Uso para validar el siguiente rango de datos de entrenamiento -> [ 0 : 101 ]\n",
            "Uso para entrenar el siguiente rango de datos de entrenamiento -> [0: 0 ]U[ 101 : 404 ]\n",
            "processing fold # 1\n",
            "Uso para validar el siguiente rango de datos de entrenamiento -> [ 101 : 202 ]\n",
            "Uso para entrenar el siguiente rango de datos de entrenamiento -> [0: 101 ]U[ 202 : 404 ]\n",
            "processing fold # 2\n",
            "Uso para validar el siguiente rango de datos de entrenamiento -> [ 202 : 303 ]\n",
            "Uso para entrenar el siguiente rango de datos de entrenamiento -> [0: 202 ]U[ 303 : 404 ]\n",
            "processing fold # 3\n",
            "Uso para validar el siguiente rango de datos de entrenamiento -> [ 303 : 404 ]\n",
            "Uso para entrenar el siguiente rango de datos de entrenamiento -> [0: 303 ]U[ 404 : 404 ]\n"
          ]
        }
      ]
    },
    {
      "cell_type": "markdown",
      "metadata": {
        "id": "saOH1pyOgJyL"
      },
      "source": [
        "A continuación, podemos **calcular el promedio de las puntuaciones MAE por repetición para todas los iteraciones**:"
      ]
    },
    {
      "cell_type": "code",
      "metadata": {
        "collapsed": true,
        "id": "LWBos85RgJyL"
      },
      "source": [
        "average_mae_history = [\n",
        "    np.mean([x[i] for x in all_mae_histories]) for i in range(num_epochs)]"
      ],
      "execution_count": 15,
      "outputs": []
    },
    {
      "cell_type": "markdown",
      "metadata": {
        "id": "B8g7f2NJgJyL"
      },
      "source": [
        "Lo pintamos:"
      ]
    },
    {
      "cell_type": "code",
      "metadata": {
        "colab": {
          "base_uri": "https://localhost:8080/",
          "height": 279
        },
        "id": "-JpKmZdlgJyL",
        "outputId": "07f22947-484f-4cbc-b56e-e13c2138ad59"
      },
      "source": [
        "import matplotlib.pyplot as plt\n",
        "\n",
        "plt.plot(range(1, len(average_mae_history) + 1), average_mae_history)\n",
        "plt.xlabel('Epochs')\n",
        "plt.ylabel('Validación MAE')\n",
        "plt.show()"
      ],
      "execution_count": 16,
      "outputs": [
        {
          "output_type": "display_data",
          "data": {
            "text/plain": [
              "<Figure size 432x288 with 1 Axes>"
            ],
            "image/png": "[encoded data removed]"
          },
          "metadata": {
            "needs_background": "light"
          }
        }
      ]
    },
    {
      "cell_type": "markdown",
      "metadata": {
        "id": "AeJhXy8WgJyL"
      },
      "source": [
        "Puede ser un poco difícil ver el gráfico debido a **problemas de escala** y la **varianza relativamente alta**. Vamos a:\n",
        "\n",
        "* **Omitir los primeros 10 puntos de datos**, que están en una **escala diferente del resto de la curva**.\n",
        "* Reemplazar cada punto con una **media móvil exponencial** de los puntos anteriores para obtener una curva suave.(Una promedio móvil exponencial (**EMA**) es un cálculo del **valor medio durante un período de tiempo específico** que **da más peso a los datos de valores más recientes**, lo que hace que **reaccione más rápidamente a los cambios de valores**. Se utilizan en bolsa en los gráficos para ayudar a determinar la **tendencia**, la **dirección** y la **fuerza** de los precios de un valor) (EMA(actual) = ((Precio(actual) – EMA (anterior)) x Multiplicador) + EMA(anterior))"
      ]
    },
    {
      "cell_type": "code",
      "metadata": {
        "colab": {
          "base_uri": "https://localhost:8080/",
          "height": 279
        },
        "id": "BvmzqmLBgJyM",
        "outputId": "759b01cd-165a-4dc5-b856-55337dd98ca2"
      },
      "source": [
        "def smooth_curve(points, factor=0.9):\n",
        "  smoothed_points = []\n",
        "  for point in points:\n",
        "    if smoothed_points:\n",
        "      previous = smoothed_points[-1]\n",
        "      smoothed_points.append(previous * factor + point * (1 - factor))\n",
        "    else:\n",
        "      smoothed_points.append(point)\n",
        "  return smoothed_points\n",
        "\n",
        "smooth_mae_history = smooth_curve(average_mae_history[10:])\n",
        "\n",
        "plt.plot(range(1, len(smooth_mae_history) + 1), smooth_mae_history)\n",
        "plt.xlabel('Repeticiones')\n",
        "plt.ylabel('MAE de validación')\n",
        "plt.show()"
      ],
      "execution_count": 17,
      "outputs": [
        {
          "output_type": "display_data",
          "data": {
            "text/plain": [
              "<Figure size 432x288 with 1 Axes>"
            ],
            "image/png": "[encoded data removed]"
          },
          "metadata": {
            "needs_background": "light"
          }
        }
      ]
    },
    {
      "cell_type": "markdown",
      "metadata": {
        "id": "JO3cHN6WgJyM"
      },
      "source": [
        "Según este gráfico, parece que el **MAE de validación deja de mejorar significativamente después de 80 repeticiones**. Pasado ese punto, comenzamos a sobreajustar.\n",
        "\n",
        "Una vez que hayamos terminado de ajustar otros parámetros de nuestro modelo (además del número de repeticiones, también podríamos ajustar el tamaño de las capas ocultas), podemos **entrenar un modelo de \"producción\" final** en todos los datos de entrenamiento, **con los mejores parámetros**, y luego observar su rendimiento en los datos de prueba:"
      ]
    },
    {
      "cell_type": "code",
      "metadata": {
        "colab": {
          "base_uri": "https://localhost:8080/"
        },
        "id": "29h1Z5oFgJyM",
        "outputId": "95a8f9a9-9de8-403e-d40a-1e52aced5e68"
      },
      "source": [
        "# Obtenemos un modelo compilado nuevo\n",
        "model = build_model()\n",
        "# Lo entrenamos en todos los datos.\n",
        "model.fit(train_data, train_targets,\n",
        "          epochs=80, batch_size=16, verbose=0)\n",
        "test_mse_score, test_mae_score = model.evaluate(test_data, test_targets)"
      ],
      "execution_count": 18,
      "outputs": [
        {
          "output_type": "stream",
          "name": "stdout",
          "text": [
            "4/4 [==============================] - 0s 3ms/step - loss: 16.8352 - mean_absolute_error: 2.7721\n"
          ]
        }
      ]
    },
    {
      "cell_type": "code",
      "metadata": {
        "colab": {
          "base_uri": "https://localhost:8080/"
        },
        "id": "a-aLVqpygJyM",
        "outputId": "af8e90b0-52d5-4841-8998-22bebb588fe7"
      },
      "source": [
        "test_mae_score"
      ],
      "execution_count": 19,
      "outputs": [
        {
          "output_type": "execute_result",
          "data": {
            "text/plain": [
              "2.7720649242401123"
            ]
          },
          "metadata": {},
          "execution_count": 19
        }
      ]
    },
    {
      "cell_type": "markdown",
      "metadata": {
        "id": "8IWOv4gVgJyN"
      },
      "source": [
        "Todavía estamos desviados en alrededor de 2.772 dólares"
      ]
    },
    {
      "cell_type": "markdown",
      "metadata": {
        "id": "1agBewu2gJyO"
      },
      "source": [
        "## Resumiendo\n",
        "\n",
        "Esto es lo que se debería sacar de este ejemplo:\n",
        "\n",
        "* La **regresión se realiza utilizando funciones de pérdida diferentes a las usadas en la clasificación**; El **error cuadrático medio (MSE)** es una **función de pérdida de uso común para regresión**.\n",
        "* De manera similar, **las métricas de evaluación que se utilizarán para la regresión difieren de las utilizadas para la clasificación**; naturalmente, **el concepto de \"precisión\" o exactitud no aplica para regresión**. **Una métrica de regresión común es el error absoluto medio (MAE)**.\n",
        "* Cuando las características en los datos de entrada tienen **valores en diferentes rangos**, **cada característica debe escalarse de forma independiente** como paso de preprocesamiento.\n",
        "* Cuando hay **pocos datos disponibles**, usar la **validación de K-iteraciones** es una excelente manera de evaluar un modelo de manera fiable.\n",
        "* Cuando hay **pocos datos de entrenamiento** disponibles, es preferible **usar una red pequeña con muy pocas capas ocultas** (**generalmente solo una o dos**), para **evitar un sobreajuste** exagerado."
      ]
    },
    {
      "cell_type": "markdown",
      "metadata": {
        "id": "lFqZVJTO7_GY"
      },
      "source": [
        "---"
      ]
    }
  ]
}