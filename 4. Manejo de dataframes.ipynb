{
 "cells": [
  {
   "cell_type": "code",
   "execution_count": 1,
   "metadata": {
    "pycharm": {
     "name": "#%%\n"
    }
   },
   "outputs": [],
   "source": [
    "import pandas as pd\n",
    "import numpy as np\n",
    "import matplotlib.pyplot as plt\n",
    "%matplotlib inline"
   ]
  },
  {
   "cell_type": "code",
   "execution_count": 2,
   "metadata": {
    "pycharm": {
     "name": "#%%\n"
    }
   },
   "outputs": [
    {
     "data": {
      "text/html": [
       "<div>\n",
       "<style scoped>\n",
       "    .dataframe tbody tr th:only-of-type {\n",
       "        vertical-align: middle;\n",
       "    }\n",
       "\n",
       "    .dataframe tbody tr th {\n",
       "        vertical-align: top;\n",
       "    }\n",
       "\n",
       "    .dataframe thead th {\n",
       "        text-align: right;\n",
       "    }\n",
       "</style>\n",
       "<table border=\"1\" class=\"dataframe\">\n",
       "  <thead>\n",
       "    <tr style=\"text-align: right;\">\n",
       "      <th></th>\n",
       "      <th>Este dataset pertenece a una estación ubicada en Burgos (España).;;;;;;;;;;;;;;</th>\n",
       "    </tr>\n",
       "  </thead>\n",
       "  <tbody>\n",
       "    <tr>\n",
       "      <th>0</th>\n",
       "      <td>Los datos recogidos son desde el 25/07/2000 ha...</td>\n",
       "    </tr>\n",
       "    <tr>\n",
       "      <th>1</th>\n",
       "      <td>IdProvincia;IdEstacion;Fecha;Año;Dia;Temp Medi...</td>\n",
       "    </tr>\n",
       "    <tr>\n",
       "      <th>2</th>\n",
       "      <td>9;3;25/07/2000;2000;207;16.93;23.15;17:29;11.3...</td>\n",
       "    </tr>\n",
       "    <tr>\n",
       "      <th>3</th>\n",
       "      <td>;;;;;;;;;;;;;;</td>\n",
       "    </tr>\n",
       "    <tr>\n",
       "      <th>4</th>\n",
       "      <td>;;;;;;;;;;;;;;</td>\n",
       "    </tr>\n",
       "  </tbody>\n",
       "</table>\n",
       "</div>"
      ],
      "text/plain": [
       "  Este dataset pertenece a una estación ubicada en Burgos (España).;;;;;;;;;;;;;;\n",
       "0  Los datos recogidos son desde el 25/07/2000 ha...                             \n",
       "1  IdProvincia;IdEstacion;Fecha;Año;Dia;Temp Medi...                             \n",
       "2  9;3;25/07/2000;2000;207;16.93;23.15;17:29;11.3...                             \n",
       "3                                     ;;;;;;;;;;;;;;                             \n",
       "4                                     ;;;;;;;;;;;;;;                             "
      ]
     },
     "execution_count": 2,
     "metadata": {},
     "output_type": "execute_result"
    }
   ],
   "source": [
    "estacion = pd.read_csv('estacion.csv', encoding='latin-1')\n",
    "estacion.head()"
   ]
  },
  {
   "cell_type": "markdown",
   "metadata": {
    "pycharm": {
     "name": "#%% md\n"
    }
   },
   "source": [
    "### Cargar el archivo con el encoding adecuado, separador, header requerido etc. "
   ]
  },
  {
   "cell_type": "code",
   "execution_count": 3,
   "metadata": {
    "pycharm": {
     "name": "#%%\n"
    }
   },
   "outputs": [
    {
     "data": {
      "text/html": [
       "<div>\n",
       "<style scoped>\n",
       "    .dataframe tbody tr th:only-of-type {\n",
       "        vertical-align: middle;\n",
       "    }\n",
       "\n",
       "    .dataframe tbody tr th {\n",
       "        vertical-align: top;\n",
       "    }\n",
       "\n",
       "    .dataframe thead th {\n",
       "        text-align: right;\n",
       "    }\n",
       "</style>\n",
       "<table border=\"1\" class=\"dataframe\">\n",
       "  <thead>\n",
       "    <tr style=\"text-align: right;\">\n",
       "      <th></th>\n",
       "      <th>0</th>\n",
       "      <th>1</th>\n",
       "      <th>2</th>\n",
       "      <th>3</th>\n",
       "      <th>4</th>\n",
       "      <th>5</th>\n",
       "      <th>6</th>\n",
       "      <th>7</th>\n",
       "      <th>8</th>\n",
       "      <th>9</th>\n",
       "      <th>10</th>\n",
       "      <th>11</th>\n",
       "      <th>12</th>\n",
       "      <th>13</th>\n",
       "      <th>14</th>\n",
       "    </tr>\n",
       "  </thead>\n",
       "  <tbody>\n",
       "    <tr>\n",
       "      <th>0</th>\n",
       "      <td>IdProvincia</td>\n",
       "      <td>IdEstacion</td>\n",
       "      <td>Fecha</td>\n",
       "      <td>Año</td>\n",
       "      <td>Dia</td>\n",
       "      <td>Temp Media (ºC)</td>\n",
       "      <td>Temp Max (ºC)</td>\n",
       "      <td>Hora Temp Max</td>\n",
       "      <td>Temp Mínima (ºC)</td>\n",
       "      <td>Hora Temp Min</td>\n",
       "      <td>Humedad Media (%)</td>\n",
       "      <td>Humedad Max (%)</td>\n",
       "      <td>Hora Hum Max</td>\n",
       "      <td>Humedad Min (%)</td>\n",
       "      <td>Hora Hum Mín</td>\n",
       "    </tr>\n",
       "    <tr>\n",
       "      <th>1</th>\n",
       "      <td>9</td>\n",
       "      <td>3</td>\n",
       "      <td>25/07/2000</td>\n",
       "      <td>2000</td>\n",
       "      <td>207</td>\n",
       "      <td>16.93</td>\n",
       "      <td>23.15</td>\n",
       "      <td>17:29</td>\n",
       "      <td>11.34</td>\n",
       "      <td>23:07</td>\n",
       "      <td>61.08</td>\n",
       "      <td>91.6</td>\n",
       "      <td>23:48</td>\n",
       "      <td>39.63</td>\n",
       "      <td>17:07</td>\n",
       "    </tr>\n",
       "    <tr>\n",
       "      <th>2</th>\n",
       "      <td>NaN</td>\n",
       "      <td>NaN</td>\n",
       "      <td>NaN</td>\n",
       "      <td>NaN</td>\n",
       "      <td>NaN</td>\n",
       "      <td>NaN</td>\n",
       "      <td>NaN</td>\n",
       "      <td>NaN</td>\n",
       "      <td>NaN</td>\n",
       "      <td>NaN</td>\n",
       "      <td>NaN</td>\n",
       "      <td>NaN</td>\n",
       "      <td>NaN</td>\n",
       "      <td>NaN</td>\n",
       "      <td>NaN</td>\n",
       "    </tr>\n",
       "    <tr>\n",
       "      <th>3</th>\n",
       "      <td>NaN</td>\n",
       "      <td>NaN</td>\n",
       "      <td>NaN</td>\n",
       "      <td>NaN</td>\n",
       "      <td>NaN</td>\n",
       "      <td>NaN</td>\n",
       "      <td>NaN</td>\n",
       "      <td>NaN</td>\n",
       "      <td>NaN</td>\n",
       "      <td>NaN</td>\n",
       "      <td>NaN</td>\n",
       "      <td>NaN</td>\n",
       "      <td>NaN</td>\n",
       "      <td>NaN</td>\n",
       "      <td>NaN</td>\n",
       "    </tr>\n",
       "    <tr>\n",
       "      <th>4</th>\n",
       "      <td>9</td>\n",
       "      <td>3</td>\n",
       "      <td>26/07/2000</td>\n",
       "      <td>2000</td>\n",
       "      <td>208</td>\n",
       "      <td>16.35</td>\n",
       "      <td>24.74</td>\n",
       "      <td>16:31</td>\n",
       "      <td>10.19</td>\n",
       "      <td>3:37</td>\n",
       "      <td>68.07</td>\n",
       "      <td>94.1</td>\n",
       "      <td>22:54</td>\n",
       "      <td>31.21</td>\n",
       "      <td>16:35</td>\n",
       "    </tr>\n",
       "    <tr>\n",
       "      <th>5</th>\n",
       "      <td>9</td>\n",
       "      <td>3</td>\n",
       "      <td>27/07/2000</td>\n",
       "      <td>2000</td>\n",
       "      <td>209</td>\n",
       "      <td>19.15</td>\n",
       "      <td>29.8</td>\n",
       "      <td>16:05</td>\n",
       "      <td>8.52</td>\n",
       "      <td>6:18</td>\n",
       "      <td>60.81</td>\n",
       "      <td>96.9</td>\n",
       "      <td>6:52</td>\n",
       "      <td>18.87</td>\n",
       "      <td>16:02</td>\n",
       "    </tr>\n",
       "    <tr>\n",
       "      <th>6</th>\n",
       "      <td>9</td>\n",
       "      <td>3</td>\n",
       "      <td>27/07/2000</td>\n",
       "      <td>2000</td>\n",
       "      <td>209</td>\n",
       "      <td>19.15</td>\n",
       "      <td>29.8</td>\n",
       "      <td>16:05</td>\n",
       "      <td>8.52</td>\n",
       "      <td>6:18</td>\n",
       "      <td>60.81</td>\n",
       "      <td>96.9</td>\n",
       "      <td>6:52</td>\n",
       "      <td>18.87</td>\n",
       "      <td>16:02</td>\n",
       "    </tr>\n",
       "    <tr>\n",
       "      <th>7</th>\n",
       "      <td>9</td>\n",
       "      <td>3</td>\n",
       "      <td>27/07/2000</td>\n",
       "      <td>2000</td>\n",
       "      <td>209</td>\n",
       "      <td>19.15</td>\n",
       "      <td>29.8</td>\n",
       "      <td>16:05</td>\n",
       "      <td>8.52</td>\n",
       "      <td>6:18</td>\n",
       "      <td>60.81</td>\n",
       "      <td>96.9</td>\n",
       "      <td>6:52</td>\n",
       "      <td>18.87</td>\n",
       "      <td>16:02</td>\n",
       "    </tr>\n",
       "    <tr>\n",
       "      <th>8</th>\n",
       "      <td>9</td>\n",
       "      <td>3</td>\n",
       "      <td>27/07/2000</td>\n",
       "      <td>2000</td>\n",
       "      <td>209</td>\n",
       "      <td>19.15</td>\n",
       "      <td>29.8</td>\n",
       "      <td>16:05</td>\n",
       "      <td>8.52</td>\n",
       "      <td>6:18</td>\n",
       "      <td>60.81</td>\n",
       "      <td>96.9</td>\n",
       "      <td>6:52</td>\n",
       "      <td>18.87</td>\n",
       "      <td>16:02</td>\n",
       "    </tr>\n",
       "    <tr>\n",
       "      <th>9</th>\n",
       "      <td>9</td>\n",
       "      <td>3</td>\n",
       "      <td>27/07/2000</td>\n",
       "      <td>2000</td>\n",
       "      <td>209</td>\n",
       "      <td>19.15</td>\n",
       "      <td>29.8</td>\n",
       "      <td>16:05</td>\n",
       "      <td>8.52</td>\n",
       "      <td>6:18</td>\n",
       "      <td>60.81</td>\n",
       "      <td>96.9</td>\n",
       "      <td>6:52</td>\n",
       "      <td>18.87</td>\n",
       "      <td>16:02</td>\n",
       "    </tr>\n",
       "  </tbody>\n",
       "</table>\n",
       "</div>"
      ],
      "text/plain": [
       "            0           1           2     3    4                5   \\\n",
       "0  IdProvincia  IdEstacion       Fecha   Año  Dia  Temp Media (ºC)   \n",
       "1            9           3  25/07/2000  2000  207            16.93   \n",
       "2          NaN         NaN         NaN   NaN  NaN              NaN   \n",
       "3          NaN         NaN         NaN   NaN  NaN              NaN   \n",
       "4            9           3  26/07/2000  2000  208            16.35   \n",
       "5            9           3  27/07/2000  2000  209            19.15   \n",
       "6            9           3  27/07/2000  2000  209            19.15   \n",
       "7            9           3  27/07/2000  2000  209            19.15   \n",
       "8            9           3  27/07/2000  2000  209            19.15   \n",
       "9            9           3  27/07/2000  2000  209            19.15   \n",
       "\n",
       "              6              7                 8              9   \\\n",
       "0  Temp Max (ºC)  Hora Temp Max  Temp Mínima (ºC)  Hora Temp Min   \n",
       "1          23.15          17:29             11.34          23:07   \n",
       "2            NaN            NaN               NaN            NaN   \n",
       "3            NaN            NaN               NaN            NaN   \n",
       "4          24.74          16:31             10.19           3:37   \n",
       "5           29.8          16:05              8.52           6:18   \n",
       "6           29.8          16:05              8.52           6:18   \n",
       "7           29.8          16:05              8.52           6:18   \n",
       "8           29.8          16:05              8.52           6:18   \n",
       "9           29.8          16:05              8.52           6:18   \n",
       "\n",
       "                  10               11            12               13  \\\n",
       "0  Humedad Media (%)  Humedad Max (%)  Hora Hum Max  Humedad Min (%)   \n",
       "1              61.08             91.6         23:48            39.63   \n",
       "2                NaN              NaN           NaN              NaN   \n",
       "3                NaN              NaN           NaN              NaN   \n",
       "4              68.07             94.1         22:54            31.21   \n",
       "5              60.81             96.9          6:52            18.87   \n",
       "6              60.81             96.9          6:52            18.87   \n",
       "7              60.81             96.9          6:52            18.87   \n",
       "8              60.81             96.9          6:52            18.87   \n",
       "9              60.81             96.9          6:52            18.87   \n",
       "\n",
       "             14  \n",
       "0  Hora Hum Mín  \n",
       "1         17:07  \n",
       "2           NaN  \n",
       "3           NaN  \n",
       "4         16:35  \n",
       "5         16:02  \n",
       "6         16:02  \n",
       "7         16:02  \n",
       "8         16:02  \n",
       "9         16:02  "
      ]
     },
     "execution_count": 3,
     "metadata": {},
     "output_type": "execute_result"
    }
   ],
   "source": [
    "estacion = pd.read_csv('estacion.csv', encoding = 'latin_1', sep = ';', skiprows = 2, header = None)\n",
    "estacion.head(10)"
   ]
  },
  {
   "cell_type": "markdown",
   "metadata": {
    "pycharm": {
     "name": "#%% md\n"
    }
   },
   "source": [
    "### Eliminamos los valores NaN"
   ]
  },
  {
   "cell_type": "code",
   "execution_count": 4,
   "metadata": {
    "pycharm": {
     "name": "#%%\n"
    }
   },
   "outputs": [
    {
     "data": {
      "text/html": [
       "<div>\n",
       "<style scoped>\n",
       "    .dataframe tbody tr th:only-of-type {\n",
       "        vertical-align: middle;\n",
       "    }\n",
       "\n",
       "    .dataframe tbody tr th {\n",
       "        vertical-align: top;\n",
       "    }\n",
       "\n",
       "    .dataframe thead th {\n",
       "        text-align: right;\n",
       "    }\n",
       "</style>\n",
       "<table border=\"1\" class=\"dataframe\">\n",
       "  <thead>\n",
       "    <tr style=\"text-align: right;\">\n",
       "      <th></th>\n",
       "      <th>0</th>\n",
       "      <th>1</th>\n",
       "      <th>2</th>\n",
       "      <th>3</th>\n",
       "      <th>4</th>\n",
       "      <th>5</th>\n",
       "      <th>6</th>\n",
       "      <th>7</th>\n",
       "      <th>8</th>\n",
       "      <th>9</th>\n",
       "      <th>10</th>\n",
       "      <th>11</th>\n",
       "      <th>12</th>\n",
       "      <th>13</th>\n",
       "      <th>14</th>\n",
       "    </tr>\n",
       "  </thead>\n",
       "  <tbody>\n",
       "    <tr>\n",
       "      <th>0</th>\n",
       "      <td>IdProvincia</td>\n",
       "      <td>IdEstacion</td>\n",
       "      <td>Fecha</td>\n",
       "      <td>Año</td>\n",
       "      <td>Dia</td>\n",
       "      <td>Temp Media (ºC)</td>\n",
       "      <td>Temp Max (ºC)</td>\n",
       "      <td>Hora Temp Max</td>\n",
       "      <td>Temp Mínima (ºC)</td>\n",
       "      <td>Hora Temp Min</td>\n",
       "      <td>Humedad Media (%)</td>\n",
       "      <td>Humedad Max (%)</td>\n",
       "      <td>Hora Hum Max</td>\n",
       "      <td>Humedad Min (%)</td>\n",
       "      <td>Hora Hum Mín</td>\n",
       "    </tr>\n",
       "    <tr>\n",
       "      <th>1</th>\n",
       "      <td>9</td>\n",
       "      <td>3</td>\n",
       "      <td>25/07/2000</td>\n",
       "      <td>2000</td>\n",
       "      <td>207</td>\n",
       "      <td>16.93</td>\n",
       "      <td>23.15</td>\n",
       "      <td>17:29</td>\n",
       "      <td>11.34</td>\n",
       "      <td>23:07</td>\n",
       "      <td>61.08</td>\n",
       "      <td>91.6</td>\n",
       "      <td>23:48</td>\n",
       "      <td>39.63</td>\n",
       "      <td>17:07</td>\n",
       "    </tr>\n",
       "    <tr>\n",
       "      <th>4</th>\n",
       "      <td>9</td>\n",
       "      <td>3</td>\n",
       "      <td>26/07/2000</td>\n",
       "      <td>2000</td>\n",
       "      <td>208</td>\n",
       "      <td>16.35</td>\n",
       "      <td>24.74</td>\n",
       "      <td>16:31</td>\n",
       "      <td>10.19</td>\n",
       "      <td>3:37</td>\n",
       "      <td>68.07</td>\n",
       "      <td>94.1</td>\n",
       "      <td>22:54</td>\n",
       "      <td>31.21</td>\n",
       "      <td>16:35</td>\n",
       "    </tr>\n",
       "    <tr>\n",
       "      <th>5</th>\n",
       "      <td>9</td>\n",
       "      <td>3</td>\n",
       "      <td>27/07/2000</td>\n",
       "      <td>2000</td>\n",
       "      <td>209</td>\n",
       "      <td>19.15</td>\n",
       "      <td>29.8</td>\n",
       "      <td>16:05</td>\n",
       "      <td>8.52</td>\n",
       "      <td>6:18</td>\n",
       "      <td>60.81</td>\n",
       "      <td>96.9</td>\n",
       "      <td>6:52</td>\n",
       "      <td>18.87</td>\n",
       "      <td>16:02</td>\n",
       "    </tr>\n",
       "    <tr>\n",
       "      <th>6</th>\n",
       "      <td>9</td>\n",
       "      <td>3</td>\n",
       "      <td>27/07/2000</td>\n",
       "      <td>2000</td>\n",
       "      <td>209</td>\n",
       "      <td>19.15</td>\n",
       "      <td>29.8</td>\n",
       "      <td>16:05</td>\n",
       "      <td>8.52</td>\n",
       "      <td>6:18</td>\n",
       "      <td>60.81</td>\n",
       "      <td>96.9</td>\n",
       "      <td>6:52</td>\n",
       "      <td>18.87</td>\n",
       "      <td>16:02</td>\n",
       "    </tr>\n",
       "    <tr>\n",
       "      <th>7</th>\n",
       "      <td>9</td>\n",
       "      <td>3</td>\n",
       "      <td>27/07/2000</td>\n",
       "      <td>2000</td>\n",
       "      <td>209</td>\n",
       "      <td>19.15</td>\n",
       "      <td>29.8</td>\n",
       "      <td>16:05</td>\n",
       "      <td>8.52</td>\n",
       "      <td>6:18</td>\n",
       "      <td>60.81</td>\n",
       "      <td>96.9</td>\n",
       "      <td>6:52</td>\n",
       "      <td>18.87</td>\n",
       "      <td>16:02</td>\n",
       "    </tr>\n",
       "    <tr>\n",
       "      <th>8</th>\n",
       "      <td>9</td>\n",
       "      <td>3</td>\n",
       "      <td>27/07/2000</td>\n",
       "      <td>2000</td>\n",
       "      <td>209</td>\n",
       "      <td>19.15</td>\n",
       "      <td>29.8</td>\n",
       "      <td>16:05</td>\n",
       "      <td>8.52</td>\n",
       "      <td>6:18</td>\n",
       "      <td>60.81</td>\n",
       "      <td>96.9</td>\n",
       "      <td>6:52</td>\n",
       "      <td>18.87</td>\n",
       "      <td>16:02</td>\n",
       "    </tr>\n",
       "    <tr>\n",
       "      <th>9</th>\n",
       "      <td>9</td>\n",
       "      <td>3</td>\n",
       "      <td>27/07/2000</td>\n",
       "      <td>2000</td>\n",
       "      <td>209</td>\n",
       "      <td>19.15</td>\n",
       "      <td>29.8</td>\n",
       "      <td>16:05</td>\n",
       "      <td>8.52</td>\n",
       "      <td>6:18</td>\n",
       "      <td>60.81</td>\n",
       "      <td>96.9</td>\n",
       "      <td>6:52</td>\n",
       "      <td>18.87</td>\n",
       "      <td>16:02</td>\n",
       "    </tr>\n",
       "    <tr>\n",
       "      <th>10</th>\n",
       "      <td>9</td>\n",
       "      <td>3</td>\n",
       "      <td>28/07/2000</td>\n",
       "      <td>2000</td>\n",
       "      <td>210</td>\n",
       "      <td>18.78</td>\n",
       "      <td>26.54</td>\n",
       "      <td>16:22</td>\n",
       "      <td>9.79</td>\n",
       "      <td>6:15</td>\n",
       "      <td>61.8</td>\n",
       "      <td>96.4</td>\n",
       "      <td>5:37</td>\n",
       "      <td>28.6</td>\n",
       "      <td>16:17</td>\n",
       "    </tr>\n",
       "    <tr>\n",
       "      <th>11</th>\n",
       "      <td>9</td>\n",
       "      <td>3</td>\n",
       "      <td>29/07/2000</td>\n",
       "      <td>2000</td>\n",
       "      <td>211</td>\n",
       "      <td>19.44</td>\n",
       "      <td>27.74</td>\n",
       "      <td>15:21</td>\n",
       "      <td>9.12</td>\n",
       "      <td>6:13</td>\n",
       "      <td>60.01</td>\n",
       "      <td>95.8</td>\n",
       "      <td>6:47</td>\n",
       "      <td>25.53</td>\n",
       "      <td>16:35</td>\n",
       "    </tr>\n",
       "  </tbody>\n",
       "</table>\n",
       "</div>"
      ],
      "text/plain": [
       "             0           1           2     3    4                5   \\\n",
       "0   IdProvincia  IdEstacion       Fecha   Año  Dia  Temp Media (ºC)   \n",
       "1             9           3  25/07/2000  2000  207            16.93   \n",
       "4             9           3  26/07/2000  2000  208            16.35   \n",
       "5             9           3  27/07/2000  2000  209            19.15   \n",
       "6             9           3  27/07/2000  2000  209            19.15   \n",
       "7             9           3  27/07/2000  2000  209            19.15   \n",
       "8             9           3  27/07/2000  2000  209            19.15   \n",
       "9             9           3  27/07/2000  2000  209            19.15   \n",
       "10            9           3  28/07/2000  2000  210            18.78   \n",
       "11            9           3  29/07/2000  2000  211            19.44   \n",
       "\n",
       "               6              7                 8              9   \\\n",
       "0   Temp Max (ºC)  Hora Temp Max  Temp Mínima (ºC)  Hora Temp Min   \n",
       "1           23.15          17:29             11.34          23:07   \n",
       "4           24.74          16:31             10.19           3:37   \n",
       "5            29.8          16:05              8.52           6:18   \n",
       "6            29.8          16:05              8.52           6:18   \n",
       "7            29.8          16:05              8.52           6:18   \n",
       "8            29.8          16:05              8.52           6:18   \n",
       "9            29.8          16:05              8.52           6:18   \n",
       "10          26.54          16:22              9.79           6:15   \n",
       "11          27.74          15:21              9.12           6:13   \n",
       "\n",
       "                   10               11            12               13  \\\n",
       "0   Humedad Media (%)  Humedad Max (%)  Hora Hum Max  Humedad Min (%)   \n",
       "1               61.08             91.6         23:48            39.63   \n",
       "4               68.07             94.1         22:54            31.21   \n",
       "5               60.81             96.9          6:52            18.87   \n",
       "6               60.81             96.9          6:52            18.87   \n",
       "7               60.81             96.9          6:52            18.87   \n",
       "8               60.81             96.9          6:52            18.87   \n",
       "9               60.81             96.9          6:52            18.87   \n",
       "10               61.8             96.4          5:37             28.6   \n",
       "11              60.01             95.8          6:47            25.53   \n",
       "\n",
       "              14  \n",
       "0   Hora Hum Mín  \n",
       "1          17:07  \n",
       "4          16:35  \n",
       "5          16:02  \n",
       "6          16:02  \n",
       "7          16:02  \n",
       "8          16:02  \n",
       "9          16:02  \n",
       "10         16:17  \n",
       "11         16:35  "
      ]
     },
     "execution_count": 4,
     "metadata": {},
     "output_type": "execute_result"
    }
   ],
   "source": [
    "estacion = estacion.dropna()\n",
    "estacion.head(10)"
   ]
  },
  {
   "cell_type": "markdown",
   "metadata": {
    "pycharm": {
     "name": "#%% md\n"
    }
   },
   "source": [
    "### Eliminamos valores duplicados"
   ]
  },
  {
   "cell_type": "code",
   "execution_count": 6,
   "metadata": {
    "pycharm": {
     "name": "#%%\n"
    }
   },
   "outputs": [
    {
     "data": {
      "text/html": [
       "<div>\n",
       "<style scoped>\n",
       "    .dataframe tbody tr th:only-of-type {\n",
       "        vertical-align: middle;\n",
       "    }\n",
       "\n",
       "    .dataframe tbody tr th {\n",
       "        vertical-align: top;\n",
       "    }\n",
       "\n",
       "    .dataframe thead th {\n",
       "        text-align: right;\n",
       "    }\n",
       "</style>\n",
       "<table border=\"1\" class=\"dataframe\">\n",
       "  <thead>\n",
       "    <tr style=\"text-align: right;\">\n",
       "      <th></th>\n",
       "      <th>0</th>\n",
       "      <th>1</th>\n",
       "      <th>2</th>\n",
       "      <th>3</th>\n",
       "      <th>4</th>\n",
       "      <th>5</th>\n",
       "      <th>6</th>\n",
       "      <th>7</th>\n",
       "      <th>8</th>\n",
       "      <th>9</th>\n",
       "      <th>10</th>\n",
       "      <th>11</th>\n",
       "      <th>12</th>\n",
       "      <th>13</th>\n",
       "      <th>14</th>\n",
       "    </tr>\n",
       "  </thead>\n",
       "  <tbody>\n",
       "    <tr>\n",
       "      <th>0</th>\n",
       "      <td>IdProvincia</td>\n",
       "      <td>IdEstacion</td>\n",
       "      <td>Fecha</td>\n",
       "      <td>Año</td>\n",
       "      <td>Dia</td>\n",
       "      <td>Temp Media (ºC)</td>\n",
       "      <td>Temp Max (ºC)</td>\n",
       "      <td>Hora Temp Max</td>\n",
       "      <td>Temp Mínima (ºC)</td>\n",
       "      <td>Hora Temp Min</td>\n",
       "      <td>Humedad Media (%)</td>\n",
       "      <td>Humedad Max (%)</td>\n",
       "      <td>Hora Hum Max</td>\n",
       "      <td>Humedad Min (%)</td>\n",
       "      <td>Hora Hum Mín</td>\n",
       "    </tr>\n",
       "    <tr>\n",
       "      <th>1</th>\n",
       "      <td>9</td>\n",
       "      <td>3</td>\n",
       "      <td>25/07/2000</td>\n",
       "      <td>2000</td>\n",
       "      <td>207</td>\n",
       "      <td>16.93</td>\n",
       "      <td>23.15</td>\n",
       "      <td>17:29</td>\n",
       "      <td>11.34</td>\n",
       "      <td>23:07</td>\n",
       "      <td>61.08</td>\n",
       "      <td>91.6</td>\n",
       "      <td>23:48</td>\n",
       "      <td>39.63</td>\n",
       "      <td>17:07</td>\n",
       "    </tr>\n",
       "    <tr>\n",
       "      <th>4</th>\n",
       "      <td>9</td>\n",
       "      <td>3</td>\n",
       "      <td>26/07/2000</td>\n",
       "      <td>2000</td>\n",
       "      <td>208</td>\n",
       "      <td>16.35</td>\n",
       "      <td>24.74</td>\n",
       "      <td>16:31</td>\n",
       "      <td>10.19</td>\n",
       "      <td>3:37</td>\n",
       "      <td>68.07</td>\n",
       "      <td>94.1</td>\n",
       "      <td>22:54</td>\n",
       "      <td>31.21</td>\n",
       "      <td>16:35</td>\n",
       "    </tr>\n",
       "    <tr>\n",
       "      <th>5</th>\n",
       "      <td>9</td>\n",
       "      <td>3</td>\n",
       "      <td>27/07/2000</td>\n",
       "      <td>2000</td>\n",
       "      <td>209</td>\n",
       "      <td>19.15</td>\n",
       "      <td>29.8</td>\n",
       "      <td>16:05</td>\n",
       "      <td>8.52</td>\n",
       "      <td>6:18</td>\n",
       "      <td>60.81</td>\n",
       "      <td>96.9</td>\n",
       "      <td>6:52</td>\n",
       "      <td>18.87</td>\n",
       "      <td>16:02</td>\n",
       "    </tr>\n",
       "    <tr>\n",
       "      <th>10</th>\n",
       "      <td>9</td>\n",
       "      <td>3</td>\n",
       "      <td>28/07/2000</td>\n",
       "      <td>2000</td>\n",
       "      <td>210</td>\n",
       "      <td>18.78</td>\n",
       "      <td>26.54</td>\n",
       "      <td>16:22</td>\n",
       "      <td>9.79</td>\n",
       "      <td>6:15</td>\n",
       "      <td>61.8</td>\n",
       "      <td>96.4</td>\n",
       "      <td>5:37</td>\n",
       "      <td>28.6</td>\n",
       "      <td>16:17</td>\n",
       "    </tr>\n",
       "  </tbody>\n",
       "</table>\n",
       "</div>"
      ],
      "text/plain": [
       "             0           1           2     3    4                5   \\\n",
       "0   IdProvincia  IdEstacion       Fecha   Año  Dia  Temp Media (ºC)   \n",
       "1             9           3  25/07/2000  2000  207            16.93   \n",
       "4             9           3  26/07/2000  2000  208            16.35   \n",
       "5             9           3  27/07/2000  2000  209            19.15   \n",
       "10            9           3  28/07/2000  2000  210            18.78   \n",
       "\n",
       "               6              7                 8              9   \\\n",
       "0   Temp Max (ºC)  Hora Temp Max  Temp Mínima (ºC)  Hora Temp Min   \n",
       "1           23.15          17:29             11.34          23:07   \n",
       "4           24.74          16:31             10.19           3:37   \n",
       "5            29.8          16:05              8.52           6:18   \n",
       "10          26.54          16:22              9.79           6:15   \n",
       "\n",
       "                   10               11            12               13  \\\n",
       "0   Humedad Media (%)  Humedad Max (%)  Hora Hum Max  Humedad Min (%)   \n",
       "1               61.08             91.6         23:48            39.63   \n",
       "4               68.07             94.1         22:54            31.21   \n",
       "5               60.81             96.9          6:52            18.87   \n",
       "10               61.8             96.4          5:37             28.6   \n",
       "\n",
       "              14  \n",
       "0   Hora Hum Mín  \n",
       "1          17:07  \n",
       "4          16:35  \n",
       "5          16:02  \n",
       "10         16:17  "
      ]
     },
     "execution_count": 6,
     "metadata": {},
     "output_type": "execute_result"
    }
   ],
   "source": [
    "estacion = estacion.drop_duplicates(2)\n",
    "estacion.head()"
   ]
  },
  {
   "cell_type": "markdown",
   "metadata": {
    "pycharm": {
     "name": "#%% md\n"
    }
   },
   "source": [
    "### Filtramos las columnas que nos interesen de todo el dataframe"
   ]
  },
  {
   "cell_type": "code",
   "execution_count": 6,
   "metadata": {
    "pycharm": {
     "name": "#%%\n"
    }
   },
   "outputs": [
    {
     "data": {
      "text/html": [
       "<div>\n",
       "<style scoped>\n",
       "    .dataframe tbody tr th:only-of-type {\n",
       "        vertical-align: middle;\n",
       "    }\n",
       "\n",
       "    .dataframe tbody tr th {\n",
       "        vertical-align: top;\n",
       "    }\n",
       "\n",
       "    .dataframe thead th {\n",
       "        text-align: right;\n",
       "    }\n",
       "</style>\n",
       "<table border=\"1\" class=\"dataframe\">\n",
       "  <thead>\n",
       "    <tr style=\"text-align: right;\">\n",
       "      <th></th>\n",
       "      <th>2</th>\n",
       "      <th>6</th>\n",
       "      <th>8</th>\n",
       "      <th>11</th>\n",
       "      <th>13</th>\n",
       "    </tr>\n",
       "  </thead>\n",
       "  <tbody>\n",
       "    <tr>\n",
       "      <th>0</th>\n",
       "      <td>Fecha</td>\n",
       "      <td>Temp Max (ºC)</td>\n",
       "      <td>Temp Mínima (ºC)</td>\n",
       "      <td>Humedad Max (%)</td>\n",
       "      <td>Humedad Min (%)</td>\n",
       "    </tr>\n",
       "    <tr>\n",
       "      <th>1</th>\n",
       "      <td>25/07/2000</td>\n",
       "      <td>23.15</td>\n",
       "      <td>11.34</td>\n",
       "      <td>91.6</td>\n",
       "      <td>39.63</td>\n",
       "    </tr>\n",
       "    <tr>\n",
       "      <th>4</th>\n",
       "      <td>26/07/2000</td>\n",
       "      <td>24.74</td>\n",
       "      <td>10.19</td>\n",
       "      <td>94.1</td>\n",
       "      <td>31.21</td>\n",
       "    </tr>\n",
       "    <tr>\n",
       "      <th>5</th>\n",
       "      <td>27/07/2000</td>\n",
       "      <td>29.8</td>\n",
       "      <td>8.52</td>\n",
       "      <td>96.9</td>\n",
       "      <td>18.87</td>\n",
       "    </tr>\n",
       "    <tr>\n",
       "      <th>6</th>\n",
       "      <td>27/07/2000</td>\n",
       "      <td>29.8</td>\n",
       "      <td>8.52</td>\n",
       "      <td>96.9</td>\n",
       "      <td>18.87</td>\n",
       "    </tr>\n",
       "    <tr>\n",
       "      <th>7</th>\n",
       "      <td>27/07/2000</td>\n",
       "      <td>29.8</td>\n",
       "      <td>8.52</td>\n",
       "      <td>96.9</td>\n",
       "      <td>18.87</td>\n",
       "    </tr>\n",
       "    <tr>\n",
       "      <th>8</th>\n",
       "      <td>27/07/2000</td>\n",
       "      <td>29.8</td>\n",
       "      <td>8.52</td>\n",
       "      <td>96.9</td>\n",
       "      <td>18.87</td>\n",
       "    </tr>\n",
       "    <tr>\n",
       "      <th>9</th>\n",
       "      <td>27/07/2000</td>\n",
       "      <td>29.8</td>\n",
       "      <td>8.52</td>\n",
       "      <td>96.9</td>\n",
       "      <td>18.87</td>\n",
       "    </tr>\n",
       "    <tr>\n",
       "      <th>10</th>\n",
       "      <td>28/07/2000</td>\n",
       "      <td>26.54</td>\n",
       "      <td>9.79</td>\n",
       "      <td>96.4</td>\n",
       "      <td>28.6</td>\n",
       "    </tr>\n",
       "    <tr>\n",
       "      <th>11</th>\n",
       "      <td>29/07/2000</td>\n",
       "      <td>27.74</td>\n",
       "      <td>9.12</td>\n",
       "      <td>95.8</td>\n",
       "      <td>25.53</td>\n",
       "    </tr>\n",
       "  </tbody>\n",
       "</table>\n",
       "</div>"
      ],
      "text/plain": [
       "            2              6                 8                11  \\\n",
       "0        Fecha  Temp Max (ºC)  Temp Mínima (ºC)  Humedad Max (%)   \n",
       "1   25/07/2000          23.15             11.34             91.6   \n",
       "4   26/07/2000          24.74             10.19             94.1   \n",
       "5   27/07/2000           29.8              8.52             96.9   \n",
       "6   27/07/2000           29.8              8.52             96.9   \n",
       "7   27/07/2000           29.8              8.52             96.9   \n",
       "8   27/07/2000           29.8              8.52             96.9   \n",
       "9   27/07/2000           29.8              8.52             96.9   \n",
       "10  28/07/2000          26.54              9.79             96.4   \n",
       "11  29/07/2000          27.74              9.12             95.8   \n",
       "\n",
       "                 13  \n",
       "0   Humedad Min (%)  \n",
       "1             39.63  \n",
       "4             31.21  \n",
       "5             18.87  \n",
       "6             18.87  \n",
       "7             18.87  \n",
       "8             18.87  \n",
       "9             18.87  \n",
       "10             28.6  \n",
       "11            25.53  "
      ]
     },
     "execution_count": 6,
     "metadata": {},
     "output_type": "execute_result"
    }
   ],
   "source": [
    "estacion = estacion[[2,6,8,11,13]]\n",
    "estacion.head(10)"
   ]
  },
  {
   "cell_type": "markdown",
   "metadata": {
    "pycharm": {
     "name": "#%% md\n"
    }
   },
   "source": [
    "### Eliminamos la primera fila que contiene las cabeceras originales y las sustituímos."
   ]
  },
  {
   "cell_type": "code",
   "execution_count": 7,
   "metadata": {
    "pycharm": {
     "name": "#%%\n"
    }
   },
   "outputs": [
    {
     "data": {
      "text/html": [
       "<div>\n",
       "<style scoped>\n",
       "    .dataframe tbody tr th:only-of-type {\n",
       "        vertical-align: middle;\n",
       "    }\n",
       "\n",
       "    .dataframe tbody tr th {\n",
       "        vertical-align: top;\n",
       "    }\n",
       "\n",
       "    .dataframe thead th {\n",
       "        text-align: right;\n",
       "    }\n",
       "</style>\n",
       "<table border=\"1\" class=\"dataframe\">\n",
       "  <thead>\n",
       "    <tr style=\"text-align: right;\">\n",
       "      <th></th>\n",
       "      <th>Fecha</th>\n",
       "      <th>Temp max</th>\n",
       "      <th>Temp min</th>\n",
       "      <th>Hum max</th>\n",
       "      <th>Hum min</th>\n",
       "    </tr>\n",
       "  </thead>\n",
       "  <tbody>\n",
       "    <tr>\n",
       "      <th>1</th>\n",
       "      <td>25/07/2000</td>\n",
       "      <td>23.15</td>\n",
       "      <td>11.34</td>\n",
       "      <td>91.6</td>\n",
       "      <td>39.63</td>\n",
       "    </tr>\n",
       "    <tr>\n",
       "      <th>4</th>\n",
       "      <td>26/07/2000</td>\n",
       "      <td>24.74</td>\n",
       "      <td>10.19</td>\n",
       "      <td>94.1</td>\n",
       "      <td>31.21</td>\n",
       "    </tr>\n",
       "    <tr>\n",
       "      <th>5</th>\n",
       "      <td>27/07/2000</td>\n",
       "      <td>29.8</td>\n",
       "      <td>8.52</td>\n",
       "      <td>96.9</td>\n",
       "      <td>18.87</td>\n",
       "    </tr>\n",
       "    <tr>\n",
       "      <th>6</th>\n",
       "      <td>27/07/2000</td>\n",
       "      <td>29.8</td>\n",
       "      <td>8.52</td>\n",
       "      <td>96.9</td>\n",
       "      <td>18.87</td>\n",
       "    </tr>\n",
       "    <tr>\n",
       "      <th>7</th>\n",
       "      <td>27/07/2000</td>\n",
       "      <td>29.8</td>\n",
       "      <td>8.52</td>\n",
       "      <td>96.9</td>\n",
       "      <td>18.87</td>\n",
       "    </tr>\n",
       "  </tbody>\n",
       "</table>\n",
       "</div>"
      ],
      "text/plain": [
       "        Fecha Temp max Temp min Hum max Hum min\n",
       "1  25/07/2000    23.15    11.34    91.6   39.63\n",
       "4  26/07/2000    24.74    10.19    94.1   31.21\n",
       "5  27/07/2000     29.8     8.52    96.9   18.87\n",
       "6  27/07/2000     29.8     8.52    96.9   18.87\n",
       "7  27/07/2000     29.8     8.52    96.9   18.87"
      ]
     },
     "execution_count": 7,
     "metadata": {},
     "output_type": "execute_result"
    }
   ],
   "source": [
    "estacion.columns = ['Fecha','Temp max','Temp min','Hum max','Hum min']\n",
    "estacion = estacion.drop(estacion.index[[0]])\n",
    "estacion.head()"
   ]
  },
  {
   "cell_type": "markdown",
   "metadata": {
    "pycharm": {
     "name": "#%% md\n"
    }
   },
   "source": [
    "### Los vales de fecha son en realidad objetos. Los transformamos en series temporales"
   ]
  },
  {
   "cell_type": "code",
   "execution_count": 8,
   "metadata": {
    "pycharm": {
     "name": "#%%\n"
    }
   },
   "outputs": [
    {
     "data": {
      "text/html": [
       "<div>\n",
       "<style scoped>\n",
       "    .dataframe tbody tr th:only-of-type {\n",
       "        vertical-align: middle;\n",
       "    }\n",
       "\n",
       "    .dataframe tbody tr th {\n",
       "        vertical-align: top;\n",
       "    }\n",
       "\n",
       "    .dataframe thead th {\n",
       "        text-align: right;\n",
       "    }\n",
       "</style>\n",
       "<table border=\"1\" class=\"dataframe\">\n",
       "  <thead>\n",
       "    <tr style=\"text-align: right;\">\n",
       "      <th></th>\n",
       "      <th>Fecha</th>\n",
       "      <th>Temp max</th>\n",
       "      <th>Temp min</th>\n",
       "      <th>Hum max</th>\n",
       "      <th>Hum min</th>\n",
       "    </tr>\n",
       "  </thead>\n",
       "  <tbody>\n",
       "    <tr>\n",
       "      <th>1</th>\n",
       "      <td>2000-07-25</td>\n",
       "      <td>23.15</td>\n",
       "      <td>11.34</td>\n",
       "      <td>91.6</td>\n",
       "      <td>39.63</td>\n",
       "    </tr>\n",
       "    <tr>\n",
       "      <th>4</th>\n",
       "      <td>2000-07-26</td>\n",
       "      <td>24.74</td>\n",
       "      <td>10.19</td>\n",
       "      <td>94.1</td>\n",
       "      <td>31.21</td>\n",
       "    </tr>\n",
       "    <tr>\n",
       "      <th>5</th>\n",
       "      <td>2000-07-27</td>\n",
       "      <td>29.8</td>\n",
       "      <td>8.52</td>\n",
       "      <td>96.9</td>\n",
       "      <td>18.87</td>\n",
       "    </tr>\n",
       "    <tr>\n",
       "      <th>6</th>\n",
       "      <td>2000-07-27</td>\n",
       "      <td>29.8</td>\n",
       "      <td>8.52</td>\n",
       "      <td>96.9</td>\n",
       "      <td>18.87</td>\n",
       "    </tr>\n",
       "    <tr>\n",
       "      <th>7</th>\n",
       "      <td>2000-07-27</td>\n",
       "      <td>29.8</td>\n",
       "      <td>8.52</td>\n",
       "      <td>96.9</td>\n",
       "      <td>18.87</td>\n",
       "    </tr>\n",
       "  </tbody>\n",
       "</table>\n",
       "</div>"
      ],
      "text/plain": [
       "       Fecha Temp max Temp min Hum max Hum min\n",
       "1 2000-07-25    23.15    11.34    91.6   39.63\n",
       "4 2000-07-26    24.74    10.19    94.1   31.21\n",
       "5 2000-07-27     29.8     8.52    96.9   18.87\n",
       "6 2000-07-27     29.8     8.52    96.9   18.87\n",
       "7 2000-07-27     29.8     8.52    96.9   18.87"
      ]
     },
     "execution_count": 8,
     "metadata": {},
     "output_type": "execute_result"
    }
   ],
   "source": [
    "estacion['Fecha'] = pd.to_datetime(estacion['Fecha'], dayfirst = True)\n",
    "estacion.head()"
   ]
  },
  {
   "cell_type": "markdown",
   "metadata": {
    "pycharm": {
     "name": "#%% md\n"
    }
   },
   "source": [
    "### Queremos que la fecha sea nuestro index"
   ]
  },
  {
   "cell_type": "code",
   "execution_count": 9,
   "metadata": {
    "pycharm": {
     "name": "#%%\n"
    }
   },
   "outputs": [
    {
     "data": {
      "text/html": [
       "<div>\n",
       "<style scoped>\n",
       "    .dataframe tbody tr th:only-of-type {\n",
       "        vertical-align: middle;\n",
       "    }\n",
       "\n",
       "    .dataframe tbody tr th {\n",
       "        vertical-align: top;\n",
       "    }\n",
       "\n",
       "    .dataframe thead th {\n",
       "        text-align: right;\n",
       "    }\n",
       "</style>\n",
       "<table border=\"1\" class=\"dataframe\">\n",
       "  <thead>\n",
       "    <tr style=\"text-align: right;\">\n",
       "      <th></th>\n",
       "      <th>Fecha</th>\n",
       "      <th>Temp max</th>\n",
       "      <th>Temp min</th>\n",
       "      <th>Hum max</th>\n",
       "      <th>Hum min</th>\n",
       "    </tr>\n",
       "    <tr>\n",
       "      <th>Fecha</th>\n",
       "      <th></th>\n",
       "      <th></th>\n",
       "      <th></th>\n",
       "      <th></th>\n",
       "      <th></th>\n",
       "    </tr>\n",
       "  </thead>\n",
       "  <tbody>\n",
       "    <tr>\n",
       "      <th>2000-07-25</th>\n",
       "      <td>2000-07-25</td>\n",
       "      <td>23.15</td>\n",
       "      <td>11.34</td>\n",
       "      <td>91.6</td>\n",
       "      <td>39.63</td>\n",
       "    </tr>\n",
       "    <tr>\n",
       "      <th>2000-07-26</th>\n",
       "      <td>2000-07-26</td>\n",
       "      <td>24.74</td>\n",
       "      <td>10.19</td>\n",
       "      <td>94.1</td>\n",
       "      <td>31.21</td>\n",
       "    </tr>\n",
       "    <tr>\n",
       "      <th>2000-07-27</th>\n",
       "      <td>2000-07-27</td>\n",
       "      <td>29.8</td>\n",
       "      <td>8.52</td>\n",
       "      <td>96.9</td>\n",
       "      <td>18.87</td>\n",
       "    </tr>\n",
       "    <tr>\n",
       "      <th>2000-07-27</th>\n",
       "      <td>2000-07-27</td>\n",
       "      <td>29.8</td>\n",
       "      <td>8.52</td>\n",
       "      <td>96.9</td>\n",
       "      <td>18.87</td>\n",
       "    </tr>\n",
       "    <tr>\n",
       "      <th>2000-07-27</th>\n",
       "      <td>2000-07-27</td>\n",
       "      <td>29.8</td>\n",
       "      <td>8.52</td>\n",
       "      <td>96.9</td>\n",
       "      <td>18.87</td>\n",
       "    </tr>\n",
       "  </tbody>\n",
       "</table>\n",
       "</div>"
      ],
      "text/plain": [
       "                Fecha Temp max Temp min Hum max Hum min\n",
       "Fecha                                                  \n",
       "2000-07-25 2000-07-25    23.15    11.34    91.6   39.63\n",
       "2000-07-26 2000-07-26    24.74    10.19    94.1   31.21\n",
       "2000-07-27 2000-07-27     29.8     8.52    96.9   18.87\n",
       "2000-07-27 2000-07-27     29.8     8.52    96.9   18.87\n",
       "2000-07-27 2000-07-27     29.8     8.52    96.9   18.87"
      ]
     },
     "execution_count": 9,
     "metadata": {},
     "output_type": "execute_result"
    }
   ],
   "source": [
    "estacion.set_index(estacion['Fecha'], inplace = True, drop = True)\n",
    "estacion.head()"
   ]
  },
  {
   "cell_type": "markdown",
   "metadata": {
    "pycharm": {
     "name": "#%% md\n"
    }
   },
   "source": [
    "### Eliminamos la columna de Fecha sobrante"
   ]
  },
  {
   "cell_type": "code",
   "execution_count": 10,
   "metadata": {
    "pycharm": {
     "name": "#%%\n"
    }
   },
   "outputs": [
    {
     "name": "stderr",
     "output_type": "stream",
     "text": [
      "/var/folders/b_/3xd9dj1x65l095882xsl1nlr0000gn/T/ipykernel_88239/2937813705.py:1: FutureWarning: In a future version of pandas all arguments of DataFrame.drop except for the argument 'labels' will be keyword-only\n",
      "  estacion = estacion.drop('Fecha', 1)\n"
     ]
    },
    {
     "data": {
      "text/html": [
       "<div>\n",
       "<style scoped>\n",
       "    .dataframe tbody tr th:only-of-type {\n",
       "        vertical-align: middle;\n",
       "    }\n",
       "\n",
       "    .dataframe tbody tr th {\n",
       "        vertical-align: top;\n",
       "    }\n",
       "\n",
       "    .dataframe thead th {\n",
       "        text-align: right;\n",
       "    }\n",
       "</style>\n",
       "<table border=\"1\" class=\"dataframe\">\n",
       "  <thead>\n",
       "    <tr style=\"text-align: right;\">\n",
       "      <th></th>\n",
       "      <th>Temp max</th>\n",
       "      <th>Temp min</th>\n",
       "      <th>Hum max</th>\n",
       "      <th>Hum min</th>\n",
       "    </tr>\n",
       "    <tr>\n",
       "      <th>Fecha</th>\n",
       "      <th></th>\n",
       "      <th></th>\n",
       "      <th></th>\n",
       "      <th></th>\n",
       "    </tr>\n",
       "  </thead>\n",
       "  <tbody>\n",
       "    <tr>\n",
       "      <th>2000-07-25</th>\n",
       "      <td>23.15</td>\n",
       "      <td>11.34</td>\n",
       "      <td>91.6</td>\n",
       "      <td>39.63</td>\n",
       "    </tr>\n",
       "    <tr>\n",
       "      <th>2000-07-26</th>\n",
       "      <td>24.74</td>\n",
       "      <td>10.19</td>\n",
       "      <td>94.1</td>\n",
       "      <td>31.21</td>\n",
       "    </tr>\n",
       "    <tr>\n",
       "      <th>2000-07-27</th>\n",
       "      <td>29.8</td>\n",
       "      <td>8.52</td>\n",
       "      <td>96.9</td>\n",
       "      <td>18.87</td>\n",
       "    </tr>\n",
       "    <tr>\n",
       "      <th>2000-07-27</th>\n",
       "      <td>29.8</td>\n",
       "      <td>8.52</td>\n",
       "      <td>96.9</td>\n",
       "      <td>18.87</td>\n",
       "    </tr>\n",
       "    <tr>\n",
       "      <th>2000-07-27</th>\n",
       "      <td>29.8</td>\n",
       "      <td>8.52</td>\n",
       "      <td>96.9</td>\n",
       "      <td>18.87</td>\n",
       "    </tr>\n",
       "  </tbody>\n",
       "</table>\n",
       "</div>"
      ],
      "text/plain": [
       "           Temp max Temp min Hum max Hum min\n",
       "Fecha                                       \n",
       "2000-07-25    23.15    11.34    91.6   39.63\n",
       "2000-07-26    24.74    10.19    94.1   31.21\n",
       "2000-07-27     29.8     8.52    96.9   18.87\n",
       "2000-07-27     29.8     8.52    96.9   18.87\n",
       "2000-07-27     29.8     8.52    96.9   18.87"
      ]
     },
     "execution_count": 10,
     "metadata": {},
     "output_type": "execute_result"
    }
   ],
   "source": [
    "estacion = estacion.drop('Fecha', 1)\n",
    "estacion.head()"
   ]
  },
  {
   "cell_type": "markdown",
   "metadata": {
    "pycharm": {
     "name": "#%% md\n"
    }
   },
   "source": [
    "### Filtramos a partir del índice los datos del año 2013 con .ix"
   ]
  },
  {
   "cell_type": "code",
   "execution_count": 15,
   "metadata": {
    "collapsed": false,
    "jupyter": {
     "outputs_hidden": false
    },
    "pycharm": {
     "name": "#%%\n"
    }
   },
   "outputs": [
    {
     "ename": "AttributeError",
     "evalue": "'DataFrame' object has no attribute 'ix'",
     "output_type": "error",
     "traceback": [
      "\u001b[0;31m---------------------------------------------------------------------------\u001b[0m",
      "\u001b[0;31mAttributeError\u001b[0m                            Traceback (most recent call last)",
      "\u001b[0;32m/var/folders/b_/3xd9dj1x65l095882xsl1nlr0000gn/T/ipykernel_88239/2574436943.py\u001b[0m in \u001b[0;36m<module>\u001b[0;34m\u001b[0m\n\u001b[0;32m----> 1\u001b[0;31m \u001b[0mdf_2013\u001b[0m \u001b[0;34m=\u001b[0m \u001b[0mestacion\u001b[0m\u001b[0;34m.\u001b[0m\u001b[0mix\u001b[0m\u001b[0;34m[\u001b[0m\u001b[0;34m'2013-01-01'\u001b[0m\u001b[0;34m:\u001b[0m\u001b[0;34m'2013-12-31'\u001b[0m\u001b[0;34m]\u001b[0m\u001b[0;34m\u001b[0m\u001b[0;34m\u001b[0m\u001b[0m\n\u001b[0m",
      "\u001b[0;32m/opt/anaconda3/lib/python3.9/site-packages/pandas/core/generic.py\u001b[0m in \u001b[0;36m__getattr__\u001b[0;34m(self, name)\u001b[0m\n\u001b[1;32m   5485\u001b[0m         ):\n\u001b[1;32m   5486\u001b[0m             \u001b[0;32mreturn\u001b[0m \u001b[0mself\u001b[0m\u001b[0;34m[\u001b[0m\u001b[0mname\u001b[0m\u001b[0;34m]\u001b[0m\u001b[0;34m\u001b[0m\u001b[0;34m\u001b[0m\u001b[0m\n\u001b[0;32m-> 5487\u001b[0;31m         \u001b[0;32mreturn\u001b[0m \u001b[0mobject\u001b[0m\u001b[0;34m.\u001b[0m\u001b[0m__getattribute__\u001b[0m\u001b[0;34m(\u001b[0m\u001b[0mself\u001b[0m\u001b[0;34m,\u001b[0m \u001b[0mname\u001b[0m\u001b[0;34m)\u001b[0m\u001b[0;34m\u001b[0m\u001b[0;34m\u001b[0m\u001b[0m\n\u001b[0m\u001b[1;32m   5488\u001b[0m \u001b[0;34m\u001b[0m\u001b[0m\n\u001b[1;32m   5489\u001b[0m     \u001b[0;32mdef\u001b[0m \u001b[0m__setattr__\u001b[0m\u001b[0;34m(\u001b[0m\u001b[0mself\u001b[0m\u001b[0;34m,\u001b[0m \u001b[0mname\u001b[0m\u001b[0;34m:\u001b[0m \u001b[0mstr\u001b[0m\u001b[0;34m,\u001b[0m \u001b[0mvalue\u001b[0m\u001b[0;34m)\u001b[0m \u001b[0;34m->\u001b[0m \u001b[0;32mNone\u001b[0m\u001b[0;34m:\u001b[0m\u001b[0;34m\u001b[0m\u001b[0;34m\u001b[0m\u001b[0m\n",
      "\u001b[0;31mAttributeError\u001b[0m: 'DataFrame' object has no attribute 'ix'"
     ]
    }
   ],
   "source": [
    "df_2013 = estacion.ix['2013-01-01':'2013-12-31']"
   ]
  },
  {
   "cell_type": "code",
   "execution_count": 12,
   "metadata": {
    "pycharm": {
     "name": "#%%\n"
    }
   },
   "outputs": [
    {
     "ename": "AttributeError",
     "evalue": "'DataFrame' object has no attribute 'ix'",
     "output_type": "error",
     "traceback": [
      "\u001b[0;31m---------------------------------------------------------------------------\u001b[0m",
      "\u001b[0;31mAttributeError\u001b[0m                            Traceback (most recent call last)",
      "\u001b[0;32m/var/folders/b_/3xd9dj1x65l095882xsl1nlr0000gn/T/ipykernel_88239/1873129022.py\u001b[0m in \u001b[0;36m<module>\u001b[0;34m\u001b[0m\n\u001b[0;32m----> 1\u001b[0;31m \u001b[0mdf_2013\u001b[0m \u001b[0;34m=\u001b[0m \u001b[0mestacion\u001b[0m\u001b[0;34m.\u001b[0m\u001b[0mix\u001b[0m\u001b[0;34m[\u001b[0m\u001b[0;34m'2013-01-01'\u001b[0m\u001b[0;34m:\u001b[0m\u001b[0;34m'2013-12-31'\u001b[0m\u001b[0;34m]\u001b[0m\u001b[0;34m\u001b[0m\u001b[0;34m\u001b[0m\u001b[0m\n\u001b[0m\u001b[1;32m      2\u001b[0m \u001b[0mdf_2013\u001b[0m\u001b[0;34m.\u001b[0m\u001b[0mhead\u001b[0m\u001b[0;34m(\u001b[0m\u001b[0;34m)\u001b[0m\u001b[0;34m\u001b[0m\u001b[0;34m\u001b[0m\u001b[0m\n",
      "\u001b[0;32m/opt/anaconda3/lib/python3.9/site-packages/pandas/core/generic.py\u001b[0m in \u001b[0;36m__getattr__\u001b[0;34m(self, name)\u001b[0m\n\u001b[1;32m   5485\u001b[0m         ):\n\u001b[1;32m   5486\u001b[0m             \u001b[0;32mreturn\u001b[0m \u001b[0mself\u001b[0m\u001b[0;34m[\u001b[0m\u001b[0mname\u001b[0m\u001b[0;34m]\u001b[0m\u001b[0;34m\u001b[0m\u001b[0;34m\u001b[0m\u001b[0m\n\u001b[0;32m-> 5487\u001b[0;31m         \u001b[0;32mreturn\u001b[0m \u001b[0mobject\u001b[0m\u001b[0;34m.\u001b[0m\u001b[0m__getattribute__\u001b[0m\u001b[0;34m(\u001b[0m\u001b[0mself\u001b[0m\u001b[0;34m,\u001b[0m \u001b[0mname\u001b[0m\u001b[0;34m)\u001b[0m\u001b[0;34m\u001b[0m\u001b[0;34m\u001b[0m\u001b[0m\n\u001b[0m\u001b[1;32m   5488\u001b[0m \u001b[0;34m\u001b[0m\u001b[0m\n\u001b[1;32m   5489\u001b[0m     \u001b[0;32mdef\u001b[0m \u001b[0m__setattr__\u001b[0m\u001b[0;34m(\u001b[0m\u001b[0mself\u001b[0m\u001b[0;34m,\u001b[0m \u001b[0mname\u001b[0m\u001b[0;34m:\u001b[0m \u001b[0mstr\u001b[0m\u001b[0;34m,\u001b[0m \u001b[0mvalue\u001b[0m\u001b[0;34m)\u001b[0m \u001b[0;34m->\u001b[0m \u001b[0;32mNone\u001b[0m\u001b[0;34m:\u001b[0m\u001b[0;34m\u001b[0m\u001b[0;34m\u001b[0m\u001b[0m\n",
      "\u001b[0;31mAttributeError\u001b[0m: 'DataFrame' object has no attribute 'ix'"
     ]
    }
   ],
   "source": [
    "df_2013.head()"
   ]
  },
  {
   "cell_type": "markdown",
   "metadata": {
    "pycharm": {
     "name": "#%% md\n"
    }
   },
   "source": [
    "### Los datos numéricos puede que sean numéricos o no. Lo comprobamos con la función .dtype"
   ]
  },
  {
   "cell_type": "code",
   "execution_count": 13,
   "metadata": {
    "pycharm": {
     "name": "#%%\n"
    }
   },
   "outputs": [
    {
     "ename": "NameError",
     "evalue": "name 'df_2013' is not defined",
     "output_type": "error",
     "traceback": [
      "\u001b[0;31m---------------------------------------------------------------------------\u001b[0m",
      "\u001b[0;31mNameError\u001b[0m                                 Traceback (most recent call last)",
      "\u001b[0;32m/var/folders/b_/3xd9dj1x65l095882xsl1nlr0000gn/T/ipykernel_88239/388608641.py\u001b[0m in \u001b[0;36m<module>\u001b[0;34m\u001b[0m\n\u001b[0;32m----> 1\u001b[0;31m \u001b[0mdf_2013\u001b[0m\u001b[0;34m.\u001b[0m\u001b[0mindex\u001b[0m\u001b[0;34m.\u001b[0m\u001b[0mdtype\u001b[0m\u001b[0;34m\u001b[0m\u001b[0;34m\u001b[0m\u001b[0m\n\u001b[0m",
      "\u001b[0;31mNameError\u001b[0m: name 'df_2013' is not defined"
     ]
    }
   ],
   "source": [
    "df_2013.index.dtype"
   ]
  },
  {
   "cell_type": "code",
   "execution_count": 159,
   "metadata": {
    "pycharm": {
     "name": "#%%\n"
    }
   },
   "outputs": [
    {
     "data": {
      "text/plain": [
       "dtype('O')"
      ]
     },
     "execution_count": 159,
     "metadata": {},
     "output_type": "execute_result"
    }
   ],
   "source": [
    "df_2013['Temp max'].dtype"
   ]
  },
  {
   "cell_type": "markdown",
   "metadata": {
    "pycharm": {
     "name": "#%% md\n"
    }
   },
   "source": [
    "### Vemos que, salvo el index, el resto de columnas no son números de punto flotante. Lo cambiamos a float con .astype"
   ]
  },
  {
   "cell_type": "code",
   "execution_count": 160,
   "metadata": {
    "pycharm": {
     "name": "#%%\n"
    }
   },
   "outputs": [
    {
     "name": "stderr",
     "output_type": "stream",
     "text": [
      "/home/ceiecubuntu/anaconda3/envs/tensorflow/lib/python3.6/site-packages/pandas/core/frame.py:2540: SettingWithCopyWarning: \n",
      "A value is trying to be set on a copy of a slice from a DataFrame.\n",
      "Try using .loc[row_indexer,col_indexer] = value instead\n",
      "\n",
      "See the caveats in the documentation: http://pandas.pydata.org/pandas-docs/stable/indexing.html#indexing-view-versus-copy\n",
      "  self[k1] = value[k2]\n"
     ]
    },
    {
     "data": {
      "text/plain": [
       "dtype('float64')"
      ]
     },
     "execution_count": 160,
     "metadata": {},
     "output_type": "execute_result"
    }
   ],
   "source": [
    "df_2013[['Temp max', 'Temp min', 'Hum max', 'Hum min']] = df_2013[['Temp max', 'Temp min', 'Hum max', 'Hum min']].astype(float)\n",
    "df_2013['Temp max'].dtype"
   ]
  },
  {
   "cell_type": "markdown",
   "metadata": {
    "pycharm": {
     "name": "#%% md\n"
    }
   },
   "source": [
    "### Localizamos un dato concreto con la función .loc. Introducimos el valor del índice y la cabecera. "
   ]
  },
  {
   "cell_type": "code",
   "execution_count": 161,
   "metadata": {
    "pycharm": {
     "name": "#%%\n"
    }
   },
   "outputs": [
    {
     "data": {
      "text/plain": [
       "10.87"
      ]
     },
     "execution_count": 161,
     "metadata": {},
     "output_type": "execute_result"
    }
   ],
   "source": [
    "df_2013.loc['2013-01-04','Temp max']"
   ]
  },
  {
   "cell_type": "markdown",
   "metadata": {
    "pycharm": {
     "name": "#%% md\n"
    }
   },
   "source": [
    "### Podemos operar con columnas directamente elemento a elemento. Sacamos la temperatura media a partir de la mínima y máxima. "
   ]
  },
  {
   "cell_type": "code",
   "execution_count": 162,
   "metadata": {
    "pycharm": {
     "name": "#%%\n"
    }
   },
   "outputs": [
    {
     "name": "stderr",
     "output_type": "stream",
     "text": [
      "/home/ceiecubuntu/anaconda3/envs/tensorflow/lib/python3.6/site-packages/ipykernel_launcher.py:1: SettingWithCopyWarning: \n",
      "A value is trying to be set on a copy of a slice from a DataFrame.\n",
      "Try using .loc[row_indexer,col_indexer] = value instead\n",
      "\n",
      "See the caveats in the documentation: http://pandas.pydata.org/pandas-docs/stable/indexing.html#indexing-view-versus-copy\n",
      "  \"\"\"Entry point for launching an IPython kernel.\n",
      "/home/ceiecubuntu/anaconda3/envs/tensorflow/lib/python3.6/site-packages/ipykernel_launcher.py:2: SettingWithCopyWarning: \n",
      "A value is trying to be set on a copy of a slice from a DataFrame.\n",
      "Try using .loc[row_indexer,col_indexer] = value instead\n",
      "\n",
      "See the caveats in the documentation: http://pandas.pydata.org/pandas-docs/stable/indexing.html#indexing-view-versus-copy\n",
      "  \n"
     ]
    },
    {
     "data": {
      "text/html": [
       "<div>\n",
       "<style scoped>\n",
       "    .dataframe tbody tr th:only-of-type {\n",
       "        vertical-align: middle;\n",
       "    }\n",
       "\n",
       "    .dataframe tbody tr th {\n",
       "        vertical-align: top;\n",
       "    }\n",
       "\n",
       "    .dataframe thead th {\n",
       "        text-align: right;\n",
       "    }\n",
       "</style>\n",
       "<table border=\"1\" class=\"dataframe\">\n",
       "  <thead>\n",
       "    <tr style=\"text-align: right;\">\n",
       "      <th></th>\n",
       "      <th>Temp max</th>\n",
       "      <th>Temp min</th>\n",
       "      <th>Hum max</th>\n",
       "      <th>Hum min</th>\n",
       "      <th>Temp media</th>\n",
       "      <th>Hum media</th>\n",
       "    </tr>\n",
       "    <tr>\n",
       "      <th>Fecha</th>\n",
       "      <th></th>\n",
       "      <th></th>\n",
       "      <th></th>\n",
       "      <th></th>\n",
       "      <th></th>\n",
       "      <th></th>\n",
       "    </tr>\n",
       "  </thead>\n",
       "  <tbody>\n",
       "    <tr>\n",
       "      <th>2013-01-01</th>\n",
       "      <td>9.54</td>\n",
       "      <td>2.42</td>\n",
       "      <td>95.5</td>\n",
       "      <td>67.69</td>\n",
       "      <td>5.980</td>\n",
       "      <td>81.595</td>\n",
       "    </tr>\n",
       "    <tr>\n",
       "      <th>2013-01-02</th>\n",
       "      <td>7.42</td>\n",
       "      <td>-0.11</td>\n",
       "      <td>95.2</td>\n",
       "      <td>75.40</td>\n",
       "      <td>3.655</td>\n",
       "      <td>85.300</td>\n",
       "    </tr>\n",
       "    <tr>\n",
       "      <th>2013-01-03</th>\n",
       "      <td>12.47</td>\n",
       "      <td>-1.50</td>\n",
       "      <td>97.2</td>\n",
       "      <td>52.47</td>\n",
       "      <td>5.485</td>\n",
       "      <td>74.835</td>\n",
       "    </tr>\n",
       "    <tr>\n",
       "      <th>2013-01-04</th>\n",
       "      <td>10.87</td>\n",
       "      <td>-3.91</td>\n",
       "      <td>98.1</td>\n",
       "      <td>46.93</td>\n",
       "      <td>3.480</td>\n",
       "      <td>72.515</td>\n",
       "    </tr>\n",
       "    <tr>\n",
       "      <th>2013-01-05</th>\n",
       "      <td>15.07</td>\n",
       "      <td>-4.77</td>\n",
       "      <td>98.5</td>\n",
       "      <td>42.39</td>\n",
       "      <td>5.150</td>\n",
       "      <td>70.445</td>\n",
       "    </tr>\n",
       "  </tbody>\n",
       "</table>\n",
       "</div>"
      ],
      "text/plain": [
       "            Temp max  Temp min  Hum max  Hum min  Temp media  Hum media\n",
       "Fecha                                                                  \n",
       "2013-01-01      9.54      2.42     95.5    67.69       5.980     81.595\n",
       "2013-01-02      7.42     -0.11     95.2    75.40       3.655     85.300\n",
       "2013-01-03     12.47     -1.50     97.2    52.47       5.485     74.835\n",
       "2013-01-04     10.87     -3.91     98.1    46.93       3.480     72.515\n",
       "2013-01-05     15.07     -4.77     98.5    42.39       5.150     70.445"
      ]
     },
     "execution_count": 162,
     "metadata": {},
     "output_type": "execute_result"
    }
   ],
   "source": [
    "df_2013['Temp media'] = (df_2013['Temp max'] + df_2013['Temp min'])/2\n",
    "df_2013['Hum media'] = (df_2013['Hum max'] + df_2013['Hum min'])/2\n",
    "df_2013.head()"
   ]
  },
  {
   "cell_type": "markdown",
   "metadata": {
    "pycharm": {
     "name": "#%% md\n"
    }
   },
   "source": [
    "### Podemos dibujar todo el dataframe completo con la función .plot"
   ]
  },
  {
   "cell_type": "code",
   "execution_count": 163,
   "metadata": {
    "pycharm": {
     "name": "#%%\n"
    }
   },
   "outputs": [
    {
     "data": {
      "text/plain": [
       "<matplotlib.axes._subplots.AxesSubplot at 0x7fea85264588>"
      ]
     },
     "execution_count": 163,
     "metadata": {},
     "output_type": "execute_result"
    },
    {
     "data": {
      "image/png": "[encoded data removed]",
      "text/plain": [
       "<Figure size 1080x576 with 1 Axes>"
      ]
     },
     "metadata": {},
     "output_type": "display_data"
    }
   ],
   "source": [
    "df_2013.plot(figsize = (15,8))"
   ]
  },
  {
   "cell_type": "markdown",
   "metadata": {
    "pycharm": {
     "name": "#%% md\n"
    }
   },
   "source": [
    "### Podemos filtrar y dibujar lo que nos interese"
   ]
  },
  {
   "cell_type": "code",
   "execution_count": 164,
   "metadata": {
    "pycharm": {
     "name": "#%%\n"
    }
   },
   "outputs": [
    {
     "data": {
      "text/plain": [
       "<matplotlib.axes._subplots.AxesSubplot at 0x7fea84dd32e8>"
      ]
     },
     "execution_count": 164,
     "metadata": {},
     "output_type": "execute_result"
    },
    {
     "data": {
      "image/png": "[encoded data removed]",
      "text/plain": [
       "<Figure size 1080x576 with 1 Axes>"
      ]
     },
     "metadata": {},
     "output_type": "display_data"
    }
   ],
   "source": [
    "df_2013['Temp media'].plot(figsize = (15,8), legend = True)\n",
    "df_2013['Hum media'].plot(figsize = (15,8))"
   ]
  },
  {
   "cell_type": "code",
   "execution_count": 165,
   "metadata": {
    "pycharm": {
     "name": "#%%\n"
    }
   },
   "outputs": [
    {
     "data": {
      "text/plain": [
       "<matplotlib.axes._subplots.AxesSubplot at 0x7fea84ce2cc0>"
      ]
     },
     "execution_count": 165,
     "metadata": {},
     "output_type": "execute_result"
    },
    {
     "data": {
      "image/png": "[encoded data removed]",
      "text/plain": [
       "<Figure size 1080x576 with 1 Axes>"
      ]
     },
     "metadata": {},
     "output_type": "display_data"
    }
   ],
   "source": [
    "df_2013['Temp media'].plot(figsize = (15,8))"
   ]
  },
  {
   "cell_type": "markdown",
   "metadata": {
    "pycharm": {
     "name": "#%% md\n"
    }
   },
   "source": [
    "### Podemos agrupar las temperaturas por meses y hacer la media. "
   ]
  },
  {
   "cell_type": "code",
   "execution_count": 166,
   "metadata": {
    "pycharm": {
     "name": "#%%\n"
    }
   },
   "outputs": [
    {
     "data": {
      "text/html": [
       "<div>\n",
       "<style scoped>\n",
       "    .dataframe tbody tr th:only-of-type {\n",
       "        vertical-align: middle;\n",
       "    }\n",
       "\n",
       "    .dataframe tbody tr th {\n",
       "        vertical-align: top;\n",
       "    }\n",
       "\n",
       "    .dataframe thead th {\n",
       "        text-align: right;\n",
       "    }\n",
       "</style>\n",
       "<table border=\"1\" class=\"dataframe\">\n",
       "  <thead>\n",
       "    <tr style=\"text-align: right;\">\n",
       "      <th></th>\n",
       "      <th>Temp max</th>\n",
       "      <th>Temp min</th>\n",
       "      <th>Hum max</th>\n",
       "      <th>Hum min</th>\n",
       "      <th>Temp media</th>\n",
       "      <th>Hum media</th>\n",
       "    </tr>\n",
       "  </thead>\n",
       "  <tbody>\n",
       "    <tr>\n",
       "      <th>1</th>\n",
       "      <td>8.406452</td>\n",
       "      <td>-1.079677</td>\n",
       "      <td>97.051613</td>\n",
       "      <td>67.872258</td>\n",
       "      <td>3.663387</td>\n",
       "      <td>82.461935</td>\n",
       "    </tr>\n",
       "    <tr>\n",
       "      <th>2</th>\n",
       "      <td>8.067857</td>\n",
       "      <td>-1.538929</td>\n",
       "      <td>95.614286</td>\n",
       "      <td>61.995357</td>\n",
       "      <td>3.264464</td>\n",
       "      <td>78.804821</td>\n",
       "    </tr>\n",
       "    <tr>\n",
       "      <th>3</th>\n",
       "      <td>11.354194</td>\n",
       "      <td>2.197419</td>\n",
       "      <td>94.025806</td>\n",
       "      <td>56.406129</td>\n",
       "      <td>6.775806</td>\n",
       "      <td>75.215968</td>\n",
       "    </tr>\n",
       "    <tr>\n",
       "      <th>4</th>\n",
       "      <td>14.463667</td>\n",
       "      <td>2.247000</td>\n",
       "      <td>93.040000</td>\n",
       "      <td>47.595000</td>\n",
       "      <td>8.355333</td>\n",
       "      <td>70.317500</td>\n",
       "    </tr>\n",
       "    <tr>\n",
       "      <th>5</th>\n",
       "      <td>16.127097</td>\n",
       "      <td>2.932903</td>\n",
       "      <td>94.316129</td>\n",
       "      <td>43.196452</td>\n",
       "      <td>9.530000</td>\n",
       "      <td>68.756290</td>\n",
       "    </tr>\n",
       "    <tr>\n",
       "      <th>6</th>\n",
       "      <td>22.077000</td>\n",
       "      <td>7.154667</td>\n",
       "      <td>93.266667</td>\n",
       "      <td>41.818333</td>\n",
       "      <td>14.615833</td>\n",
       "      <td>67.542500</td>\n",
       "    </tr>\n",
       "    <tr>\n",
       "      <th>7</th>\n",
       "      <td>30.222258</td>\n",
       "      <td>11.806452</td>\n",
       "      <td>93.861290</td>\n",
       "      <td>25.024194</td>\n",
       "      <td>21.014355</td>\n",
       "      <td>59.442742</td>\n",
       "    </tr>\n",
       "    <tr>\n",
       "      <th>8</th>\n",
       "      <td>28.597742</td>\n",
       "      <td>9.448387</td>\n",
       "      <td>91.751613</td>\n",
       "      <td>25.951613</td>\n",
       "      <td>19.023065</td>\n",
       "      <td>58.851613</td>\n",
       "    </tr>\n",
       "    <tr>\n",
       "      <th>9</th>\n",
       "      <td>25.131333</td>\n",
       "      <td>7.884667</td>\n",
       "      <td>93.953333</td>\n",
       "      <td>32.914333</td>\n",
       "      <td>16.508000</td>\n",
       "      <td>63.433833</td>\n",
       "    </tr>\n",
       "    <tr>\n",
       "      <th>10</th>\n",
       "      <td>18.545806</td>\n",
       "      <td>6.696774</td>\n",
       "      <td>95.532258</td>\n",
       "      <td>52.149032</td>\n",
       "      <td>12.621290</td>\n",
       "      <td>73.840645</td>\n",
       "    </tr>\n",
       "    <tr>\n",
       "      <th>11</th>\n",
       "      <td>10.241667</td>\n",
       "      <td>2.405667</td>\n",
       "      <td>93.363333</td>\n",
       "      <td>64.533333</td>\n",
       "      <td>6.323667</td>\n",
       "      <td>78.948333</td>\n",
       "    </tr>\n",
       "    <tr>\n",
       "      <th>12</th>\n",
       "      <td>9.308387</td>\n",
       "      <td>-2.655806</td>\n",
       "      <td>95.864516</td>\n",
       "      <td>58.709355</td>\n",
       "      <td>3.326290</td>\n",
       "      <td>77.286935</td>\n",
       "    </tr>\n",
       "  </tbody>\n",
       "</table>\n",
       "</div>"
      ],
      "text/plain": [
       "     Temp max   Temp min    Hum max    Hum min  Temp media  Hum media\n",
       "1    8.406452  -1.079677  97.051613  67.872258    3.663387  82.461935\n",
       "2    8.067857  -1.538929  95.614286  61.995357    3.264464  78.804821\n",
       "3   11.354194   2.197419  94.025806  56.406129    6.775806  75.215968\n",
       "4   14.463667   2.247000  93.040000  47.595000    8.355333  70.317500\n",
       "5   16.127097   2.932903  94.316129  43.196452    9.530000  68.756290\n",
       "6   22.077000   7.154667  93.266667  41.818333   14.615833  67.542500\n",
       "7   30.222258  11.806452  93.861290  25.024194   21.014355  59.442742\n",
       "8   28.597742   9.448387  91.751613  25.951613   19.023065  58.851613\n",
       "9   25.131333   7.884667  93.953333  32.914333   16.508000  63.433833\n",
       "10  18.545806   6.696774  95.532258  52.149032   12.621290  73.840645\n",
       "11  10.241667   2.405667  93.363333  64.533333    6.323667  78.948333\n",
       "12   9.308387  -2.655806  95.864516  58.709355    3.326290  77.286935"
      ]
     },
     "execution_count": 166,
     "metadata": {},
     "output_type": "execute_result"
    }
   ],
   "source": [
    "media_mensual = df_2013.groupby(lambda x: (x.month)).mean()\n",
    "media_mensual"
   ]
  },
  {
   "cell_type": "code",
   "execution_count": 167,
   "metadata": {
    "pycharm": {
     "name": "#%%\n"
    }
   },
   "outputs": [
    {
     "data": {
      "text/plain": [
       "array([<matplotlib.axes._subplots.AxesSubplot object at 0x7fea84d80ba8>,\n",
       "       <matplotlib.axes._subplots.AxesSubplot object at 0x7fea84b89400>,\n",
       "       <matplotlib.axes._subplots.AxesSubplot object at 0x7fea84baf8d0>,\n",
       "       <matplotlib.axes._subplots.AxesSubplot object at 0x7fea84b5ae48>,\n",
       "       <matplotlib.axes._subplots.AxesSubplot object at 0x7fea84b0b400>,\n",
       "       <matplotlib.axes._subplots.AxesSubplot object at 0x7fea84b0b438>],\n",
       "      dtype=object)"
      ]
     },
     "execution_count": 167,
     "metadata": {},
     "output_type": "execute_result"
    },
    {
     "data": {
      "image/png": "[encoded data removed]",
      "text/plain": [
       "<Figure size 1080x864 with 6 Axes>"
      ]
     },
     "metadata": {},
     "output_type": "display_data"
    }
   ],
   "source": [
    "media_mensual.plot(figsize = (15,12), subplots = True)"
   ]
  },
  {
   "cell_type": "markdown",
   "metadata": {
    "pycharm": {
     "name": "#%% md\n"
    }
   },
   "source": [
    "## Concatenar columnas de fecha"
   ]
  },
  {
   "cell_type": "markdown",
   "metadata": {
    "pycharm": {
     "name": "#%% md\n"
    }
   },
   "source": [
    "### VAmos a concatenar columnas para construir una fecha a partir de una tabla desglosada en año, mes y día. "
   ]
  },
  {
   "cell_type": "code",
   "execution_count": 178,
   "metadata": {
    "pycharm": {
     "name": "#%%\n"
    }
   },
   "outputs": [
    {
     "data": {
      "text/html": [
       "<div>\n",
       "<style scoped>\n",
       "    .dataframe tbody tr th:only-of-type {\n",
       "        vertical-align: middle;\n",
       "    }\n",
       "\n",
       "    .dataframe tbody tr th {\n",
       "        vertical-align: top;\n",
       "    }\n",
       "\n",
       "    .dataframe thead th {\n",
       "        text-align: right;\n",
       "    }\n",
       "</style>\n",
       "<table border=\"1\" class=\"dataframe\">\n",
       "  <thead>\n",
       "    <tr style=\"text-align: right;\">\n",
       "      <th></th>\n",
       "      <th>Dia;Mes;Año</th>\n",
       "    </tr>\n",
       "  </thead>\n",
       "  <tbody>\n",
       "    <tr>\n",
       "      <th>0</th>\n",
       "      <td>25;07;2000</td>\n",
       "    </tr>\n",
       "    <tr>\n",
       "      <th>1</th>\n",
       "      <td>26;07;2000</td>\n",
       "    </tr>\n",
       "    <tr>\n",
       "      <th>2</th>\n",
       "      <td>27;07;2000</td>\n",
       "    </tr>\n",
       "    <tr>\n",
       "      <th>3</th>\n",
       "      <td>27;07;2000</td>\n",
       "    </tr>\n",
       "    <tr>\n",
       "      <th>4</th>\n",
       "      <td>27;07;2000</td>\n",
       "    </tr>\n",
       "  </tbody>\n",
       "</table>\n",
       "</div>"
      ],
      "text/plain": [
       "  Dia;Mes;Año\n",
       "0  25;07;2000\n",
       "1  26;07;2000\n",
       "2  27;07;2000\n",
       "3  27;07;2000\n",
       "4  27;07;2000"
      ]
     },
     "execution_count": 178,
     "metadata": {},
     "output_type": "execute_result"
    }
   ],
   "source": [
    "tabla = pd.read_csv('fecha_dataset.csv')\n",
    "tabla.head()"
   ]
  },
  {
   "cell_type": "code",
   "execution_count": 179,
   "metadata": {
    "pycharm": {
     "name": "#%%\n"
    }
   },
   "outputs": [
    {
     "data": {
      "text/html": [
       "<div>\n",
       "<style scoped>\n",
       "    .dataframe tbody tr th:only-of-type {\n",
       "        vertical-align: middle;\n",
       "    }\n",
       "\n",
       "    .dataframe tbody tr th {\n",
       "        vertical-align: top;\n",
       "    }\n",
       "\n",
       "    .dataframe thead th {\n",
       "        text-align: right;\n",
       "    }\n",
       "</style>\n",
       "<table border=\"1\" class=\"dataframe\">\n",
       "  <thead>\n",
       "    <tr style=\"text-align: right;\">\n",
       "      <th></th>\n",
       "      <th>Dia</th>\n",
       "      <th>Mes</th>\n",
       "      <th>Año</th>\n",
       "    </tr>\n",
       "  </thead>\n",
       "  <tbody>\n",
       "    <tr>\n",
       "      <th>0</th>\n",
       "      <td>25</td>\n",
       "      <td>7</td>\n",
       "      <td>2000</td>\n",
       "    </tr>\n",
       "    <tr>\n",
       "      <th>1</th>\n",
       "      <td>26</td>\n",
       "      <td>7</td>\n",
       "      <td>2000</td>\n",
       "    </tr>\n",
       "    <tr>\n",
       "      <th>2</th>\n",
       "      <td>27</td>\n",
       "      <td>7</td>\n",
       "      <td>2000</td>\n",
       "    </tr>\n",
       "    <tr>\n",
       "      <th>3</th>\n",
       "      <td>27</td>\n",
       "      <td>7</td>\n",
       "      <td>2000</td>\n",
       "    </tr>\n",
       "    <tr>\n",
       "      <th>4</th>\n",
       "      <td>27</td>\n",
       "      <td>7</td>\n",
       "      <td>2000</td>\n",
       "    </tr>\n",
       "  </tbody>\n",
       "</table>\n",
       "</div>"
      ],
      "text/plain": [
       "   Dia  Mes   Año\n",
       "0   25    7  2000\n",
       "1   26    7  2000\n",
       "2   27    7  2000\n",
       "3   27    7  2000\n",
       "4   27    7  2000"
      ]
     },
     "execution_count": 179,
     "metadata": {},
     "output_type": "execute_result"
    }
   ],
   "source": [
    "tabla = pd.read_csv('fecha_dataset.csv', sep = ';')\n",
    "tabla.head()"
   ]
  },
  {
   "cell_type": "markdown",
   "metadata": {
    "pycharm": {
     "name": "#%% md\n"
    }
   },
   "source": [
    "### En este caso si contatenamos los valores, los suma como enteros, necesitamos que sean cadenas de caracteres. "
   ]
  },
  {
   "cell_type": "code",
   "execution_count": 180,
   "metadata": {
    "pycharm": {
     "name": "#%%\n"
    }
   },
   "outputs": [],
   "source": [
    "#tabla['Fecha'] = tabla['Dia'] + tabla['Mes'] + tabla['Año']\n",
    "#tabla.head()"
   ]
  },
  {
   "cell_type": "markdown",
   "metadata": {
    "pycharm": {
     "name": "#%% md\n"
    }
   },
   "source": [
    "### Ahora si concatenamos vemos que no suma números si no que concatena cada columna. "
   ]
  },
  {
   "cell_type": "code",
   "execution_count": 182,
   "metadata": {
    "pycharm": {
     "name": "#%%\n"
    }
   },
   "outputs": [
    {
     "data": {
      "text/html": [
       "<div>\n",
       "<style scoped>\n",
       "    .dataframe tbody tr th:only-of-type {\n",
       "        vertical-align: middle;\n",
       "    }\n",
       "\n",
       "    .dataframe tbody tr th {\n",
       "        vertical-align: top;\n",
       "    }\n",
       "\n",
       "    .dataframe thead th {\n",
       "        text-align: right;\n",
       "    }\n",
       "</style>\n",
       "<table border=\"1\" class=\"dataframe\">\n",
       "  <thead>\n",
       "    <tr style=\"text-align: right;\">\n",
       "      <th></th>\n",
       "      <th>Dia</th>\n",
       "      <th>Mes</th>\n",
       "      <th>Año</th>\n",
       "      <th>Fecha</th>\n",
       "    </tr>\n",
       "  </thead>\n",
       "  <tbody>\n",
       "    <tr>\n",
       "      <th>0</th>\n",
       "      <td>25</td>\n",
       "      <td>7</td>\n",
       "      <td>2000</td>\n",
       "      <td>2000-07-25</td>\n",
       "    </tr>\n",
       "    <tr>\n",
       "      <th>1</th>\n",
       "      <td>26</td>\n",
       "      <td>7</td>\n",
       "      <td>2000</td>\n",
       "      <td>2000-07-26</td>\n",
       "    </tr>\n",
       "    <tr>\n",
       "      <th>2</th>\n",
       "      <td>27</td>\n",
       "      <td>7</td>\n",
       "      <td>2000</td>\n",
       "      <td>2000-07-27</td>\n",
       "    </tr>\n",
       "    <tr>\n",
       "      <th>3</th>\n",
       "      <td>27</td>\n",
       "      <td>7</td>\n",
       "      <td>2000</td>\n",
       "      <td>2000-07-27</td>\n",
       "    </tr>\n",
       "    <tr>\n",
       "      <th>4</th>\n",
       "      <td>27</td>\n",
       "      <td>7</td>\n",
       "      <td>2000</td>\n",
       "      <td>2000-07-27</td>\n",
       "    </tr>\n",
       "  </tbody>\n",
       "</table>\n",
       "</div>"
      ],
      "text/plain": [
       "  Dia Mes   Año      Fecha\n",
       "0  25   7  2000 2000-07-25\n",
       "1  26   7  2000 2000-07-26\n",
       "2  27   7  2000 2000-07-27\n",
       "3  27   7  2000 2000-07-27\n",
       "4  27   7  2000 2000-07-27"
      ]
     },
     "execution_count": 182,
     "metadata": {},
     "output_type": "execute_result"
    }
   ],
   "source": [
    "tabla1 = tabla.astype(str)\n",
    "tabla1['Fecha'] = tabla1['Dia'] +\"-\"+ tabla1['Mes'] +\"-\"+ tabla1['Año']\n",
    "tabla1['Fecha'] = pd.to_datetime(tabla1['Fecha'])\n",
    "tabla1.head()"
   ]
  },
  {
   "cell_type": "markdown",
   "metadata": {
    "pycharm": {
     "name": "#%% md\n"
    }
   },
   "source": [
    "### Necesitamos que esa columna la interprete como fecha con la función .to_datetime"
   ]
  },
  {
   "cell_type": "code",
   "execution_count": 183,
   "metadata": {
    "pycharm": {
     "name": "#%%\n"
    }
   },
   "outputs": [
    {
     "data": {
      "text/html": [
       "<div>\n",
       "<style scoped>\n",
       "    .dataframe tbody tr th:only-of-type {\n",
       "        vertical-align: middle;\n",
       "    }\n",
       "\n",
       "    .dataframe tbody tr th {\n",
       "        vertical-align: top;\n",
       "    }\n",
       "\n",
       "    .dataframe thead th {\n",
       "        text-align: right;\n",
       "    }\n",
       "</style>\n",
       "<table border=\"1\" class=\"dataframe\">\n",
       "  <thead>\n",
       "    <tr style=\"text-align: right;\">\n",
       "      <th></th>\n",
       "      <th>Dia</th>\n",
       "      <th>Mes</th>\n",
       "      <th>Año</th>\n",
       "      <th>Fecha</th>\n",
       "    </tr>\n",
       "  </thead>\n",
       "  <tbody>\n",
       "    <tr>\n",
       "      <th>0</th>\n",
       "      <td>25</td>\n",
       "      <td>7</td>\n",
       "      <td>2000</td>\n",
       "      <td>2000-07-25</td>\n",
       "    </tr>\n",
       "    <tr>\n",
       "      <th>1</th>\n",
       "      <td>26</td>\n",
       "      <td>7</td>\n",
       "      <td>2000</td>\n",
       "      <td>2000-07-26</td>\n",
       "    </tr>\n",
       "    <tr>\n",
       "      <th>2</th>\n",
       "      <td>27</td>\n",
       "      <td>7</td>\n",
       "      <td>2000</td>\n",
       "      <td>2000-07-27</td>\n",
       "    </tr>\n",
       "    <tr>\n",
       "      <th>3</th>\n",
       "      <td>27</td>\n",
       "      <td>7</td>\n",
       "      <td>2000</td>\n",
       "      <td>2000-07-27</td>\n",
       "    </tr>\n",
       "    <tr>\n",
       "      <th>4</th>\n",
       "      <td>27</td>\n",
       "      <td>7</td>\n",
       "      <td>2000</td>\n",
       "      <td>2000-07-27</td>\n",
       "    </tr>\n",
       "  </tbody>\n",
       "</table>\n",
       "</div>"
      ],
      "text/plain": [
       "  Dia Mes   Año      Fecha\n",
       "0  25   7  2000 2000-07-25\n",
       "1  26   7  2000 2000-07-26\n",
       "2  27   7  2000 2000-07-27\n",
       "3  27   7  2000 2000-07-27\n",
       "4  27   7  2000 2000-07-27"
      ]
     },
     "execution_count": 183,
     "metadata": {},
     "output_type": "execute_result"
    }
   ],
   "source": [
    "tabla1['Fecha'] = pd.to_datetime(tabla1['Fecha'], format = \"%Y%m%d\")\n",
    "tabla1.head()"
   ]
  },
  {
   "cell_type": "markdown",
   "metadata": {
    "pycharm": {
     "name": "#%% md\n"
    }
   },
   "source": [
    "## Union de dos datasets con el campo Fecha en común "
   ]
  },
  {
   "cell_type": "markdown",
   "metadata": {
    "pycharm": {
     "name": "#%% md\n"
    }
   },
   "source": [
    "### Dataset de temperatura"
   ]
  },
  {
   "cell_type": "code",
   "execution_count": 189,
   "metadata": {
    "pycharm": {
     "name": "#%%\n"
    }
   },
   "outputs": [
    {
     "data": {
      "text/html": [
       "<div>\n",
       "<style scoped>\n",
       "    .dataframe tbody tr th:only-of-type {\n",
       "        vertical-align: middle;\n",
       "    }\n",
       "\n",
       "    .dataframe tbody tr th {\n",
       "        vertical-align: top;\n",
       "    }\n",
       "\n",
       "    .dataframe thead th {\n",
       "        text-align: right;\n",
       "    }\n",
       "</style>\n",
       "<table border=\"1\" class=\"dataframe\">\n",
       "  <thead>\n",
       "    <tr style=\"text-align: right;\">\n",
       "      <th></th>\n",
       "      <th>Fecha</th>\n",
       "      <th>Temp Media</th>\n",
       "    </tr>\n",
       "  </thead>\n",
       "  <tbody>\n",
       "    <tr>\n",
       "      <th>0</th>\n",
       "      <td>25/07/2000</td>\n",
       "      <td>16.93</td>\n",
       "    </tr>\n",
       "    <tr>\n",
       "      <th>1</th>\n",
       "      <td>26/07/2000</td>\n",
       "      <td>16.35</td>\n",
       "    </tr>\n",
       "    <tr>\n",
       "      <th>2</th>\n",
       "      <td>27/07/2000</td>\n",
       "      <td>19.15</td>\n",
       "    </tr>\n",
       "    <tr>\n",
       "      <th>3</th>\n",
       "      <td>27/07/2000</td>\n",
       "      <td>19.15</td>\n",
       "    </tr>\n",
       "    <tr>\n",
       "      <th>4</th>\n",
       "      <td>27/07/2000</td>\n",
       "      <td>19.15</td>\n",
       "    </tr>\n",
       "  </tbody>\n",
       "</table>\n",
       "</div>"
      ],
      "text/plain": [
       "        Fecha  Temp Media\n",
       "0  25/07/2000       16.93\n",
       "1  26/07/2000       16.35\n",
       "2  27/07/2000       19.15\n",
       "3  27/07/2000       19.15\n",
       "4  27/07/2000       19.15"
      ]
     },
     "execution_count": 189,
     "metadata": {},
     "output_type": "execute_result"
    }
   ],
   "source": [
    "temperatura1 = pd.read_csv('temperatura1.csv', sep = ';')\n",
    "humedad1 = pd.read_csv('humedad1.csv', sep = ';')\n",
    "temperatura1.head()"
   ]
  },
  {
   "cell_type": "markdown",
   "metadata": {
    "pycharm": {
     "name": "#%% md\n"
    }
   },
   "source": [
    "### Dataset de humedad"
   ]
  },
  {
   "cell_type": "code",
   "execution_count": 190,
   "metadata": {
    "pycharm": {
     "name": "#%%\n"
    }
   },
   "outputs": [
    {
     "data": {
      "text/html": [
       "<div>\n",
       "<style scoped>\n",
       "    .dataframe tbody tr th:only-of-type {\n",
       "        vertical-align: middle;\n",
       "    }\n",
       "\n",
       "    .dataframe tbody tr th {\n",
       "        vertical-align: top;\n",
       "    }\n",
       "\n",
       "    .dataframe thead th {\n",
       "        text-align: right;\n",
       "    }\n",
       "</style>\n",
       "<table border=\"1\" class=\"dataframe\">\n",
       "  <thead>\n",
       "    <tr style=\"text-align: right;\">\n",
       "      <th></th>\n",
       "      <th>Fecha</th>\n",
       "      <th>Humedad Media</th>\n",
       "    </tr>\n",
       "  </thead>\n",
       "  <tbody>\n",
       "    <tr>\n",
       "      <th>0</th>\n",
       "      <td>25/07/2000</td>\n",
       "      <td>61.08</td>\n",
       "    </tr>\n",
       "    <tr>\n",
       "      <th>1</th>\n",
       "      <td>26/07/2000</td>\n",
       "      <td>68.07</td>\n",
       "    </tr>\n",
       "    <tr>\n",
       "      <th>2</th>\n",
       "      <td>27/07/2000</td>\n",
       "      <td>60.81</td>\n",
       "    </tr>\n",
       "    <tr>\n",
       "      <th>3</th>\n",
       "      <td>27/07/2000</td>\n",
       "      <td>60.81</td>\n",
       "    </tr>\n",
       "    <tr>\n",
       "      <th>4</th>\n",
       "      <td>27/07/2000</td>\n",
       "      <td>60.81</td>\n",
       "    </tr>\n",
       "  </tbody>\n",
       "</table>\n",
       "</div>"
      ],
      "text/plain": [
       "        Fecha  Humedad Media\n",
       "0  25/07/2000          61.08\n",
       "1  26/07/2000          68.07\n",
       "2  27/07/2000          60.81\n",
       "3  27/07/2000          60.81\n",
       "4  27/07/2000          60.81"
      ]
     },
     "execution_count": 190,
     "metadata": {},
     "output_type": "execute_result"
    }
   ],
   "source": [
    "humedad1.head()"
   ]
  },
  {
   "cell_type": "markdown",
   "metadata": {
    "pycharm": {
     "name": "#%% md\n"
    }
   },
   "source": [
    "### Con la función join, podemos unir la columna de humedad a la de temperatura, ya que comparten el mismo índice."
   ]
  },
  {
   "cell_type": "code",
   "execution_count": 191,
   "metadata": {
    "pycharm": {
     "name": "#%%\n"
    }
   },
   "outputs": [
    {
     "data": {
      "text/html": [
       "<div>\n",
       "<style scoped>\n",
       "    .dataframe tbody tr th:only-of-type {\n",
       "        vertical-align: middle;\n",
       "    }\n",
       "\n",
       "    .dataframe tbody tr th {\n",
       "        vertical-align: top;\n",
       "    }\n",
       "\n",
       "    .dataframe thead th {\n",
       "        text-align: right;\n",
       "    }\n",
       "</style>\n",
       "<table border=\"1\" class=\"dataframe\">\n",
       "  <thead>\n",
       "    <tr style=\"text-align: right;\">\n",
       "      <th></th>\n",
       "      <th>Fecha</th>\n",
       "      <th>Temp Media</th>\n",
       "      <th>Humedad Media</th>\n",
       "    </tr>\n",
       "  </thead>\n",
       "  <tbody>\n",
       "    <tr>\n",
       "      <th>0</th>\n",
       "      <td>25/07/2000</td>\n",
       "      <td>16.93</td>\n",
       "      <td>61.08</td>\n",
       "    </tr>\n",
       "    <tr>\n",
       "      <th>1</th>\n",
       "      <td>26/07/2000</td>\n",
       "      <td>16.35</td>\n",
       "      <td>68.07</td>\n",
       "    </tr>\n",
       "    <tr>\n",
       "      <th>2</th>\n",
       "      <td>27/07/2000</td>\n",
       "      <td>19.15</td>\n",
       "      <td>60.81</td>\n",
       "    </tr>\n",
       "    <tr>\n",
       "      <th>3</th>\n",
       "      <td>27/07/2000</td>\n",
       "      <td>19.15</td>\n",
       "      <td>60.81</td>\n",
       "    </tr>\n",
       "    <tr>\n",
       "      <th>4</th>\n",
       "      <td>27/07/2000</td>\n",
       "      <td>19.15</td>\n",
       "      <td>60.81</td>\n",
       "    </tr>\n",
       "  </tbody>\n",
       "</table>\n",
       "</div>"
      ],
      "text/plain": [
       "        Fecha  Temp Media  Humedad Media\n",
       "0  25/07/2000       16.93          61.08\n",
       "1  26/07/2000       16.35          68.07\n",
       "2  27/07/2000       19.15          60.81\n",
       "3  27/07/2000       19.15          60.81\n",
       "4  27/07/2000       19.15          60.81"
      ]
     },
     "execution_count": 191,
     "metadata": {},
     "output_type": "execute_result"
    }
   ],
   "source": [
    "joined = temperatura1.join(humedad1['Humedad Media'])\n",
    "joined.head()"
   ]
  },
  {
   "cell_type": "markdown",
   "metadata": {
    "pycharm": {
     "name": "#%% md\n"
    }
   },
   "source": [
    "### Una vez unidos, seleccionamos La Fecha como nuestro nuevo índice"
   ]
  },
  {
   "cell_type": "code",
   "execution_count": 192,
   "metadata": {
    "pycharm": {
     "name": "#%%\n"
    }
   },
   "outputs": [
    {
     "data": {
      "text/html": [
       "<div>\n",
       "<style scoped>\n",
       "    .dataframe tbody tr th:only-of-type {\n",
       "        vertical-align: middle;\n",
       "    }\n",
       "\n",
       "    .dataframe tbody tr th {\n",
       "        vertical-align: top;\n",
       "    }\n",
       "\n",
       "    .dataframe thead th {\n",
       "        text-align: right;\n",
       "    }\n",
       "</style>\n",
       "<table border=\"1\" class=\"dataframe\">\n",
       "  <thead>\n",
       "    <tr style=\"text-align: right;\">\n",
       "      <th></th>\n",
       "      <th>Temp Media</th>\n",
       "      <th>Humedad Media</th>\n",
       "    </tr>\n",
       "    <tr>\n",
       "      <th>Fecha</th>\n",
       "      <th></th>\n",
       "      <th></th>\n",
       "    </tr>\n",
       "  </thead>\n",
       "  <tbody>\n",
       "    <tr>\n",
       "      <th>25/07/2000</th>\n",
       "      <td>16.93</td>\n",
       "      <td>61.08</td>\n",
       "    </tr>\n",
       "    <tr>\n",
       "      <th>26/07/2000</th>\n",
       "      <td>16.35</td>\n",
       "      <td>68.07</td>\n",
       "    </tr>\n",
       "    <tr>\n",
       "      <th>27/07/2000</th>\n",
       "      <td>19.15</td>\n",
       "      <td>60.81</td>\n",
       "    </tr>\n",
       "    <tr>\n",
       "      <th>27/07/2000</th>\n",
       "      <td>19.15</td>\n",
       "      <td>60.81</td>\n",
       "    </tr>\n",
       "    <tr>\n",
       "      <th>27/07/2000</th>\n",
       "      <td>19.15</td>\n",
       "      <td>60.81</td>\n",
       "    </tr>\n",
       "  </tbody>\n",
       "</table>\n",
       "</div>"
      ],
      "text/plain": [
       "            Temp Media  Humedad Media\n",
       "Fecha                                \n",
       "25/07/2000       16.93          61.08\n",
       "26/07/2000       16.35          68.07\n",
       "27/07/2000       19.15          60.81\n",
       "27/07/2000       19.15          60.81\n",
       "27/07/2000       19.15          60.81"
      ]
     },
     "execution_count": 192,
     "metadata": {},
     "output_type": "execute_result"
    }
   ],
   "source": [
    "joined = joined.set_index('Fecha').head()\n",
    "joined.head()"
   ]
  },
  {
   "cell_type": "markdown",
   "metadata": {
    "pycharm": {
     "name": "#%% md\n"
    }
   },
   "source": [
    "### Como vemos, el index no tiene formato fecha."
   ]
  },
  {
   "cell_type": "code",
   "execution_count": 193,
   "metadata": {
    "pycharm": {
     "name": "#%%\n"
    }
   },
   "outputs": [
    {
     "data": {
      "text/plain": [
       "dtype('O')"
      ]
     },
     "execution_count": 193,
     "metadata": {},
     "output_type": "execute_result"
    }
   ],
   "source": [
    "joined.index.dtype"
   ]
  },
  {
   "cell_type": "code",
   "execution_count": 194,
   "metadata": {
    "pycharm": {
     "name": "#%%\n"
    }
   },
   "outputs": [
    {
     "name": "stderr",
     "output_type": "stream",
     "text": [
      "/home/ceiecubuntu/anaconda3/envs/tensorflow/lib/python3.6/site-packages/ipykernel_launcher.py:1: FutureWarning: to_datetime is deprecated. Use pd.to_datetime(...)\n",
      "  \"\"\"Entry point for launching an IPython kernel.\n"
     ]
    },
    {
     "data": {
      "text/html": [
       "<div>\n",
       "<style scoped>\n",
       "    .dataframe tbody tr th:only-of-type {\n",
       "        vertical-align: middle;\n",
       "    }\n",
       "\n",
       "    .dataframe tbody tr th {\n",
       "        vertical-align: top;\n",
       "    }\n",
       "\n",
       "    .dataframe thead th {\n",
       "        text-align: right;\n",
       "    }\n",
       "</style>\n",
       "<table border=\"1\" class=\"dataframe\">\n",
       "  <thead>\n",
       "    <tr style=\"text-align: right;\">\n",
       "      <th></th>\n",
       "      <th>Temp Media</th>\n",
       "      <th>Humedad Media</th>\n",
       "    </tr>\n",
       "  </thead>\n",
       "  <tbody>\n",
       "    <tr>\n",
       "      <th>2000-07-25</th>\n",
       "      <td>16.93</td>\n",
       "      <td>61.08</td>\n",
       "    </tr>\n",
       "    <tr>\n",
       "      <th>2000-07-26</th>\n",
       "      <td>16.35</td>\n",
       "      <td>68.07</td>\n",
       "    </tr>\n",
       "    <tr>\n",
       "      <th>2000-07-27</th>\n",
       "      <td>19.15</td>\n",
       "      <td>60.81</td>\n",
       "    </tr>\n",
       "    <tr>\n",
       "      <th>2000-07-27</th>\n",
       "      <td>19.15</td>\n",
       "      <td>60.81</td>\n",
       "    </tr>\n",
       "    <tr>\n",
       "      <th>2000-07-27</th>\n",
       "      <td>19.15</td>\n",
       "      <td>60.81</td>\n",
       "    </tr>\n",
       "  </tbody>\n",
       "</table>\n",
       "</div>"
      ],
      "text/plain": [
       "            Temp Media  Humedad Media\n",
       "2000-07-25       16.93          61.08\n",
       "2000-07-26       16.35          68.07\n",
       "2000-07-27       19.15          60.81\n",
       "2000-07-27       19.15          60.81\n",
       "2000-07-27       19.15          60.81"
      ]
     },
     "execution_count": 194,
     "metadata": {},
     "output_type": "execute_result"
    }
   ],
   "source": [
    "joined.index= joined.index.to_datetime()\n",
    "joined.head()"
   ]
  },
  {
   "cell_type": "markdown",
   "metadata": {
    "pycharm": {
     "name": "#%% md\n"
    }
   },
   "source": [
    "### Se pueden hacer gráficos tridimensionales"
   ]
  },
  {
   "cell_type": "code",
   "execution_count": 196,
   "metadata": {
    "pycharm": {
     "name": "#%%\n"
    }
   },
   "outputs": [
    {
     "data": {
      "text/html": [
       "<div>\n",
       "<style scoped>\n",
       "    .dataframe tbody tr th:only-of-type {\n",
       "        vertical-align: middle;\n",
       "    }\n",
       "\n",
       "    .dataframe tbody tr th {\n",
       "        vertical-align: top;\n",
       "    }\n",
       "\n",
       "    .dataframe thead th {\n",
       "        text-align: right;\n",
       "    }\n",
       "</style>\n",
       "<table border=\"1\" class=\"dataframe\">\n",
       "  <thead>\n",
       "    <tr style=\"text-align: right;\">\n",
       "      <th></th>\n",
       "      <th>X</th>\n",
       "      <th>Y</th>\n",
       "      <th>Z</th>\n",
       "      <th>W</th>\n",
       "    </tr>\n",
       "  </thead>\n",
       "  <tbody>\n",
       "    <tr>\n",
       "      <th>0</th>\n",
       "      <td>300</td>\n",
       "      <td>600</td>\n",
       "      <td>10</td>\n",
       "      <td>56</td>\n",
       "    </tr>\n",
       "    <tr>\n",
       "      <th>1</th>\n",
       "      <td>500</td>\n",
       "      <td>320</td>\n",
       "      <td>23</td>\n",
       "      <td>41</td>\n",
       "    </tr>\n",
       "    <tr>\n",
       "      <th>2</th>\n",
       "      <td>600</td>\n",
       "      <td>152</td>\n",
       "      <td>65</td>\n",
       "      <td>25</td>\n",
       "    </tr>\n",
       "    <tr>\n",
       "      <th>3</th>\n",
       "      <td>450</td>\n",
       "      <td>850</td>\n",
       "      <td>48</td>\n",
       "      <td>8</td>\n",
       "    </tr>\n",
       "    <tr>\n",
       "      <th>4</th>\n",
       "      <td>236</td>\n",
       "      <td>475</td>\n",
       "      <td>75</td>\n",
       "      <td>26</td>\n",
       "    </tr>\n",
       "    <tr>\n",
       "      <th>5</th>\n",
       "      <td>98</td>\n",
       "      <td>362</td>\n",
       "      <td>60</td>\n",
       "      <td>32</td>\n",
       "    </tr>\n",
       "    <tr>\n",
       "      <th>6</th>\n",
       "      <td>50</td>\n",
       "      <td>254</td>\n",
       "      <td>23</td>\n",
       "      <td>74</td>\n",
       "    </tr>\n",
       "    <tr>\n",
       "      <th>7</th>\n",
       "      <td>94</td>\n",
       "      <td>100</td>\n",
       "      <td>89</td>\n",
       "      <td>6</td>\n",
       "    </tr>\n",
       "    <tr>\n",
       "      <th>8</th>\n",
       "      <td>855</td>\n",
       "      <td>236</td>\n",
       "      <td>5</td>\n",
       "      <td>72</td>\n",
       "    </tr>\n",
       "    <tr>\n",
       "      <th>9</th>\n",
       "      <td>266</td>\n",
       "      <td>50</td>\n",
       "      <td>12</td>\n",
       "      <td>29</td>\n",
       "    </tr>\n",
       "    <tr>\n",
       "      <th>10</th>\n",
       "      <td>152</td>\n",
       "      <td>623</td>\n",
       "      <td>82</td>\n",
       "      <td>68</td>\n",
       "    </tr>\n",
       "    <tr>\n",
       "      <th>11</th>\n",
       "      <td>542</td>\n",
       "      <td>985</td>\n",
       "      <td>62</td>\n",
       "      <td>15</td>\n",
       "    </tr>\n",
       "    <tr>\n",
       "      <th>12</th>\n",
       "      <td>364</td>\n",
       "      <td>264</td>\n",
       "      <td>32</td>\n",
       "      <td>85</td>\n",
       "    </tr>\n",
       "  </tbody>\n",
       "</table>\n",
       "</div>"
      ],
      "text/plain": [
       "      X    Y   Z   W\n",
       "0   300  600  10  56\n",
       "1   500  320  23  41\n",
       "2   600  152  65  25\n",
       "3   450  850  48   8\n",
       "4   236  475  75  26\n",
       "5    98  362  60  32\n",
       "6    50  254  23  74\n",
       "7    94  100  89   6\n",
       "8   855  236   5  72\n",
       "9   266   50  12  29\n",
       "10  152  623  82  68\n",
       "11  542  985  62  15\n",
       "12  364  264  32  85"
      ]
     },
     "execution_count": 196,
     "metadata": {},
     "output_type": "execute_result"
    }
   ],
   "source": [
    "puntos = pd.read_csv('plot_3D.csv', sep = ';')\n",
    "puntos\n"
   ]
  },
  {
   "cell_type": "code",
   "execution_count": 197,
   "metadata": {
    "pycharm": {
     "name": "#%%\n"
    }
   },
   "outputs": [
    {
     "name": "stderr",
     "output_type": "stream",
     "text": [
      "/home/ceiecubuntu/anaconda3/envs/tensorflow/lib/python3.6/site-packages/matplotlib/cbook/deprecation.py:107: MatplotlibDeprecationWarning: Adding an axes using the same arguments as a previous axes currently reuses the earlier instance.  In a future version, a new instance will always be created and returned.  Meanwhile, this warning can be suppressed, and the future behavior ensured, by passing a unique label to each axes instance.\n",
      "  warnings.warn(message, mplDeprecation, stacklevel=1)\n"
     ]
    },
    {
     "data": {
      "image/png": "[encoded data removed]",
      "text/plain": [
       "<Figure size 432x288 with 1 Axes>"
      ]
     },
     "metadata": {},
     "output_type": "display_data"
    }
   ],
   "source": [
    "from mpl_toolkits.mplot3d import Axes3D\n",
    "fig=plt.figure()\n",
    "ax = Axes3D(fig)\n",
    "ax.scatter(puntos['X'],puntos['Y'],puntos['Z'], c = 'green')\n",
    "ax.scatter(puntos['X'],puntos['Y'],puntos['W'], c = 'red')\n",
    "ax.set_xlabel('X')\n",
    "ax.set_ylabel('Y')\n",
    "ax.set_zlabel('Z')\n",
    "fig.add_axes(ax)\n",
    "plt.show()"
   ]
  },
  {
   "cell_type": "code",
   "execution_count": null,
   "metadata": {
    "pycharm": {
     "name": "#%%\n"
    }
   },
   "outputs": [],
   "source": []
  }
 ],
 "metadata": {
  "kernelspec": {
   "display_name": "Python 3 (ipykernel)",
   "language": "python",
   "name": "python3"
  },
  "language_info": {
   "codemirror_mode": {
    "name": "ipython",
    "version": 3
   },
   "file_extension": ".py",
   "mimetype": "text/x-python",
   "name": "python",
   "nbconvert_exporter": "python",
   "pygments_lexer": "ipython3",
   "version": "3.9.7"
  }
 },
 "nbformat": 4,
 "nbformat_minor": 4
}
