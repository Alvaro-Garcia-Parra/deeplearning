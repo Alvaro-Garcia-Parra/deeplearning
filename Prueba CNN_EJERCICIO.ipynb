{
  "nbformat": 4,
  "nbformat_minor": 0,
  "metadata": {
    "colab": {
      "name": "4_1_Redes Neuronales Convolucionales.ipynb",
      "provenance": [],
      "include_colab_link": true
    },
    "kernelspec": {
      "name": "python3",
      "display_name": "Python 3"
    },
    "language_info": {
      "name": "python"
    },
    "accelerator": "GPU"
  },
  "cells": [
    {
      "cell_type": "markdown",
      "metadata": {
        "id": "view-in-github",
        "colab_type": "text"
      },
      "source": [
        "<a href=\"https://colab.research.google.com/github/carlosrabazo/deeplearning/blob/main/Prueba%20CNN_EJERCICIO.ipynb\" target=\"_parent\"><img src=\"https://colab.research.google.com/assets/colab-badge.svg\" alt=\"Open In Colab\"/></a>"
      ]
    },
    {
      "cell_type": "code",
      "metadata": {
        "colab": {
          "base_uri": "https://localhost:8080/"
        },
        "id": "p1JMu4L_k8BQ",
        "outputId": "fd29ca89-e321-4df7-936b-d4b90b6d826e"
      },
      "source": [
        "%tensorflow_version 2.x\n",
        "import tensorflow as tf\n",
        "from tensorflow import keras\n",
        "\n",
        "import numpy as np\n",
        "import matplotlib.pyplot as plt\n",
        "\n",
        "print(tf.__version__)#\n",
        "\n",
        "from tensorflow.keras.models import Sequential\n",
        "from tensorflow.keras.layers import Dense, Flatten, Conv2D, MaxPooling2D\n",
        "from tensorflow.keras.losses import sparse_categorical_crossentropy\n",
        "from tensorflow.keras.optimizers import Adam\n",
        "import matplotlib.pyplot as plt"
      ],
      "execution_count": 8,
      "outputs": [
        {
          "output_type": "stream",
          "name": "stdout",
          "text": [
            "Colab only includes TensorFlow 2.x; %tensorflow_version has no effect.\n",
            "2.9.2\n"
          ]
        }
      ]
    },
    {
      "cell_type": "code",
      "source": [
        "# Configuración del modelo\n",
        "batch_size = 50\n",
        "img_width, img_height, img_num_channels = 32, 32, 3\n",
        "loss_function = sparse_categorical_crossentropy\n",
        "no_classes = 100\n",
        "no_epochs = 100\n",
        "optimizer = Adam()\n",
        "validation_split = 0.2\n",
        "verbosity = 1\n",
        "input_shape = (img_width, img_height, img_num_channels)"
      ],
      "metadata": {
        "id": "Cx1h0M9937wH"
      },
      "execution_count": 15,
      "outputs": []
    },
    {
      "cell_type": "code",
      "source": [
        "(train_images, train_labels), (test_images, test_labels) = tf.keras.datasets.cifar100.load_data(label_mode=\"fine\")\n",
        "# CIFAR: https://www.cs.toronto.edu/~kriz/cifar.html\n",
        "assert train_images.shape == (50000, 32, 32, 3)\n",
        "assert test_images.shape == (10000, 32, 32, 3)\n",
        "assert train_labels.shape == (50000, 1)\n",
        "assert test_labels.shape == (10000, 1)"
      ],
      "metadata": {
        "id": "PtGw6L5Uwo_W"
      },
      "execution_count": 10,
      "outputs": []
    },
    {
      "cell_type": "code",
      "source": [
        "import matplotlib.pyplot as plt\n",
        "digit = train_images[2]\n",
        "plt.imshow(digit, cmap=plt.cm.binary)\n",
        "plt.show()"
      ],
      "metadata": {
        "colab": {
          "base_uri": "https://localhost:8080/",
          "height": 266
        },
        "id": "UtD7I1sjyOb6",
        "outputId": "77c1a92f-8fc7-4dea-8cc0-a91ce02bd2a2"
      },
      "execution_count": 11,
      "outputs": [
        {
          "output_type": "display_data",
          "data": {
            "text/plain": [
              "<Figure size 432x288 with 1 Axes>"
            ],
            "image/png": "[encoded data removed]"
          },
          "metadata": {
            "needs_background": "light"
          }
        }
      ]
    },
    {
      "cell_type": "code",
      "source": [
        "print(train_images[2].shape)\n",
        "print(train_images[2])"
      ],
      "metadata": {
        "colab": {
          "base_uri": "https://localhost:8080/"
        },
        "id": "ydrKxRa1zW2F",
        "outputId": "d1ca8ede-5019-4905-b3b4-30296a6f4346"
      },
      "execution_count": 12,
      "outputs": [
        {
          "output_type": "stream",
          "name": "stdout",
          "text": [
            "(32, 32, 3)\n",
            "[[[250 250 248]\n",
            "  [248 249 243]\n",
            "  [247 248 239]\n",
            "  ...\n",
            "  [250 250 246]\n",
            "  [250 250 246]\n",
            "  [249 250 246]]\n",
            "\n",
            " [[250 251 245]\n",
            "  [248 249 238]\n",
            "  [247 247 234]\n",
            "  ...\n",
            "  [251 251 242]\n",
            "  [251 252 243]\n",
            "  [250 251 243]]\n",
            "\n",
            " [[251 251 244]\n",
            "  [250 248 237]\n",
            "  [250 245 233]\n",
            "  ...\n",
            "  [250 249 238]\n",
            "  [250 249 240]\n",
            "  [250 249 242]]\n",
            "\n",
            " ...\n",
            "\n",
            " [[221 213 191]\n",
            "  [221 206 176]\n",
            "  [225 207 181]\n",
            "  ...\n",
            "  [199 176 134]\n",
            "  [207 193 165]\n",
            "  [233 229 226]]\n",
            "\n",
            " [[225 223 204]\n",
            "  [227 219 196]\n",
            "  [229 216 200]\n",
            "  ...\n",
            "  [204 185 151]\n",
            "  [212 201 180]\n",
            "  [234 232 228]]\n",
            "\n",
            " [[233 233 226]\n",
            "  [234 232 224]\n",
            "  [235 230 225]\n",
            "  ...\n",
            "  [219 209 194]\n",
            "  [223 216 207]\n",
            "  [232 230 228]]]\n"
          ]
        }
      ]
    },
    {
      "cell_type": "code",
      "source": [
        "from keras.utils.np_utils import to_categorical\n",
        "train_images = train_images.astype('float32') / 255\n",
        "test_images = test_images.astype('float32') / 255\n",
        "\n",
        "print (train_images.shape)\n",
        "print (train_labels.shape)"
      ],
      "metadata": {
        "colab": {
          "base_uri": "https://localhost:8080/"
        },
        "id": "_KuY5YLwxNyi",
        "outputId": "174ab95a-98f9-4568-ca2a-d1a0306b82c1"
      },
      "execution_count": 13,
      "outputs": [
        {
          "output_type": "stream",
          "name": "stdout",
          "text": [
            "(50000, 32, 32, 3)\n",
            "(50000, 1)\n"
          ]
        }
      ]
    },
    {
      "cell_type": "code",
      "metadata": {
        "colab": {
          "base_uri": "https://localhost:8080/"
        },
        "id": "-uOOAaPim-lb",
        "outputId": "014448dc-e000-4ec3-d232-3e213aed482c"
      },
      "source": [
        "# Crear el Modelo\n",
        "model = Sequential()\n",
        "model.add(Conv2D(32, kernel_size=(3, 3), activation='relu', input_shape=input_shape))\n",
        "model.add(MaxPooling2D(pool_size=(2, 2)))\n",
        "model.add(Conv2D(64, kernel_size=(3, 3), activation='relu'))\n",
        "model.add(MaxPooling2D(pool_size=(2, 2)))\n",
        "model.add(Conv2D(128, kernel_size=(3, 3), activation='relu'))\n",
        "model.add(MaxPooling2D(pool_size=(2, 2)))\n",
        "model.add(Flatten())\n",
        "model.add(Dense(256, activation='relu'))\n",
        "model.add(Dense(128, activation='relu'))\n",
        "model.add(Dense(no_classes, activation='softmax'))\n",
        "model.summary()"
      ],
      "execution_count": 17,
      "outputs": [
        {
          "output_type": "stream",
          "name": "stdout",
          "text": [
            "Model: \"sequential_2\"\n",
            "_________________________________________________________________\n",
            " Layer (type)                Output Shape              Param #   \n",
            "=================================================================\n",
            " conv2d_3 (Conv2D)           (None, 30, 30, 32)        896       \n",
            "                                                                 \n",
            " max_pooling2d_3 (MaxPooling  (None, 15, 15, 32)       0         \n",
            " 2D)                                                             \n",
            "                                                                 \n",
            " conv2d_4 (Conv2D)           (None, 13, 13, 64)        18496     \n",
            "                                                                 \n",
            " max_pooling2d_4 (MaxPooling  (None, 6, 6, 64)         0         \n",
            " 2D)                                                             \n",
            "                                                                 \n",
            " conv2d_5 (Conv2D)           (None, 4, 4, 128)         73856     \n",
            "                                                                 \n",
            " max_pooling2d_5 (MaxPooling  (None, 2, 2, 128)        0         \n",
            " 2D)                                                             \n",
            "                                                                 \n",
            " flatten_1 (Flatten)         (None, 512)               0         \n",
            "                                                                 \n",
            " dense_3 (Dense)             (None, 256)               131328    \n",
            "                                                                 \n",
            " dense_4 (Dense)             (None, 128)               32896     \n",
            "                                                                 \n",
            " dense_5 (Dense)             (None, 100)               12900     \n",
            "                                                                 \n",
            "=================================================================\n",
            "Total params: 270,372\n",
            "Trainable params: 270,372\n",
            "Non-trainable params: 0\n",
            "_________________________________________________________________\n"
          ]
        }
      ]
    },
    {
      "cell_type": "code",
      "metadata": {
        "colab": {
          "base_uri": "https://localhost:8080/"
        },
        "id": "-BvS9iDO9_uz",
        "outputId": "1f81d2c7-3d47-448b-984f-6159a19e0f2c"
      },
      "source": [
        "# Compilamos el modelo\n",
        "model.compile(loss=loss_function,\n",
        "              optimizer=optimizer,\n",
        "              metrics=['accuracy'])\n",
        "\n",
        "# Fit data to model\n",
        "history = model.fit(train_images, train_labels,\n",
        "            batch_size=batch_size,\n",
        "            epochs=no_epochs,\n",
        "            verbose=verbosity,\n",
        "            validation_split=validation_split)"
      ],
      "execution_count": 18,
      "outputs": [
        {
          "output_type": "stream",
          "name": "stdout",
          "text": [
            "Epoch 1/100\n",
            "800/800 [==============================] - 13s 5ms/step - loss: 4.0480 - accuracy: 0.0751 - val_loss: 3.6256 - val_accuracy: 0.1385\n",
            "Epoch 2/100\n",
            "800/800 [==============================] - 4s 5ms/step - loss: 3.3804 - accuracy: 0.1836 - val_loss: 3.2368 - val_accuracy: 0.2136\n",
            "Epoch 3/100\n",
            "800/800 [==============================] - 4s 5ms/step - loss: 3.0452 - accuracy: 0.2472 - val_loss: 3.0345 - val_accuracy: 0.2527\n",
            "Epoch 4/100\n",
            "800/800 [==============================] - 4s 4ms/step - loss: 2.8078 - accuracy: 0.2919 - val_loss: 2.8486 - val_accuracy: 0.2890\n",
            "Epoch 5/100\n",
            "800/800 [==============================] - 4s 5ms/step - loss: 2.6049 - accuracy: 0.3307 - val_loss: 2.7530 - val_accuracy: 0.3080\n",
            "Epoch 6/100\n",
            "800/800 [==============================] - 4s 5ms/step - loss: 2.4386 - accuracy: 0.3671 - val_loss: 2.6795 - val_accuracy: 0.3276\n",
            "Epoch 7/100\n",
            "800/800 [==============================] - 4s 5ms/step - loss: 2.2902 - accuracy: 0.3986 - val_loss: 2.6657 - val_accuracy: 0.3308\n",
            "Epoch 8/100\n",
            "800/800 [==============================] - 4s 5ms/step - loss: 2.1576 - accuracy: 0.4260 - val_loss: 2.6229 - val_accuracy: 0.3490\n",
            "Epoch 9/100\n",
            "800/800 [==============================] - 5s 6ms/step - loss: 2.0374 - accuracy: 0.4531 - val_loss: 2.6275 - val_accuracy: 0.3496\n",
            "Epoch 10/100\n",
            "800/800 [==============================] - 4s 5ms/step - loss: 1.9230 - accuracy: 0.4781 - val_loss: 2.6666 - val_accuracy: 0.3474\n",
            "Epoch 11/100\n",
            "800/800 [==============================] - 4s 5ms/step - loss: 1.8210 - accuracy: 0.4999 - val_loss: 2.7194 - val_accuracy: 0.3529\n",
            "Epoch 12/100\n",
            "800/800 [==============================] - 4s 4ms/step - loss: 1.7096 - accuracy: 0.5265 - val_loss: 2.7321 - val_accuracy: 0.3612\n",
            "Epoch 13/100\n",
            "800/800 [==============================] - 4s 4ms/step - loss: 1.6078 - accuracy: 0.5490 - val_loss: 2.7849 - val_accuracy: 0.3578\n",
            "Epoch 14/100\n",
            "800/800 [==============================] - 4s 4ms/step - loss: 1.5099 - accuracy: 0.5748 - val_loss: 2.8742 - val_accuracy: 0.3493\n",
            "Epoch 15/100\n",
            "800/800 [==============================] - 4s 4ms/step - loss: 1.4199 - accuracy: 0.5957 - val_loss: 2.9264 - val_accuracy: 0.3589\n",
            "Epoch 16/100\n",
            "800/800 [==============================] - 4s 5ms/step - loss: 1.3347 - accuracy: 0.6188 - val_loss: 3.0579 - val_accuracy: 0.3520\n",
            "Epoch 17/100\n",
            "800/800 [==============================] - 4s 5ms/step - loss: 1.2532 - accuracy: 0.6371 - val_loss: 3.1614 - val_accuracy: 0.3517\n",
            "Epoch 18/100\n",
            "800/800 [==============================] - 4s 4ms/step - loss: 1.1799 - accuracy: 0.6518 - val_loss: 3.2634 - val_accuracy: 0.3437\n",
            "Epoch 19/100\n",
            "800/800 [==============================] - 3s 4ms/step - loss: 1.1056 - accuracy: 0.6711 - val_loss: 3.4129 - val_accuracy: 0.3508\n",
            "Epoch 20/100\n",
            "800/800 [==============================] - 4s 5ms/step - loss: 1.0316 - accuracy: 0.6938 - val_loss: 3.5069 - val_accuracy: 0.3471\n",
            "Epoch 21/100\n",
            "800/800 [==============================] - 4s 5ms/step - loss: 0.9738 - accuracy: 0.7076 - val_loss: 3.6637 - val_accuracy: 0.3414\n",
            "Epoch 22/100\n",
            "800/800 [==============================] - 4s 5ms/step - loss: 0.9136 - accuracy: 0.7244 - val_loss: 3.8515 - val_accuracy: 0.3341\n",
            "Epoch 23/100\n",
            "800/800 [==============================] - 4s 5ms/step - loss: 0.8454 - accuracy: 0.7408 - val_loss: 3.8776 - val_accuracy: 0.3376\n",
            "Epoch 24/100\n",
            "800/800 [==============================] - 4s 5ms/step - loss: 0.7926 - accuracy: 0.7548 - val_loss: 4.1710 - val_accuracy: 0.3303\n",
            "Epoch 25/100\n",
            "800/800 [==============================] - 4s 4ms/step - loss: 0.7550 - accuracy: 0.7662 - val_loss: 4.1882 - val_accuracy: 0.3364\n",
            "Epoch 26/100\n",
            "800/800 [==============================] - 4s 5ms/step - loss: 0.7049 - accuracy: 0.7768 - val_loss: 4.4369 - val_accuracy: 0.3296\n",
            "Epoch 27/100\n",
            "800/800 [==============================] - 4s 5ms/step - loss: 0.6732 - accuracy: 0.7875 - val_loss: 4.6265 - val_accuracy: 0.3315\n",
            "Epoch 28/100\n",
            "800/800 [==============================] - 4s 5ms/step - loss: 0.6185 - accuracy: 0.8036 - val_loss: 4.8812 - val_accuracy: 0.3306\n",
            "Epoch 29/100\n",
            "800/800 [==============================] - 4s 4ms/step - loss: 0.6073 - accuracy: 0.8043 - val_loss: 5.1634 - val_accuracy: 0.3225\n",
            "Epoch 30/100\n",
            "800/800 [==============================] - 4s 5ms/step - loss: 0.5648 - accuracy: 0.8190 - val_loss: 5.2011 - val_accuracy: 0.3189\n",
            "Epoch 31/100\n",
            "800/800 [==============================] - 4s 5ms/step - loss: 0.5304 - accuracy: 0.8276 - val_loss: 5.4216 - val_accuracy: 0.3264\n",
            "Epoch 32/100\n",
            "800/800 [==============================] - 4s 4ms/step - loss: 0.5187 - accuracy: 0.8306 - val_loss: 5.4499 - val_accuracy: 0.3280\n",
            "Epoch 33/100\n",
            "800/800 [==============================] - 3s 4ms/step - loss: 0.4921 - accuracy: 0.8401 - val_loss: 5.8380 - val_accuracy: 0.3206\n",
            "Epoch 34/100\n",
            "800/800 [==============================] - 4s 5ms/step - loss: 0.4773 - accuracy: 0.8447 - val_loss: 5.8772 - val_accuracy: 0.3251\n",
            "Epoch 35/100\n",
            "800/800 [==============================] - 4s 5ms/step - loss: 0.4424 - accuracy: 0.8534 - val_loss: 6.0965 - val_accuracy: 0.3216\n",
            "Epoch 36/100\n",
            "800/800 [==============================] - 4s 5ms/step - loss: 0.4567 - accuracy: 0.8500 - val_loss: 6.2383 - val_accuracy: 0.3217\n",
            "Epoch 37/100\n",
            "800/800 [==============================] - 4s 5ms/step - loss: 0.4201 - accuracy: 0.8626 - val_loss: 6.3944 - val_accuracy: 0.3194\n",
            "Epoch 38/100\n",
            "800/800 [==============================] - 4s 5ms/step - loss: 0.3960 - accuracy: 0.8686 - val_loss: 6.6714 - val_accuracy: 0.3180\n",
            "Epoch 39/100\n",
            "800/800 [==============================] - 4s 5ms/step - loss: 0.4161 - accuracy: 0.8637 - val_loss: 6.7061 - val_accuracy: 0.3181\n",
            "Epoch 40/100\n",
            "800/800 [==============================] - 4s 4ms/step - loss: 0.3996 - accuracy: 0.8681 - val_loss: 6.8268 - val_accuracy: 0.3150\n",
            "Epoch 41/100\n",
            "800/800 [==============================] - 5s 6ms/step - loss: 0.4025 - accuracy: 0.8676 - val_loss: 6.7731 - val_accuracy: 0.3233\n",
            "Epoch 42/100\n",
            "800/800 [==============================] - 4s 5ms/step - loss: 0.3829 - accuracy: 0.8734 - val_loss: 7.1648 - val_accuracy: 0.3114\n",
            "Epoch 43/100\n",
            "800/800 [==============================] - 4s 5ms/step - loss: 0.3599 - accuracy: 0.8830 - val_loss: 7.3222 - val_accuracy: 0.3115\n",
            "Epoch 44/100\n",
            "800/800 [==============================] - 5s 6ms/step - loss: 0.3832 - accuracy: 0.8754 - val_loss: 7.2974 - val_accuracy: 0.3152\n",
            "Epoch 45/100\n",
            "800/800 [==============================] - 5s 6ms/step - loss: 0.3870 - accuracy: 0.8751 - val_loss: 7.3875 - val_accuracy: 0.3148\n",
            "Epoch 46/100\n",
            "800/800 [==============================] - 5s 6ms/step - loss: 0.3508 - accuracy: 0.8864 - val_loss: 7.4051 - val_accuracy: 0.3118\n",
            "Epoch 47/100\n",
            "800/800 [==============================] - 5s 6ms/step - loss: 0.3221 - accuracy: 0.8940 - val_loss: 7.8284 - val_accuracy: 0.3192\n",
            "Epoch 48/100\n",
            "800/800 [==============================] - 5s 6ms/step - loss: 0.3448 - accuracy: 0.8900 - val_loss: 7.6498 - val_accuracy: 0.3107\n",
            "Epoch 49/100\n",
            "800/800 [==============================] - 5s 6ms/step - loss: 0.3505 - accuracy: 0.8858 - val_loss: 7.8874 - val_accuracy: 0.3150\n",
            "Epoch 50/100\n",
            "800/800 [==============================] - 5s 6ms/step - loss: 0.3361 - accuracy: 0.8910 - val_loss: 8.0997 - val_accuracy: 0.3157\n",
            "Epoch 51/100\n",
            "800/800 [==============================] - 5s 7ms/step - loss: 0.3139 - accuracy: 0.8993 - val_loss: 8.1327 - val_accuracy: 0.3104\n",
            "Epoch 52/100\n",
            "800/800 [==============================] - 4s 4ms/step - loss: 0.3335 - accuracy: 0.8942 - val_loss: 8.2912 - val_accuracy: 0.3094\n",
            "Epoch 53/100\n",
            "800/800 [==============================] - 4s 4ms/step - loss: 0.3354 - accuracy: 0.8920 - val_loss: 8.3625 - val_accuracy: 0.3087\n",
            "Epoch 54/100\n",
            "800/800 [==============================] - 4s 4ms/step - loss: 0.3233 - accuracy: 0.8972 - val_loss: 8.2653 - val_accuracy: 0.3136\n",
            "Epoch 55/100\n",
            "800/800 [==============================] - 4s 5ms/step - loss: 0.3153 - accuracy: 0.9010 - val_loss: 8.6845 - val_accuracy: 0.3139\n",
            "Epoch 56/100\n",
            "800/800 [==============================] - 4s 5ms/step - loss: 0.3349 - accuracy: 0.8943 - val_loss: 8.6631 - val_accuracy: 0.3078\n",
            "Epoch 57/100\n",
            "800/800 [==============================] - 4s 5ms/step - loss: 0.3032 - accuracy: 0.9038 - val_loss: 8.4316 - val_accuracy: 0.3087\n",
            "Epoch 58/100\n",
            "800/800 [==============================] - 4s 4ms/step - loss: 0.2858 - accuracy: 0.9093 - val_loss: 9.0553 - val_accuracy: 0.3139\n",
            "Epoch 59/100\n",
            "800/800 [==============================] - 4s 4ms/step - loss: 0.3207 - accuracy: 0.8992 - val_loss: 9.0132 - val_accuracy: 0.3107\n",
            "Epoch 60/100\n",
            "800/800 [==============================] - 4s 4ms/step - loss: 0.3233 - accuracy: 0.8992 - val_loss: 9.3069 - val_accuracy: 0.3096\n",
            "Epoch 61/100\n",
            "800/800 [==============================] - 4s 5ms/step - loss: 0.3097 - accuracy: 0.9038 - val_loss: 9.1284 - val_accuracy: 0.3059\n",
            "Epoch 62/100\n",
            "800/800 [==============================] - 3s 4ms/step - loss: 0.2986 - accuracy: 0.9078 - val_loss: 9.3212 - val_accuracy: 0.3124\n",
            "Epoch 63/100\n",
            "800/800 [==============================] - 4s 4ms/step - loss: 0.3087 - accuracy: 0.9044 - val_loss: 9.0876 - val_accuracy: 0.3067\n",
            "Epoch 64/100\n",
            "800/800 [==============================] - 4s 5ms/step - loss: 0.3031 - accuracy: 0.9043 - val_loss: 9.3821 - val_accuracy: 0.3098\n",
            "Epoch 65/100\n",
            "800/800 [==============================] - 4s 5ms/step - loss: 0.2797 - accuracy: 0.9123 - val_loss: 9.7531 - val_accuracy: 0.3067\n",
            "Epoch 66/100\n",
            "800/800 [==============================] - 4s 5ms/step - loss: 0.2957 - accuracy: 0.9087 - val_loss: 9.5599 - val_accuracy: 0.3101\n",
            "Epoch 67/100\n",
            "800/800 [==============================] - 4s 5ms/step - loss: 0.3288 - accuracy: 0.8998 - val_loss: 9.7137 - val_accuracy: 0.3069\n",
            "Epoch 68/100\n",
            "800/800 [==============================] - 4s 5ms/step - loss: 0.2768 - accuracy: 0.9149 - val_loss: 9.7184 - val_accuracy: 0.3102\n",
            "Epoch 69/100\n",
            "800/800 [==============================] - 4s 5ms/step - loss: 0.3084 - accuracy: 0.9069 - val_loss: 9.5586 - val_accuracy: 0.3059\n",
            "Epoch 70/100\n",
            "800/800 [==============================] - 4s 5ms/step - loss: 0.2715 - accuracy: 0.9158 - val_loss: 9.9566 - val_accuracy: 0.3067\n",
            "Epoch 71/100\n",
            "800/800 [==============================] - 3s 4ms/step - loss: 0.2880 - accuracy: 0.9120 - val_loss: 9.9405 - val_accuracy: 0.3099\n",
            "Epoch 72/100\n",
            "800/800 [==============================] - 4s 5ms/step - loss: 0.3066 - accuracy: 0.9074 - val_loss: 9.8473 - val_accuracy: 0.3136\n",
            "Epoch 73/100\n",
            "800/800 [==============================] - 4s 4ms/step - loss: 0.2840 - accuracy: 0.9157 - val_loss: 10.0056 - val_accuracy: 0.3091\n",
            "Epoch 74/100\n",
            "800/800 [==============================] - 4s 4ms/step - loss: 0.2950 - accuracy: 0.9117 - val_loss: 9.9914 - val_accuracy: 0.3081\n",
            "Epoch 75/100\n",
            "800/800 [==============================] - 4s 4ms/step - loss: 0.2779 - accuracy: 0.9151 - val_loss: 10.1233 - val_accuracy: 0.3095\n",
            "Epoch 76/100\n",
            "800/800 [==============================] - 4s 4ms/step - loss: 0.2760 - accuracy: 0.9144 - val_loss: 10.3462 - val_accuracy: 0.3088\n",
            "Epoch 77/100\n",
            "800/800 [==============================] - 4s 5ms/step - loss: 0.2876 - accuracy: 0.9148 - val_loss: 10.3383 - val_accuracy: 0.3106\n",
            "Epoch 78/100\n",
            "800/800 [==============================] - 5s 6ms/step - loss: 0.2799 - accuracy: 0.9162 - val_loss: 10.4463 - val_accuracy: 0.3120\n",
            "Epoch 79/100\n",
            "800/800 [==============================] - 4s 5ms/step - loss: 0.3050 - accuracy: 0.9101 - val_loss: 10.5490 - val_accuracy: 0.3032\n",
            "Epoch 80/100\n",
            "800/800 [==============================] - 4s 4ms/step - loss: 0.2784 - accuracy: 0.9160 - val_loss: 10.4316 - val_accuracy: 0.3045\n",
            "Epoch 81/100\n",
            "800/800 [==============================] - 4s 4ms/step - loss: 0.2514 - accuracy: 0.9245 - val_loss: 10.7871 - val_accuracy: 0.3039\n",
            "Epoch 82/100\n",
            "800/800 [==============================] - 4s 5ms/step - loss: 0.3007 - accuracy: 0.9108 - val_loss: 10.4815 - val_accuracy: 0.3074\n",
            "Epoch 83/100\n",
            "800/800 [==============================] - 4s 5ms/step - loss: 0.2740 - accuracy: 0.9189 - val_loss: 10.7982 - val_accuracy: 0.3102\n",
            "Epoch 84/100\n",
            "800/800 [==============================] - 4s 5ms/step - loss: 0.2989 - accuracy: 0.9122 - val_loss: 10.5986 - val_accuracy: 0.3069\n",
            "Epoch 85/100\n",
            "800/800 [==============================] - 4s 5ms/step - loss: 0.2728 - accuracy: 0.9197 - val_loss: 11.0166 - val_accuracy: 0.3117\n",
            "Epoch 86/100\n",
            "800/800 [==============================] - 4s 5ms/step - loss: 0.2691 - accuracy: 0.9210 - val_loss: 11.0993 - val_accuracy: 0.3041\n",
            "Epoch 87/100\n",
            "800/800 [==============================] - 4s 5ms/step - loss: 0.3018 - accuracy: 0.9129 - val_loss: 10.9095 - val_accuracy: 0.3085\n",
            "Epoch 88/100\n",
            "800/800 [==============================] - 4s 4ms/step - loss: 0.2571 - accuracy: 0.9251 - val_loss: 10.9603 - val_accuracy: 0.3017\n",
            "Epoch 89/100\n",
            "800/800 [==============================] - 4s 4ms/step - loss: 0.2828 - accuracy: 0.9187 - val_loss: 11.5940 - val_accuracy: 0.3048\n",
            "Epoch 90/100\n",
            "800/800 [==============================] - 4s 5ms/step - loss: 0.2674 - accuracy: 0.9223 - val_loss: 11.4586 - val_accuracy: 0.3045\n",
            "Epoch 91/100\n",
            "800/800 [==============================] - 4s 5ms/step - loss: 0.2719 - accuracy: 0.9205 - val_loss: 11.1972 - val_accuracy: 0.3075\n",
            "Epoch 92/100\n",
            "800/800 [==============================] - 5s 6ms/step - loss: 0.2473 - accuracy: 0.9281 - val_loss: 11.2920 - val_accuracy: 0.3035\n",
            "Epoch 93/100\n",
            "800/800 [==============================] - 4s 4ms/step - loss: 0.2870 - accuracy: 0.9180 - val_loss: 10.8394 - val_accuracy: 0.3012\n",
            "Epoch 94/100\n",
            "800/800 [==============================] - 4s 5ms/step - loss: 0.2945 - accuracy: 0.9162 - val_loss: 11.4121 - val_accuracy: 0.3012\n",
            "Epoch 95/100\n",
            "800/800 [==============================] - 4s 4ms/step - loss: 0.2575 - accuracy: 0.9256 - val_loss: 11.9103 - val_accuracy: 0.3084\n",
            "Epoch 96/100\n",
            "800/800 [==============================] - 4s 5ms/step - loss: 0.2924 - accuracy: 0.9181 - val_loss: 11.5660 - val_accuracy: 0.3059\n",
            "Epoch 97/100\n",
            "800/800 [==============================] - 4s 4ms/step - loss: 0.2483 - accuracy: 0.9272 - val_loss: 11.8278 - val_accuracy: 0.3050\n",
            "Epoch 98/100\n",
            "800/800 [==============================] - 4s 5ms/step - loss: 0.2682 - accuracy: 0.9227 - val_loss: 11.7517 - val_accuracy: 0.3042\n",
            "Epoch 99/100\n",
            "800/800 [==============================] - 4s 4ms/step - loss: 0.2793 - accuracy: 0.9201 - val_loss: 11.6527 - val_accuracy: 0.3082\n",
            "Epoch 100/100\n",
            "800/800 [==============================] - 4s 5ms/step - loss: 0.2659 - accuracy: 0.9241 - val_loss: 11.8853 - val_accuracy: 0.3045\n"
          ]
        }
      ]
    },
    {
      "cell_type": "code",
      "source": [
        "# Generamos las métricas de generalización\n",
        "score = model.evaluate(train_images, train_labels, verbose=0)\n",
        "print(f'Test loss: {score[0]} / Test accuracy: {score[1]}')\n",
        "\n",
        "# Visualizamos history\n",
        "# Pintamos history: Pérdida\n",
        "plt.plot(history.history['val_loss'])\n",
        "plt.title('Validation loss history')\n",
        "plt.ylabel('Loss value')\n",
        "plt.xlabel('No. epoch')\n",
        "plt.show()\n",
        "\n",
        "# Pintamos history: Precisión\n",
        "plt.plot(history.history['val_accuracy'])\n",
        "plt.title('Validation accuracy history')\n",
        "plt.ylabel('Accuracy value (%)')\n",
        "plt.xlabel('No. epoch')\n",
        "plt.show()"
      ],
      "metadata": {
        "colab": {
          "base_uri": "https://localhost:8080/",
          "height": 590
        },
        "id": "kAXGgyjN6AGh",
        "outputId": "d30ce25d-2d2f-467a-8fe1-763b98b5eb35"
      },
      "execution_count": 20,
      "outputs": [
        {
          "output_type": "stream",
          "name": "stdout",
          "text": [
            "Test loss: 2.6283624172210693 / Test accuracy: 0.791159987449646\n"
          ]
        },
        {
          "output_type": "display_data",
          "data": {
            "text/plain": [
              "<Figure size 432x288 with 1 Axes>"
            ],
            "image/png": "[encoded data removed]"
          },
          "metadata": {
            "needs_background": "light"
          }
        },
        {
          "output_type": "display_data",
          "data": {
            "text/plain": [
              "<Figure size 432x288 with 1 Axes>"
            ],
            "image/png": "[encoded data removed]"
          },
          "metadata": {
            "needs_background": "light"
          }
        }
      ]
    }
  ]
}